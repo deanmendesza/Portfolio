{
 "cells": [
  {
   "cell_type": "code",
   "execution_count": 1,
   "metadata": {},
   "outputs": [],
   "source": [
    "import pandas as pd\n",
    "import numpy as np\n",
    "import seaborn as sns\n",
    "import matplotlib.pyplot as plt\n",
    "\n",
    "# setting style\n",
    "sns.set_style('darkgrid')\n",
    "%matplotlib inline"
   ]
  },
  {
   "cell_type": "code",
   "execution_count": 2,
   "metadata": {},
   "outputs": [
    {
     "data": {
      "text/html": [
       "<div>\n",
       "<style scoped>\n",
       "    .dataframe tbody tr th:only-of-type {\n",
       "        vertical-align: middle;\n",
       "    }\n",
       "\n",
       "    .dataframe tbody tr th {\n",
       "        vertical-align: top;\n",
       "    }\n",
       "\n",
       "    .dataframe thead th {\n",
       "        text-align: right;\n",
       "    }\n",
       "</style>\n",
       "<table border=\"1\" class=\"dataframe\">\n",
       "  <thead>\n",
       "    <tr style=\"text-align: right;\">\n",
       "      <th></th>\n",
       "      <th>Pregnancies</th>\n",
       "      <th>Glucose</th>\n",
       "      <th>BloodPressure</th>\n",
       "      <th>SkinThickness</th>\n",
       "      <th>Insulin</th>\n",
       "      <th>BMI</th>\n",
       "      <th>DiabetesPedigreeFunction</th>\n",
       "      <th>Age</th>\n",
       "      <th>Outcome</th>\n",
       "    </tr>\n",
       "  </thead>\n",
       "  <tbody>\n",
       "    <tr>\n",
       "      <th>0</th>\n",
       "      <td>6</td>\n",
       "      <td>148</td>\n",
       "      <td>72</td>\n",
       "      <td>35</td>\n",
       "      <td>0</td>\n",
       "      <td>33.6</td>\n",
       "      <td>0.627</td>\n",
       "      <td>50</td>\n",
       "      <td>1</td>\n",
       "    </tr>\n",
       "    <tr>\n",
       "      <th>1</th>\n",
       "      <td>1</td>\n",
       "      <td>85</td>\n",
       "      <td>66</td>\n",
       "      <td>29</td>\n",
       "      <td>0</td>\n",
       "      <td>26.6</td>\n",
       "      <td>0.351</td>\n",
       "      <td>31</td>\n",
       "      <td>0</td>\n",
       "    </tr>\n",
       "    <tr>\n",
       "      <th>2</th>\n",
       "      <td>8</td>\n",
       "      <td>183</td>\n",
       "      <td>64</td>\n",
       "      <td>0</td>\n",
       "      <td>0</td>\n",
       "      <td>23.3</td>\n",
       "      <td>0.672</td>\n",
       "      <td>32</td>\n",
       "      <td>1</td>\n",
       "    </tr>\n",
       "    <tr>\n",
       "      <th>3</th>\n",
       "      <td>1</td>\n",
       "      <td>89</td>\n",
       "      <td>66</td>\n",
       "      <td>23</td>\n",
       "      <td>94</td>\n",
       "      <td>28.1</td>\n",
       "      <td>0.167</td>\n",
       "      <td>21</td>\n",
       "      <td>0</td>\n",
       "    </tr>\n",
       "    <tr>\n",
       "      <th>4</th>\n",
       "      <td>0</td>\n",
       "      <td>137</td>\n",
       "      <td>40</td>\n",
       "      <td>35</td>\n",
       "      <td>168</td>\n",
       "      <td>43.1</td>\n",
       "      <td>2.288</td>\n",
       "      <td>33</td>\n",
       "      <td>1</td>\n",
       "    </tr>\n",
       "  </tbody>\n",
       "</table>\n",
       "</div>"
      ],
      "text/plain": [
       "   Pregnancies  Glucose  BloodPressure  SkinThickness  Insulin   BMI  \\\n",
       "0            6      148             72             35        0  33.6   \n",
       "1            1       85             66             29        0  26.6   \n",
       "2            8      183             64              0        0  23.3   \n",
       "3            1       89             66             23       94  28.1   \n",
       "4            0      137             40             35      168  43.1   \n",
       "\n",
       "   DiabetesPedigreeFunction  Age  Outcome  \n",
       "0                     0.627   50        1  \n",
       "1                     0.351   31        0  \n",
       "2                     0.672   32        1  \n",
       "3                     0.167   21        0  \n",
       "4                     2.288   33        1  "
      ]
     },
     "execution_count": 2,
     "metadata": {},
     "output_type": "execute_result"
    }
   ],
   "source": [
    "# reading in data set\n",
    "df = pd.read_csv('diabetes.csv')\n",
    "df.head()"
   ]
  },
  {
   "cell_type": "markdown",
   "metadata": {},
   "source": [
    "## About the dataset  \n",
    "\n",
    "The dataset show several features namely:  \n",
    "* Pregnancies amounts  \n",
    "* Glucose Levels  \n",
    "* Blood Pressure  \n",
    "* Skin Thickness  \n",
    "* Insulin  \n",
    "* Body Mass Index (BMI)  \n",
    "* Diabetes Pedigree Function   \n",
    "* Age of patient  \n",
    "* Outcome (whether the patient has diabetes(1) or not(0)  \n",
    "\n",
    "The goal is to create a machine learning algorithm that can accurately predict if a patient has diabetes. The model should thus have a high recall rate (probability of detection). For this example, a K-Nearest Neighbor Classifier would be used.  \n"
   ]
  },
  {
   "cell_type": "markdown",
   "metadata": {},
   "source": [
    "## Data Preprocessing and intial analysis"
   ]
  },
  {
   "cell_type": "code",
   "execution_count": 3,
   "metadata": {},
   "outputs": [
    {
     "name": "stdout",
     "output_type": "stream",
     "text": [
      "<class 'pandas.core.frame.DataFrame'>\n",
      "RangeIndex: 768 entries, 0 to 767\n",
      "Data columns (total 9 columns):\n",
      "Pregnancies                 768 non-null int64\n",
      "Glucose                     768 non-null int64\n",
      "BloodPressure               768 non-null int64\n",
      "SkinThickness               768 non-null int64\n",
      "Insulin                     768 non-null int64\n",
      "BMI                         768 non-null float64\n",
      "DiabetesPedigreeFunction    768 non-null float64\n",
      "Age                         768 non-null int64\n",
      "Outcome                     768 non-null int64\n",
      "dtypes: float64(2), int64(7)\n",
      "memory usage: 54.1 KB\n"
     ]
    }
   ],
   "source": [
    "df.info()"
   ]
  },
  {
   "cell_type": "code",
   "execution_count": 4,
   "metadata": {},
   "outputs": [
    {
     "data": {
      "text/plain": [
       "(768, 9)"
      ]
     },
     "execution_count": 4,
     "metadata": {},
     "output_type": "execute_result"
    }
   ],
   "source": [
    "# shape of dataset\n",
    "df.shape"
   ]
  },
  {
   "cell_type": "code",
   "execution_count": 5,
   "metadata": {},
   "outputs": [
    {
     "data": {
      "text/plain": [
       "Pregnancies                 0\n",
       "Glucose                     0\n",
       "BloodPressure               0\n",
       "SkinThickness               0\n",
       "Insulin                     0\n",
       "BMI                         0\n",
       "DiabetesPedigreeFunction    0\n",
       "Age                         0\n",
       "Outcome                     0\n",
       "dtype: int64"
      ]
     },
     "execution_count": 5,
     "metadata": {},
     "output_type": "execute_result"
    }
   ],
   "source": [
    "# identify missing values \n",
    "df.isna().sum()"
   ]
  },
  {
   "cell_type": "code",
   "execution_count": 6,
   "metadata": {},
   "outputs": [
    {
     "data": {
      "text/html": [
       "<div>\n",
       "<style scoped>\n",
       "    .dataframe tbody tr th:only-of-type {\n",
       "        vertical-align: middle;\n",
       "    }\n",
       "\n",
       "    .dataframe tbody tr th {\n",
       "        vertical-align: top;\n",
       "    }\n",
       "\n",
       "    .dataframe thead th {\n",
       "        text-align: right;\n",
       "    }\n",
       "</style>\n",
       "<table border=\"1\" class=\"dataframe\">\n",
       "  <thead>\n",
       "    <tr style=\"text-align: right;\">\n",
       "      <th></th>\n",
       "      <th>count</th>\n",
       "      <th>mean</th>\n",
       "      <th>std</th>\n",
       "      <th>min</th>\n",
       "      <th>25%</th>\n",
       "      <th>50%</th>\n",
       "      <th>75%</th>\n",
       "      <th>max</th>\n",
       "    </tr>\n",
       "  </thead>\n",
       "  <tbody>\n",
       "    <tr>\n",
       "      <th>Pregnancies</th>\n",
       "      <td>768.0</td>\n",
       "      <td>3.845052</td>\n",
       "      <td>3.369578</td>\n",
       "      <td>0.000</td>\n",
       "      <td>1.00000</td>\n",
       "      <td>3.0000</td>\n",
       "      <td>6.00000</td>\n",
       "      <td>17.00</td>\n",
       "    </tr>\n",
       "    <tr>\n",
       "      <th>Glucose</th>\n",
       "      <td>768.0</td>\n",
       "      <td>120.894531</td>\n",
       "      <td>31.972618</td>\n",
       "      <td>0.000</td>\n",
       "      <td>99.00000</td>\n",
       "      <td>117.0000</td>\n",
       "      <td>140.25000</td>\n",
       "      <td>199.00</td>\n",
       "    </tr>\n",
       "    <tr>\n",
       "      <th>BloodPressure</th>\n",
       "      <td>768.0</td>\n",
       "      <td>69.105469</td>\n",
       "      <td>19.355807</td>\n",
       "      <td>0.000</td>\n",
       "      <td>62.00000</td>\n",
       "      <td>72.0000</td>\n",
       "      <td>80.00000</td>\n",
       "      <td>122.00</td>\n",
       "    </tr>\n",
       "    <tr>\n",
       "      <th>SkinThickness</th>\n",
       "      <td>768.0</td>\n",
       "      <td>20.536458</td>\n",
       "      <td>15.952218</td>\n",
       "      <td>0.000</td>\n",
       "      <td>0.00000</td>\n",
       "      <td>23.0000</td>\n",
       "      <td>32.00000</td>\n",
       "      <td>99.00</td>\n",
       "    </tr>\n",
       "    <tr>\n",
       "      <th>Insulin</th>\n",
       "      <td>768.0</td>\n",
       "      <td>79.799479</td>\n",
       "      <td>115.244002</td>\n",
       "      <td>0.000</td>\n",
       "      <td>0.00000</td>\n",
       "      <td>30.5000</td>\n",
       "      <td>127.25000</td>\n",
       "      <td>846.00</td>\n",
       "    </tr>\n",
       "    <tr>\n",
       "      <th>BMI</th>\n",
       "      <td>768.0</td>\n",
       "      <td>31.992578</td>\n",
       "      <td>7.884160</td>\n",
       "      <td>0.000</td>\n",
       "      <td>27.30000</td>\n",
       "      <td>32.0000</td>\n",
       "      <td>36.60000</td>\n",
       "      <td>67.10</td>\n",
       "    </tr>\n",
       "    <tr>\n",
       "      <th>DiabetesPedigreeFunction</th>\n",
       "      <td>768.0</td>\n",
       "      <td>0.471876</td>\n",
       "      <td>0.331329</td>\n",
       "      <td>0.078</td>\n",
       "      <td>0.24375</td>\n",
       "      <td>0.3725</td>\n",
       "      <td>0.62625</td>\n",
       "      <td>2.42</td>\n",
       "    </tr>\n",
       "    <tr>\n",
       "      <th>Age</th>\n",
       "      <td>768.0</td>\n",
       "      <td>33.240885</td>\n",
       "      <td>11.760232</td>\n",
       "      <td>21.000</td>\n",
       "      <td>24.00000</td>\n",
       "      <td>29.0000</td>\n",
       "      <td>41.00000</td>\n",
       "      <td>81.00</td>\n",
       "    </tr>\n",
       "    <tr>\n",
       "      <th>Outcome</th>\n",
       "      <td>768.0</td>\n",
       "      <td>0.348958</td>\n",
       "      <td>0.476951</td>\n",
       "      <td>0.000</td>\n",
       "      <td>0.00000</td>\n",
       "      <td>0.0000</td>\n",
       "      <td>1.00000</td>\n",
       "      <td>1.00</td>\n",
       "    </tr>\n",
       "  </tbody>\n",
       "</table>\n",
       "</div>"
      ],
      "text/plain": [
       "                          count        mean         std     min       25%  \\\n",
       "Pregnancies               768.0    3.845052    3.369578   0.000   1.00000   \n",
       "Glucose                   768.0  120.894531   31.972618   0.000  99.00000   \n",
       "BloodPressure             768.0   69.105469   19.355807   0.000  62.00000   \n",
       "SkinThickness             768.0   20.536458   15.952218   0.000   0.00000   \n",
       "Insulin                   768.0   79.799479  115.244002   0.000   0.00000   \n",
       "BMI                       768.0   31.992578    7.884160   0.000  27.30000   \n",
       "DiabetesPedigreeFunction  768.0    0.471876    0.331329   0.078   0.24375   \n",
       "Age                       768.0   33.240885   11.760232  21.000  24.00000   \n",
       "Outcome                   768.0    0.348958    0.476951   0.000   0.00000   \n",
       "\n",
       "                               50%        75%     max  \n",
       "Pregnancies                 3.0000    6.00000   17.00  \n",
       "Glucose                   117.0000  140.25000  199.00  \n",
       "BloodPressure              72.0000   80.00000  122.00  \n",
       "SkinThickness              23.0000   32.00000   99.00  \n",
       "Insulin                    30.5000  127.25000  846.00  \n",
       "BMI                        32.0000   36.60000   67.10  \n",
       "DiabetesPedigreeFunction    0.3725    0.62625    2.42  \n",
       "Age                        29.0000   41.00000   81.00  \n",
       "Outcome                     0.0000    1.00000    1.00  "
      ]
     },
     "execution_count": 6,
     "metadata": {},
     "output_type": "execute_result"
    }
   ],
   "source": [
    "df.describe().T"
   ]
  },
  {
   "cell_type": "markdown",
   "metadata": {},
   "source": [
    "#### From the above table, BMI, Glucose, BloodPressure, SkinThickness can't be zero. Thus replace with mean or drop row.   \n",
    "**However, Insulin values have a zero value but this possible because some patients may not be able to produce insulin**"
   ]
  },
  {
   "cell_type": "code",
   "execution_count": 7,
   "metadata": {},
   "outputs": [
    {
     "data": {
      "text/plain": [
       "(227, 9)"
      ]
     },
     "execution_count": 7,
     "metadata": {},
     "output_type": "execute_result"
    }
   ],
   "source": [
    "# show rows and columns of dataframe where skin thickness = 0\n",
    "df[df['SkinThickness']==0].shape"
   ]
  },
  {
   "cell_type": "code",
   "execution_count": 8,
   "metadata": {},
   "outputs": [
    {
     "data": {
      "text/plain": [
       "(11, 9)"
      ]
     },
     "execution_count": 8,
     "metadata": {},
     "output_type": "execute_result"
    }
   ],
   "source": [
    "# show rows and columns of dataframe where BMI = 0\n",
    "df[df['BMI']==0].shape"
   ]
  },
  {
   "cell_type": "code",
   "execution_count": 9,
   "metadata": {},
   "outputs": [
    {
     "data": {
      "text/plain": [
       "(35, 9)"
      ]
     },
     "execution_count": 9,
     "metadata": {},
     "output_type": "execute_result"
    }
   ],
   "source": [
    "# show rows and columns of dataframe where blood pressure = 0\n",
    "df[df['BloodPressure']==0].shape"
   ]
  },
  {
   "cell_type": "code",
   "execution_count": 10,
   "metadata": {},
   "outputs": [
    {
     "data": {
      "text/plain": [
       "(5, 9)"
      ]
     },
     "execution_count": 10,
     "metadata": {},
     "output_type": "execute_result"
    }
   ],
   "source": [
    "# show rows and columns of dataframe where glucose = 0\n",
    "df[df['Glucose']==0].shape"
   ]
  },
  {
   "cell_type": "markdown",
   "metadata": {},
   "source": [
    "### Drop rows that have missing glucose and BMI values   -  'Glucose', 'BMI'\n",
    "### Calculate mean and replace 0 values   - 'BloodPressure', 'SkinThickness'"
   ]
  },
  {
   "cell_type": "code",
   "execution_count": 11,
   "metadata": {},
   "outputs": [
    {
     "data": {
      "text/html": [
       "<div>\n",
       "<style scoped>\n",
       "    .dataframe tbody tr th:only-of-type {\n",
       "        vertical-align: middle;\n",
       "    }\n",
       "\n",
       "    .dataframe tbody tr th {\n",
       "        vertical-align: top;\n",
       "    }\n",
       "\n",
       "    .dataframe thead th {\n",
       "        text-align: right;\n",
       "    }\n",
       "</style>\n",
       "<table border=\"1\" class=\"dataframe\">\n",
       "  <thead>\n",
       "    <tr style=\"text-align: right;\">\n",
       "      <th></th>\n",
       "      <th>Pregnancies</th>\n",
       "      <th>Glucose</th>\n",
       "      <th>BloodPressure</th>\n",
       "      <th>SkinThickness</th>\n",
       "      <th>Insulin</th>\n",
       "      <th>BMI</th>\n",
       "      <th>DiabetesPedigreeFunction</th>\n",
       "      <th>Age</th>\n",
       "      <th>Outcome</th>\n",
       "    </tr>\n",
       "  </thead>\n",
       "  <tbody>\n",
       "    <tr>\n",
       "      <th>0</th>\n",
       "      <td>6</td>\n",
       "      <td>148</td>\n",
       "      <td>72</td>\n",
       "      <td>35</td>\n",
       "      <td>0</td>\n",
       "      <td>33.6</td>\n",
       "      <td>0.627</td>\n",
       "      <td>50</td>\n",
       "      <td>1</td>\n",
       "    </tr>\n",
       "    <tr>\n",
       "      <th>1</th>\n",
       "      <td>1</td>\n",
       "      <td>85</td>\n",
       "      <td>66</td>\n",
       "      <td>29</td>\n",
       "      <td>0</td>\n",
       "      <td>26.6</td>\n",
       "      <td>0.351</td>\n",
       "      <td>31</td>\n",
       "      <td>0</td>\n",
       "    </tr>\n",
       "    <tr>\n",
       "      <th>2</th>\n",
       "      <td>8</td>\n",
       "      <td>183</td>\n",
       "      <td>64</td>\n",
       "      <td>0</td>\n",
       "      <td>0</td>\n",
       "      <td>23.3</td>\n",
       "      <td>0.672</td>\n",
       "      <td>32</td>\n",
       "      <td>1</td>\n",
       "    </tr>\n",
       "    <tr>\n",
       "      <th>3</th>\n",
       "      <td>1</td>\n",
       "      <td>89</td>\n",
       "      <td>66</td>\n",
       "      <td>23</td>\n",
       "      <td>94</td>\n",
       "      <td>28.1</td>\n",
       "      <td>0.167</td>\n",
       "      <td>21</td>\n",
       "      <td>0</td>\n",
       "    </tr>\n",
       "    <tr>\n",
       "      <th>4</th>\n",
       "      <td>0</td>\n",
       "      <td>137</td>\n",
       "      <td>40</td>\n",
       "      <td>35</td>\n",
       "      <td>168</td>\n",
       "      <td>43.1</td>\n",
       "      <td>2.288</td>\n",
       "      <td>33</td>\n",
       "      <td>1</td>\n",
       "    </tr>\n",
       "  </tbody>\n",
       "</table>\n",
       "</div>"
      ],
      "text/plain": [
       "   Pregnancies  Glucose  BloodPressure  SkinThickness  Insulin   BMI  \\\n",
       "0            6      148             72             35        0  33.6   \n",
       "1            1       85             66             29        0  26.6   \n",
       "2            8      183             64              0        0  23.3   \n",
       "3            1       89             66             23       94  28.1   \n",
       "4            0      137             40             35      168  43.1   \n",
       "\n",
       "   DiabetesPedigreeFunction  Age  Outcome  \n",
       "0                     0.627   50        1  \n",
       "1                     0.351   31        0  \n",
       "2                     0.672   32        1  \n",
       "3                     0.167   21        0  \n",
       "4                     2.288   33        1  "
      ]
     },
     "execution_count": 11,
     "metadata": {},
     "output_type": "execute_result"
    }
   ],
   "source": [
    "# copy dataframe\n",
    "new_df = df.copy(deep=True)\n",
    "new_df.head()"
   ]
  },
  {
   "cell_type": "code",
   "execution_count": 12,
   "metadata": {},
   "outputs": [
    {
     "name": "stdout",
     "output_type": "stream",
     "text": [
      "BMI Shape:  (0, 9)\n",
      "Glucose Shape:  (0, 9)\n"
     ]
    }
   ],
   "source": [
    "# replace 0 values with np.nan\n",
    "new_df['BMI'].replace(0, np.nan, inplace = True)\n",
    "new_df['Glucose'].replace(0, np.nan, inplace=True)\n",
    "\n",
    "# drop rows\n",
    "new_df.dropna(axis=0, subset=['BMI', 'Glucose', 'Insulin', 'SkinThickness'], inplace=True)\n",
    "print('BMI Shape: ', new_df[new_df['BMI']==0].shape)\n",
    "print('Glucose Shape: ', new_df[new_df['Glucose']==0].shape)"
   ]
  },
  {
   "cell_type": "code",
   "execution_count": 13,
   "metadata": {},
   "outputs": [
    {
     "data": {
      "text/plain": [
       "(752, 9)"
      ]
     },
     "execution_count": 13,
     "metadata": {},
     "output_type": "execute_result"
    }
   ],
   "source": [
    "# calculating averages\n",
    "skin_avg = new_df['SkinThickness'].mean()\n",
    "blood_avg = new_df['BloodPressure'].mean()\n",
    "\n",
    "# replacing null values with the mean\n",
    "new_df['SkinThickness'].replace(0, skin_avg, inplace = True)\n",
    "new_df['BloodPressure'].replace(0, blood_avg, inplace = True)\n",
    "\n",
    "new_df.shape"
   ]
  },
  {
   "cell_type": "code",
   "execution_count": 14,
   "metadata": {},
   "outputs": [
    {
     "data": {
      "text/html": [
       "<div>\n",
       "<style scoped>\n",
       "    .dataframe tbody tr th:only-of-type {\n",
       "        vertical-align: middle;\n",
       "    }\n",
       "\n",
       "    .dataframe tbody tr th {\n",
       "        vertical-align: top;\n",
       "    }\n",
       "\n",
       "    .dataframe thead th {\n",
       "        text-align: right;\n",
       "    }\n",
       "</style>\n",
       "<table border=\"1\" class=\"dataframe\">\n",
       "  <thead>\n",
       "    <tr style=\"text-align: right;\">\n",
       "      <th></th>\n",
       "      <th>count</th>\n",
       "      <th>mean</th>\n",
       "      <th>std</th>\n",
       "      <th>min</th>\n",
       "      <th>25%</th>\n",
       "      <th>50%</th>\n",
       "      <th>75%</th>\n",
       "      <th>max</th>\n",
       "    </tr>\n",
       "  </thead>\n",
       "  <tbody>\n",
       "    <tr>\n",
       "      <th>Pregnancies</th>\n",
       "      <td>752.0</td>\n",
       "      <td>3.851064</td>\n",
       "      <td>3.375189</td>\n",
       "      <td>0.000</td>\n",
       "      <td>1.000000</td>\n",
       "      <td>3.000</td>\n",
       "      <td>6.0000</td>\n",
       "      <td>17.00</td>\n",
       "    </tr>\n",
       "    <tr>\n",
       "      <th>Glucose</th>\n",
       "      <td>752.0</td>\n",
       "      <td>121.941489</td>\n",
       "      <td>30.601198</td>\n",
       "      <td>44.000</td>\n",
       "      <td>99.750000</td>\n",
       "      <td>117.000</td>\n",
       "      <td>141.0000</td>\n",
       "      <td>199.00</td>\n",
       "    </tr>\n",
       "    <tr>\n",
       "      <th>BloodPressure</th>\n",
       "      <td>752.0</td>\n",
       "      <td>72.300178</td>\n",
       "      <td>12.157628</td>\n",
       "      <td>24.000</td>\n",
       "      <td>64.000000</td>\n",
       "      <td>72.000</td>\n",
       "      <td>80.0000</td>\n",
       "      <td>122.00</td>\n",
       "    </tr>\n",
       "    <tr>\n",
       "      <th>SkinThickness</th>\n",
       "      <td>752.0</td>\n",
       "      <td>26.720695</td>\n",
       "      <td>9.648926</td>\n",
       "      <td>7.000</td>\n",
       "      <td>20.715426</td>\n",
       "      <td>23.000</td>\n",
       "      <td>32.0000</td>\n",
       "      <td>99.00</td>\n",
       "    </tr>\n",
       "    <tr>\n",
       "      <th>Insulin</th>\n",
       "      <td>752.0</td>\n",
       "      <td>81.348404</td>\n",
       "      <td>115.925034</td>\n",
       "      <td>0.000</td>\n",
       "      <td>0.000000</td>\n",
       "      <td>39.000</td>\n",
       "      <td>130.0000</td>\n",
       "      <td>846.00</td>\n",
       "    </tr>\n",
       "    <tr>\n",
       "      <th>BMI</th>\n",
       "      <td>752.0</td>\n",
       "      <td>32.454654</td>\n",
       "      <td>6.928926</td>\n",
       "      <td>18.200</td>\n",
       "      <td>27.500000</td>\n",
       "      <td>32.300</td>\n",
       "      <td>36.6000</td>\n",
       "      <td>67.10</td>\n",
       "    </tr>\n",
       "    <tr>\n",
       "      <th>DiabetesPedigreeFunction</th>\n",
       "      <td>752.0</td>\n",
       "      <td>0.473051</td>\n",
       "      <td>0.330108</td>\n",
       "      <td>0.078</td>\n",
       "      <td>0.244000</td>\n",
       "      <td>0.377</td>\n",
       "      <td>0.6275</td>\n",
       "      <td>2.42</td>\n",
       "    </tr>\n",
       "    <tr>\n",
       "      <th>Age</th>\n",
       "      <td>752.0</td>\n",
       "      <td>33.312500</td>\n",
       "      <td>11.709395</td>\n",
       "      <td>21.000</td>\n",
       "      <td>24.000000</td>\n",
       "      <td>29.000</td>\n",
       "      <td>41.0000</td>\n",
       "      <td>81.00</td>\n",
       "    </tr>\n",
       "    <tr>\n",
       "      <th>Outcome</th>\n",
       "      <td>752.0</td>\n",
       "      <td>0.351064</td>\n",
       "      <td>0.477621</td>\n",
       "      <td>0.000</td>\n",
       "      <td>0.000000</td>\n",
       "      <td>0.000</td>\n",
       "      <td>1.0000</td>\n",
       "      <td>1.00</td>\n",
       "    </tr>\n",
       "  </tbody>\n",
       "</table>\n",
       "</div>"
      ],
      "text/plain": [
       "                          count        mean         std     min        25%  \\\n",
       "Pregnancies               752.0    3.851064    3.375189   0.000   1.000000   \n",
       "Glucose                   752.0  121.941489   30.601198  44.000  99.750000   \n",
       "BloodPressure             752.0   72.300178   12.157628  24.000  64.000000   \n",
       "SkinThickness             752.0   26.720695    9.648926   7.000  20.715426   \n",
       "Insulin                   752.0   81.348404  115.925034   0.000   0.000000   \n",
       "BMI                       752.0   32.454654    6.928926  18.200  27.500000   \n",
       "DiabetesPedigreeFunction  752.0    0.473051    0.330108   0.078   0.244000   \n",
       "Age                       752.0   33.312500   11.709395  21.000  24.000000   \n",
       "Outcome                   752.0    0.351064    0.477621   0.000   0.000000   \n",
       "\n",
       "                              50%       75%     max  \n",
       "Pregnancies                 3.000    6.0000   17.00  \n",
       "Glucose                   117.000  141.0000  199.00  \n",
       "BloodPressure              72.000   80.0000  122.00  \n",
       "SkinThickness              23.000   32.0000   99.00  \n",
       "Insulin                    39.000  130.0000  846.00  \n",
       "BMI                        32.300   36.6000   67.10  \n",
       "DiabetesPedigreeFunction    0.377    0.6275    2.42  \n",
       "Age                        29.000   41.0000   81.00  \n",
       "Outcome                     0.000    1.0000    1.00  "
      ]
     },
     "execution_count": 14,
     "metadata": {},
     "output_type": "execute_result"
    }
   ],
   "source": [
    "new_df.describe().T"
   ]
  },
  {
   "cell_type": "markdown",
   "metadata": {},
   "source": [
    "# Exploratory Data Analysis"
   ]
  },
  {
   "cell_type": "code",
   "execution_count": 15,
   "metadata": {},
   "outputs": [
    {
     "data": {
      "image/png": "[encoded data removed]",
      "text/plain": [
       "<Figure size 864x432 with 1 Axes>"
      ]
     },
     "metadata": {
      "needs_background": "light"
     },
     "output_type": "display_data"
    },
    {
     "name": "stdout",
     "output_type": "stream",
     "text": [
      "0    65.104167\n",
      "1    34.895833\n",
      "Name: Outcome, dtype: float64\n"
     ]
    }
   ],
   "source": [
    "# exploring outcome - diabetes=1, negative=0\n",
    "fig, ax1 = plt.subplots(figsize=(12,6))\n",
    "new_df['Outcome'].value_counts().plot(kind='bar',\n",
    "                                     title='Bar graph showing positive and negative counts of diabetes',\n",
    "                                     fontsize=12);\n",
    "\n",
    "# labels on x axis\n",
    "plt.xlabel('Diabetes Values', \n",
    "           fontsize=12, \n",
    "           labelpad=20)\n",
    "# labels on y axis\n",
    "plt.ylabel(\"Total Counts\", \n",
    "           fontsize=12, \n",
    "           labelpad=20)\n",
    "# changing values of xticks\n",
    "ax1.set_xticklabels(['Negative results', 'Positive results'], \n",
    "                    rotation=0)\n",
    "plt.show()\n",
    "print(df['Outcome'].value_counts(normalize=True) * 100)"
   ]
  },
  {
   "cell_type": "markdown",
   "metadata": {},
   "source": [
    "**From the above chart, patients tend to have diabetes 34.89% of the time.**"
   ]
  },
  {
   "cell_type": "markdown",
   "metadata": {},
   "source": [
    "### Visualizing Positive and Negative outcomes by age and glucose levels"
   ]
  },
  {
   "cell_type": "code",
   "execution_count": 118,
   "metadata": {},
   "outputs": [
    {
     "data": {
      "image/png": "[encoded data removed]",
      "text/plain": [
       "<Figure size 720x360 with 1 Axes>"
      ]
     },
     "metadata": {
      "needs_background": "light"
     },
     "output_type": "display_data"
    }
   ],
   "source": [
    "# plotting positive outcome of diabetes (blue)\n",
    "ax1 = new_df[new_df['Outcome'] == 1][0:50].plot(kind='scatter',\n",
    "                                      x='Age',\n",
    "                                      y='Glucose',\n",
    "                                      color='DarkBlue', \n",
    "                                      label='Positive',\n",
    "                                      figsize=(10,5),\n",
    "                                      fontsize=13);\n",
    "# plotting negative outcome of diabetes (yellow)\n",
    "new_df[new_df['Outcome'] == 0][0:50].plot(kind='scatter',\n",
    "                                x='Age',\n",
    "                                y='Glucose',\n",
    "                                color='Yellow', \n",
    "                                label='Negative', \n",
    "                                ax=ax1);\n",
    "plt.title('Scatter plot showing negative(0) and positive(1) cases of diabetes', fontsize=15)\n",
    "plt.xlabel('Age', fontsize=13)\n",
    "plt.ylabel('Glucose', fontsize=13)\n",
    "plt.show()"
   ]
  },
  {
   "cell_type": "code",
   "execution_count": 16,
   "metadata": {},
   "outputs": [
    {
     "data": {
      "text/plain": [
       "Insulin                     0.130203\n",
       "BloodPressure               0.159447\n",
       "SkinThickness               0.171703\n",
       "DiabetesPedigreeFunction    0.178052\n",
       "Pregnancies                 0.213371\n",
       "Age                         0.232734\n",
       "BMI                         0.309884\n",
       "Glucose                     0.494190\n",
       "Outcome                     1.000000\n",
       "Name: Outcome, dtype: float64"
      ]
     },
     "execution_count": 16,
     "metadata": {},
     "output_type": "execute_result"
    }
   ],
   "source": [
    "# correlations with outcome\n",
    "new_df.corr()['Outcome'].sort_values()"
   ]
  },
  {
   "cell_type": "code",
   "execution_count": 17,
   "metadata": {},
   "outputs": [
    {
     "data": {
      "image/png": "[encoded data removed]",
      "text/plain": [
       "<Figure size 1080x360 with 1 Axes>"
      ]
     },
     "metadata": {
      "needs_background": "light"
     },
     "output_type": "display_data"
    }
   ],
   "source": [
    "# distribution plots of a few of the features\n",
    "plt.figure(figsize=(15,5));\n",
    "ax1 = sns.distplot(new_df['BMI'], hist=False, label='BMI');\n",
    "sns.distplot(new_df['Glucose'], ax=ax1, hist=False, label='Glucose')\n",
    "sns.distplot(new_df['BloodPressure'], ax=ax1, hist=False, label='BloodPressure')\n",
    "plt.title('Distribution plot showing some features of the dataset')\n",
    "plt.xlabel('Features')\n",
    "plt.show()"
   ]
  },
  {
   "cell_type": "markdown",
   "metadata": {},
   "source": [
    "## Data will need to be normalized"
   ]
  },
  {
   "cell_type": "markdown",
   "metadata": {},
   "source": [
    "# Building the model"
   ]
  },
  {
   "cell_type": "code",
   "execution_count": 20,
   "metadata": {},
   "outputs": [],
   "source": [
    "# import necessary libraries \n",
    "from sklearn.preprocessing import MinMaxScaler\n",
    "from sklearn.neighbors import KNeighborsClassifier\n",
    "from sklearn.model_selection import train_test_split\n",
    "\n",
    "# importing necessary metric libraries\n",
    "from sklearn.metrics import recall_score, roc_auc_score, f1_score, classification_report, confusion_matrix, roc_curve"
   ]
  },
  {
   "cell_type": "markdown",
   "metadata": {},
   "source": [
    "### Feature Selection"
   ]
  },
  {
   "cell_type": "code",
   "execution_count": 23,
   "metadata": {},
   "outputs": [
    {
     "name": "stdout",
     "output_type": "stream",
     "text": [
      "(752, 5) (752,)\n"
     ]
    }
   ],
   "source": [
    "# feature values \n",
    "X = new_df[['Glucose', 'BMI', 'Age', 'Pregnancies', 'DiabetesPedigreeFunction']]\n",
    "# target value\n",
    "Y = new_df['Outcome'].values\n",
    "\n",
    "print(X.shape, Y.shape)"
   ]
  },
  {
   "cell_type": "markdown",
   "metadata": {},
   "source": [
    "### Splitting Dataset"
   ]
  },
  {
   "cell_type": "code",
   "execution_count": 24,
   "metadata": {},
   "outputs": [
    {
     "name": "stdout",
     "output_type": "stream",
     "text": [
      "(564, 5) (564,)\n",
      "(188, 5) (188,)\n"
     ]
    }
   ],
   "source": [
    "# creating training and testing sets\n",
    "x_train, x_test, y_train, y_test = train_test_split(X, Y, test_size=0.25, random_state=0)\n",
    "\n",
    "print(x_train.shape, y_train.shape)\n",
    "print(x_test.shape, y_test.shape)"
   ]
  },
  {
   "cell_type": "markdown",
   "metadata": {},
   "source": [
    "### Normalizing Data"
   ]
  },
  {
   "cell_type": "code",
   "execution_count": 25,
   "metadata": {},
   "outputs": [],
   "source": [
    "# normalizing data for accurate results\n",
    "# creating scale object \n",
    "scale = MinMaxScaler()\n",
    "# fit and transforms on training data\n",
    "x_train_scaled = scale.fit_transform(x_train)\n",
    "# transforming testing data\n",
    "x_test_scaled = scale.transform(x_test)"
   ]
  },
  {
   "cell_type": "markdown",
   "metadata": {},
   "source": [
    "### Finding optimum n_neighbors"
   ]
  },
  {
   "cell_type": "code",
   "execution_count": 33,
   "metadata": {},
   "outputs": [],
   "source": [
    "# determining best value for n_neighbors, keeping in mind that recall score has to be prioritized\n",
    "ks = 15\n",
    "recall = np.zeros(15)\n",
    "acc_test = np.zeros(15)\n",
    "acc_train = np.zeros(15)\n",
    "roc = np.zeros(15)\n",
    "# initializing varibale i\n",
    "i = 0\n",
    "\n",
    "for k in range(1,ks):\n",
    "    \n",
    "    # knn object\n",
    "    knn = KNeighborsClassifier(n_neighbors=k)\n",
    "    # fitting model with training set\n",
    "    knn.fit(x_train_scaled, y_train)\n",
    "    # predictions\n",
    "    yhat = knn.predict(x_test_scaled)\n",
    "    \n",
    "    # metrics\n",
    "    recall[i] = recall_score(y_test, yhat)\n",
    "    acc_test[i] = knn.score(x_test_scaled, y_test)\n",
    "    acc_train[i] = knn.score(x_train_scaled, y_train)\n",
    "    roc[i] = roc_auc_score(y_test, yhat)\n",
    "    i += 1"
   ]
  },
  {
   "cell_type": "code",
   "execution_count": 39,
   "metadata": {},
   "outputs": [
    {
     "name": "stdout",
     "output_type": "stream",
     "text": [
      "Best K based on recall:  5\n",
      "Best K based on ROC score:  9\n",
      "Best K based on accuracy:  14\n",
      "\n",
      "Recall Scores:  [0.6779661  0.44067797 0.66101695 0.55932203 0.71186441 0.61016949\n",
      " 0.66101695 0.57627119 0.71186441 0.61016949 0.6779661  0.59322034\n",
      " 0.66101695 0.62711864 0.        ]\n",
      "\n",
      "ROC Scores:  [0.71495204 0.65444751 0.71810537 0.70989358 0.74740507 0.72756537\n",
      " 0.71810537 0.71449218 0.75515701 0.7353173  0.74208383 0.71521482\n",
      " 0.73748522 0.74379188 0.        ]\n",
      "\n",
      "Accuracy Scores:  [0.7287234  0.73404255 0.7393617  0.76595745 0.7606383  0.7712766\n",
      " 0.7393617  0.76595745 0.7712766  0.78191489 0.76595745 0.7606383\n",
      " 0.76595745 0.78723404 0.        ]\n"
     ]
    }
   ],
   "source": [
    "# showing best value for k. Add one to compensate for indexing\n",
    "print('Best K based on recall: ', recall.argmax() + 1)\n",
    "print('Best K based on ROC score: ', roc.argmax() + 1)\n",
    "print('Best K based on accuracy: ', acc_test.argmax() + 1)\n",
    "print('\\nRecall Scores: ', recall)\n",
    "print('\\nROC Scores: ', roc)\n",
    "print('\\nAccuracy Scores: ', acc_test)"
   ]
  },
  {
   "cell_type": "markdown",
   "metadata": {},
   "source": [
    "#### Note on above cell   \n",
    "\n",
    "Where k=5: \n",
    "\n",
    "* Recall: 71.186%  \n",
    "* ROC: 74.75%   \n",
    "* Accuracy: 76.06%\n",
    "\n",
    "Where k=9:  \n",
    "\n",
    "* Recall: 71.186%  \n",
    "* ROC: 75.515%  \n",
    "* Accuracy: 77.771%  \n",
    "\n",
    "Where k=14:  \n",
    "\n",
    "* Recall: 62.711%  \n",
    "* ROC: 74.379%  \n",
    "* Accuracy: 78.72%   \n",
    "\n",
    "**Final Observation on metric**  \n",
    "\n",
    "According to the requirements, the algorithm should be optimized in terms of the recall rate and roc score. Since the recall score is equal where k=5 and k=9, we should use the maximum roc score which would be at k=9. The accuracy at this point is only 1 percent under the max accuracy meaning that not much accuracy is sacrificed in finding optimum recall and roc scores.  \n",
    "\n",
    "Build final model using k=9 neighbors."
   ]
  },
  {
   "cell_type": "markdown",
   "metadata": {},
   "source": [
    "### Visualize accuracy with increasing k values"
   ]
  },
  {
   "cell_type": "code",
   "execution_count": 62,
   "metadata": {},
   "outputs": [
    {
     "data": {
      "image/png": "[encoded data removed]",
      "text/plain": [
       "<Figure size 720x432 with 1 Axes>"
      ]
     },
     "metadata": {
      "needs_background": "light"
     },
     "output_type": "display_data"
    }
   ],
   "source": [
    "# visualise training and testing data\n",
    "fig, ax1 = plt.subplots(figsize=(10, 6));\n",
    "sns.lineplot(range(ks), acc_test, color='g', label='Testing Score', ax=ax1)\n",
    "sns.lineplot(range(ks), acc_train, color='b', label='Training Score', ax=ax1)\n",
    "# plotting point where k=9\n",
    "plt.plot(9, acc_test[9], 'r*')\n",
    "plt.title('Best Values for K')\n",
    "plt.xlabel('K Values')\n",
    "plt.ylabel('Accuracy Scores')\n",
    "plt.show()"
   ]
  },
  {
   "cell_type": "markdown",
   "metadata": {},
   "source": [
    "### Building Final Model with K=9"
   ]
  },
  {
   "cell_type": "code",
   "execution_count": 67,
   "metadata": {},
   "outputs": [],
   "source": [
    "# knn object\n",
    "knn = KNeighborsClassifier(n_neighbors=9)\n",
    "# fitting knn object\n",
    "knn.fit(x_train_scaled, y_train)\n",
    "# predicting \n",
    "yhat = knn.predict(x_test_scaled)\n",
    "# predicting probability\n",
    "yhat_proba = knn.predict_proba(x_test_scaled)[:,1]"
   ]
  },
  {
   "cell_type": "markdown",
   "metadata": {},
   "source": [
    "### Evaluating Model"
   ]
  },
  {
   "cell_type": "code",
   "execution_count": 74,
   "metadata": {},
   "outputs": [
    {
     "name": "stdout",
     "output_type": "stream",
     "text": [
      "Accuracy:  77.1277 %\n",
      "Recall:  71.1864 %\n",
      "ROC:  75.5157 %\n"
     ]
    }
   ],
   "source": [
    "# accuracy\n",
    "acc_final = round(knn.score(x_test_scaled, y_test) * 100, 4)\n",
    "# recall score\n",
    "recall_final = round(recall_score(y_test, yhat) * 100, 4)\n",
    "# roc score\n",
    "roc_final = round(roc_auc_score(y_test, yhat) * 100, 4)\n",
    "\n",
    "print('Accuracy: ', acc_final, '%')\n",
    "print('Recall: ', recall_final, '%')\n",
    "print('ROC: ', roc_final, '%')"
   ]
  },
  {
   "cell_type": "code",
   "execution_count": 78,
   "metadata": {},
   "outputs": [
    {
     "data": {
      "image/png": "[encoded data removed]",
      "text/plain": [
       "<Figure size 864x432 with 1 Axes>"
      ]
     },
     "metadata": {
      "needs_background": "light"
     },
     "output_type": "display_data"
    }
   ],
   "source": [
    "# showing roc_auc_curve\n",
    "fpr, tpr, thresholds = roc_curve(y_test, yhat_proba)\n",
    "\n",
    "# plotting roc_auc_curve\n",
    "fig, ax1 = plt.subplots(figsize=(12,6));\n",
    "plt.plot([0,1],[0,1],'b--')\n",
    "plt.plot(fpr, tpr)\n",
    "# labels on x axis\n",
    "plt.xlabel('False Positive Rate', \n",
    "           fontsize=12, \n",
    "           labelpad=20)\n",
    "# labels on y axis\n",
    "plt.ylabel(\"True Positive Rate\", \n",
    "           fontsize=12, \n",
    "           labelpad=20)\n",
    "plt.title('ROC curve with K=9')\n",
    "plt.show()"
   ]
  },
  {
   "cell_type": "markdown",
   "metadata": {},
   "source": [
    "*The area under of the curve scores at 75.5%, this could be increased by better feature selection or tuning parameters of the model. GridSearchCV can achieve this"
   ]
  },
  {
   "cell_type": "code",
   "execution_count": 82,
   "metadata": {},
   "outputs": [
    {
     "name": "stdout",
     "output_type": "stream",
     "text": [
      "              precision    recall  f1-score   support\n",
      "\n",
      "           0       0.86      0.80      0.83       129\n",
      "           1       0.62      0.71      0.66        59\n",
      "\n",
      "    accuracy                           0.77       188\n",
      "   macro avg       0.74      0.76      0.74       188\n",
      "weighted avg       0.78      0.77      0.78       188\n",
      "\n",
      "AxesSubplot(0.125,0.125;0.62x0.755)\n"
     ]
    },
    {
     "data": {
      "image/png": "[encoded data removed]",
      "text/plain": [
       "<Figure size 648x360 with 2 Axes>"
      ]
     },
     "metadata": {
      "needs_background": "light"
     },
     "output_type": "display_data"
    }
   ],
   "source": [
    "# confusion matrix\n",
    "matrix = confusion_matrix(y_test, yhat)\n",
    "# heatmap for matrix\n",
    "plt.figure(figsize=(9,5));\n",
    "hmap = sns.heatmap(pd.DataFrame(matrix), \n",
    "                   annot=True, \n",
    "                   fmt='.2g',\n",
    "                   xticklabels=['Negative', 'Positive'],\n",
    "                   cmap='YlGnBu',\n",
    "                   yticklabels=['Negative', 'Positive']);\n",
    "\n",
    "report = classification_report(y_test, yhat)\n",
    "print(report)\n",
    "print(hmap)"
   ]
  },
  {
   "cell_type": "markdown",
   "metadata": {},
   "source": [
    "# Conclusion on model   \n",
    "\n",
    "Overall the models performance is considered average. It is optimized for the recall and roc scores since the target variable is predicting diabetes in patients. \n",
    "\n",
    "**Final Metrics**\n",
    "\n",
    "* Accuracy:  77.1277 %\n",
    "* Recall:  71.1864 %\n",
    "* ROC:  75.5157 %   \n",
    "\n",
    "\n",
    "*Now compare GridSearchCV Scores*"
   ]
  },
  {
   "cell_type": "code",
   "execution_count": 83,
   "metadata": {},
   "outputs": [],
   "source": [
    "# importing GridSearchCV \n",
    "from sklearn.model_selection import GridSearchCV"
   ]
  },
  {
   "cell_type": "code",
   "execution_count": 114,
   "metadata": {},
   "outputs": [
    {
     "data": {
      "text/plain": [
       "GridSearchCV(cv=5, error_score='raise-deprecating',\n",
       "             estimator=KNeighborsClassifier(algorithm='auto', leaf_size=30,\n",
       "                                            metric='minkowski',\n",
       "                                            metric_params=None, n_jobs=None,\n",
       "                                            n_neighbors=5, p=2,\n",
       "                                            weights='uniform'),\n",
       "             iid=False, n_jobs=None,\n",
       "             param_grid={'n_neighbors': array([ 1,  2,  3,  4,  5,  6,  7,  8,  9, 10, 11, 12, 13, 14, 15, 16, 17,\n",
       "       18, 19, 20, 21, 22, 23, 24, 25, 26, 27, 28, 29, 30, 31, 32, 33, 34,\n",
       "       35, 36, 37, 38, 39, 40, 41, 42, 43, 44, 45, 46, 47, 48, 49])},\n",
       "             pre_dispatch='2*n_jobs', refit=True, return_train_score=False,\n",
       "             scoring='recall', verbose=0)"
      ]
     },
     "execution_count": 114,
     "metadata": {},
     "output_type": "execute_result"
    }
   ],
   "source": [
    "# creating knn object for gridsearch\n",
    "knn_grid = KNeighborsClassifier()\n",
    "\n",
    "# parameters to enter into GridSearch\n",
    "parameters = {'n_neighbors': np.arange(1,50)}\n",
    "\n",
    "# building gridsearch model\n",
    "grid = GridSearchCV(knn_grid, \n",
    "                    param_grid=parameters, \n",
    "                    cv=5,\n",
    "                    scoring='recall',\n",
    "                    iid=False)\n",
    "# fitting model\n",
    "grid.fit(x_train_scaled, y_train)"
   ]
  },
  {
   "cell_type": "code",
   "execution_count": 115,
   "metadata": {},
   "outputs": [],
   "source": [
    "# prediction\n",
    "yhat_grid = grid.predict(x_test_scaled)\n",
    "\n",
    "# best parameters\n",
    "best_k_grid = grid.best_params_\n",
    "# best accuracy score\n",
    "best_k_acc = round(grid.score(x_test_scaled, y_test) * 100, 4)\n",
    "# best roc score\n",
    "best_k_roc = round(roc_auc_score(y_test, yhat_grid) * 100, 4)\n",
    "# best recall score\n",
    "best_k_recall = round(recall_score(y_test, yhat_grid) * 100, 4)"
   ]
  },
  {
   "cell_type": "code",
   "execution_count": 116,
   "metadata": {},
   "outputs": [
    {
     "name": "stdout",
     "output_type": "stream",
     "text": [
      "Best value for K:  {'n_neighbors': 9} %\n",
      "Best accuracy for K:  71.1864 %\n",
      "Best roc score for K:  75.5157 %\n",
      "Best recall score for K:  71.1864 %\n"
     ]
    }
   ],
   "source": [
    "print('Best value for K: ', best_k_grid, '%')\n",
    "print('Best accuracy for K: ', best_k_acc, '%')\n",
    "print('Best roc score for K: ', best_k_roc, '%')\n",
    "print('Best recall score for K: ', best_k_recall, '%')"
   ]
  },
  {
   "cell_type": "markdown",
   "metadata": {},
   "source": [
    "# Evaluating GridSearch and initial KNN results  \n",
    "\n",
    "## Both found that k=9 optimizes the results  \n",
    "\n",
    "\n",
    "## Accuracy Test:  \n",
    "* KNN Accuracy: 77.12%  \n",
    "* Grid Accuracy: 71.18%  \n",
    "  \n",
    "## Recall Score:   \n",
    "* KNN Recall: 71.186%  \n",
    "* Grid Recall: 71.186%  \n",
    "\n",
    "# ROC  \n",
    "* KNN ROC: 75.51%  \n",
    "* Grid ROC: 75.51%   \n",
    "\n",
    "### Using GridSearch, we found that the recall and roc scores are equivalent. Our models is performing optimally, however, since this is an important medical situation, a different classification model such as (SVM, LogisticRegression) should be used in order to increase the probabilty of detection (recall rate). "
   ]
  },
  {
   "cell_type": "code",
   "execution_count": null,
   "metadata": {},
   "outputs": [],
   "source": []
  }
 ],
 "metadata": {
  "kernelspec": {
   "display_name": "Python 3",
   "language": "python",
   "name": "python3"
  },
  "language_info": {
   "codemirror_mode": {
    "name": "ipython",
    "version": 3
   },
   "file_extension": ".py",
   "mimetype": "text/x-python",
   "name": "python",
   "nbconvert_exporter": "python",
   "pygments_lexer": "ipython3",
   "version": "3.7.3"
  }
 },
 "nbformat": 4,
 "nbformat_minor": 2
}
