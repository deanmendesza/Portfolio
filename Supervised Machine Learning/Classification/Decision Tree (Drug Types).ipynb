{
 "cells": [
  {
   "cell_type": "code",
   "execution_count": 2,
   "metadata": {},
   "outputs": [],
   "source": [
    "import pandas as pd\n",
    "import numpy as np\n",
    "import seaborn as sns\n",
    "import matplotlib.pyplot as plt\n",
    "\n",
    "# setting style\n",
    "sns.set_style('darkgrid')\n",
    "%matplotlib inline"
   ]
  },
  {
   "cell_type": "markdown",
   "metadata": {},
   "source": [
    "# About the drug200 dataset   \n",
    "\n",
    "Target Variable:  \n",
    "\n",
    "* 'Drug' - the type drug to be administered to a patient  \n",
    "\n",
    "Features:  \n",
    "\n",
    "* 'Age' - the age of the patient  \n",
    "* 'Sex' - the gender of the patient  \n",
    "* 'BP' - the blood pressure of the patient  \n",
    "* 'Cholesterol' - the level of cholesterol in a patient  \n",
    "* 'Na_to_K' - the amount of sodium to potassium in blood stream   \n",
    "\n",
    "\n",
    "### The goal is to build an effective decision tree classification algorithm that can accurately calculate the correct drug to administer patients. The model is prone to overfitting and thus the critical evaulation metric would be the training and testing accuracies."
   ]
  },
  {
   "cell_type": "code",
   "execution_count": 3,
   "metadata": {},
   "outputs": [
    {
     "data": {
      "text/html": [
       "<div>\n",
       "<style scoped>\n",
       "    .dataframe tbody tr th:only-of-type {\n",
       "        vertical-align: middle;\n",
       "    }\n",
       "\n",
       "    .dataframe tbody tr th {\n",
       "        vertical-align: top;\n",
       "    }\n",
       "\n",
       "    .dataframe thead th {\n",
       "        text-align: right;\n",
       "    }\n",
       "</style>\n",
       "<table border=\"1\" class=\"dataframe\">\n",
       "  <thead>\n",
       "    <tr style=\"text-align: right;\">\n",
       "      <th></th>\n",
       "      <th>Age</th>\n",
       "      <th>Sex</th>\n",
       "      <th>BP</th>\n",
       "      <th>Cholesterol</th>\n",
       "      <th>Na_to_K</th>\n",
       "      <th>Drug</th>\n",
       "    </tr>\n",
       "  </thead>\n",
       "  <tbody>\n",
       "    <tr>\n",
       "      <th>0</th>\n",
       "      <td>23</td>\n",
       "      <td>F</td>\n",
       "      <td>HIGH</td>\n",
       "      <td>HIGH</td>\n",
       "      <td>25.355</td>\n",
       "      <td>drugY</td>\n",
       "    </tr>\n",
       "    <tr>\n",
       "      <th>1</th>\n",
       "      <td>47</td>\n",
       "      <td>M</td>\n",
       "      <td>LOW</td>\n",
       "      <td>HIGH</td>\n",
       "      <td>13.093</td>\n",
       "      <td>drugC</td>\n",
       "    </tr>\n",
       "    <tr>\n",
       "      <th>2</th>\n",
       "      <td>47</td>\n",
       "      <td>M</td>\n",
       "      <td>LOW</td>\n",
       "      <td>HIGH</td>\n",
       "      <td>10.114</td>\n",
       "      <td>drugC</td>\n",
       "    </tr>\n",
       "    <tr>\n",
       "      <th>3</th>\n",
       "      <td>28</td>\n",
       "      <td>F</td>\n",
       "      <td>NORMAL</td>\n",
       "      <td>HIGH</td>\n",
       "      <td>7.798</td>\n",
       "      <td>drugX</td>\n",
       "    </tr>\n",
       "    <tr>\n",
       "      <th>4</th>\n",
       "      <td>61</td>\n",
       "      <td>F</td>\n",
       "      <td>LOW</td>\n",
       "      <td>HIGH</td>\n",
       "      <td>18.043</td>\n",
       "      <td>drugY</td>\n",
       "    </tr>\n",
       "  </tbody>\n",
       "</table>\n",
       "</div>"
      ],
      "text/plain": [
       "   Age Sex      BP Cholesterol  Na_to_K   Drug\n",
       "0   23   F    HIGH        HIGH   25.355  drugY\n",
       "1   47   M     LOW        HIGH   13.093  drugC\n",
       "2   47   M     LOW        HIGH   10.114  drugC\n",
       "3   28   F  NORMAL        HIGH    7.798  drugX\n",
       "4   61   F     LOW        HIGH   18.043  drugY"
      ]
     },
     "execution_count": 3,
     "metadata": {},
     "output_type": "execute_result"
    }
   ],
   "source": [
    "# csv url \n",
    "csv_url = 'https://s3-api.us-geo.objectstorage.softlayer.net/cf-courses-data/CognitiveClass/ML0101ENv3/labs/drug200.csv'\n",
    "\n",
    "# reading csv file into pandas dataframe\n",
    "df = pd.read_csv(csv_url)\n",
    "df.head()"
   ]
  },
  {
   "cell_type": "markdown",
   "metadata": {},
   "source": [
    "# Data Preprocessing"
   ]
  },
  {
   "cell_type": "code",
   "execution_count": 4,
   "metadata": {},
   "outputs": [
    {
     "data": {
      "text/plain": [
       "(200, 6)"
      ]
     },
     "execution_count": 4,
     "metadata": {},
     "output_type": "execute_result"
    }
   ],
   "source": [
    "# shape of dataset\n",
    "df.shape"
   ]
  },
  {
   "cell_type": "code",
   "execution_count": 5,
   "metadata": {},
   "outputs": [
    {
     "name": "stdout",
     "output_type": "stream",
     "text": [
      "<class 'pandas.core.frame.DataFrame'>\n",
      "RangeIndex: 200 entries, 0 to 199\n",
      "Data columns (total 6 columns):\n",
      "Age            200 non-null int64\n",
      "Sex            200 non-null object\n",
      "BP             200 non-null object\n",
      "Cholesterol    200 non-null object\n",
      "Na_to_K        200 non-null float64\n",
      "Drug           200 non-null object\n",
      "dtypes: float64(1), int64(1), object(4)\n",
      "memory usage: 9.5+ KB\n"
     ]
    }
   ],
   "source": [
    "# information about dataset\n",
    "df.info()"
   ]
  },
  {
   "cell_type": "code",
   "execution_count": 6,
   "metadata": {},
   "outputs": [
    {
     "data": {
      "text/plain": [
       "Age            0\n",
       "Sex            0\n",
       "BP             0\n",
       "Cholesterol    0\n",
       "Na_to_K        0\n",
       "Drug           0\n",
       "dtype: int64"
      ]
     },
     "execution_count": 6,
     "metadata": {},
     "output_type": "execute_result"
    }
   ],
   "source": [
    "# identifying missing values\n",
    "df.isna().sum()"
   ]
  },
  {
   "cell_type": "code",
   "execution_count": 7,
   "metadata": {},
   "outputs": [
    {
     "data": {
      "text/plain": [
       "Age              int64\n",
       "Sex             object\n",
       "BP              object\n",
       "Cholesterol     object\n",
       "Na_to_K        float64\n",
       "Drug            object\n",
       "dtype: object"
      ]
     },
     "execution_count": 7,
     "metadata": {},
     "output_type": "execute_result"
    }
   ],
   "source": [
    "df.dtypes"
   ]
  },
  {
   "cell_type": "markdown",
   "metadata": {},
   "source": [
    "#### Encoding categorical variables using the one-hot-encoding method (LabelEncoder( ))"
   ]
  },
  {
   "cell_type": "code",
   "execution_count": 8,
   "metadata": {},
   "outputs": [
    {
     "name": "stdout",
     "output_type": "stream",
     "text": [
      "Sex:  ['F' 'M']\n",
      "BloodPressure:  ['HIGH' 'LOW' 'NORMAL']\n",
      "Cholesterol:  ['HIGH' 'NORMAL']\n"
     ]
    }
   ],
   "source": [
    "print('Sex: ', df['Sex'].unique())\n",
    "print('BloodPressure: ', df['BP'].unique())\n",
    "print('Cholesterol: ', df['Cholesterol'].unique())"
   ]
  },
  {
   "cell_type": "code",
   "execution_count": 9,
   "metadata": {},
   "outputs": [
    {
     "data": {
      "text/html": [
       "<div>\n",
       "<style scoped>\n",
       "    .dataframe tbody tr th:only-of-type {\n",
       "        vertical-align: middle;\n",
       "    }\n",
       "\n",
       "    .dataframe tbody tr th {\n",
       "        vertical-align: top;\n",
       "    }\n",
       "\n",
       "    .dataframe thead th {\n",
       "        text-align: right;\n",
       "    }\n",
       "</style>\n",
       "<table border=\"1\" class=\"dataframe\">\n",
       "  <thead>\n",
       "    <tr style=\"text-align: right;\">\n",
       "      <th></th>\n",
       "      <th>Age</th>\n",
       "      <th>Sex</th>\n",
       "      <th>BP</th>\n",
       "      <th>Cholesterol</th>\n",
       "      <th>Na_to_K</th>\n",
       "      <th>Drug</th>\n",
       "    </tr>\n",
       "  </thead>\n",
       "  <tbody>\n",
       "    <tr>\n",
       "      <th>0</th>\n",
       "      <td>23</td>\n",
       "      <td>F</td>\n",
       "      <td>HIGH</td>\n",
       "      <td>HIGH</td>\n",
       "      <td>25.355</td>\n",
       "      <td>drugY</td>\n",
       "    </tr>\n",
       "    <tr>\n",
       "      <th>1</th>\n",
       "      <td>47</td>\n",
       "      <td>M</td>\n",
       "      <td>LOW</td>\n",
       "      <td>HIGH</td>\n",
       "      <td>13.093</td>\n",
       "      <td>drugC</td>\n",
       "    </tr>\n",
       "    <tr>\n",
       "      <th>2</th>\n",
       "      <td>47</td>\n",
       "      <td>M</td>\n",
       "      <td>LOW</td>\n",
       "      <td>HIGH</td>\n",
       "      <td>10.114</td>\n",
       "      <td>drugC</td>\n",
       "    </tr>\n",
       "    <tr>\n",
       "      <th>3</th>\n",
       "      <td>28</td>\n",
       "      <td>F</td>\n",
       "      <td>NORMAL</td>\n",
       "      <td>HIGH</td>\n",
       "      <td>7.798</td>\n",
       "      <td>drugX</td>\n",
       "    </tr>\n",
       "    <tr>\n",
       "      <th>4</th>\n",
       "      <td>61</td>\n",
       "      <td>F</td>\n",
       "      <td>LOW</td>\n",
       "      <td>HIGH</td>\n",
       "      <td>18.043</td>\n",
       "      <td>drugY</td>\n",
       "    </tr>\n",
       "  </tbody>\n",
       "</table>\n",
       "</div>"
      ],
      "text/plain": [
       "   Age Sex      BP Cholesterol  Na_to_K   Drug\n",
       "0   23   F    HIGH        HIGH   25.355  drugY\n",
       "1   47   M     LOW        HIGH   13.093  drugC\n",
       "2   47   M     LOW        HIGH   10.114  drugC\n",
       "3   28   F  NORMAL        HIGH    7.798  drugX\n",
       "4   61   F     LOW        HIGH   18.043  drugY"
      ]
     },
     "execution_count": 9,
     "metadata": {},
     "output_type": "execute_result"
    }
   ],
   "source": [
    "# importing necessary libraries\n",
    "from sklearn.preprocessing import LabelEncoder\n",
    "# deep copy dataframe\n",
    "new_df = df.copy(deep=True)\n",
    "new_df.head()"
   ]
  },
  {
   "cell_type": "code",
   "execution_count": 10,
   "metadata": {},
   "outputs": [
    {
     "data": {
      "text/html": [
       "<div>\n",
       "<style scoped>\n",
       "    .dataframe tbody tr th:only-of-type {\n",
       "        vertical-align: middle;\n",
       "    }\n",
       "\n",
       "    .dataframe tbody tr th {\n",
       "        vertical-align: top;\n",
       "    }\n",
       "\n",
       "    .dataframe thead th {\n",
       "        text-align: right;\n",
       "    }\n",
       "</style>\n",
       "<table border=\"1\" class=\"dataframe\">\n",
       "  <thead>\n",
       "    <tr style=\"text-align: right;\">\n",
       "      <th></th>\n",
       "      <th>Age</th>\n",
       "      <th>Sex</th>\n",
       "      <th>BP</th>\n",
       "      <th>Cholesterol</th>\n",
       "      <th>Na_to_K</th>\n",
       "      <th>Drug</th>\n",
       "    </tr>\n",
       "  </thead>\n",
       "  <tbody>\n",
       "    <tr>\n",
       "      <th>0</th>\n",
       "      <td>23</td>\n",
       "      <td>0</td>\n",
       "      <td>0</td>\n",
       "      <td>0</td>\n",
       "      <td>25.355</td>\n",
       "      <td>drugY</td>\n",
       "    </tr>\n",
       "    <tr>\n",
       "      <th>1</th>\n",
       "      <td>47</td>\n",
       "      <td>1</td>\n",
       "      <td>1</td>\n",
       "      <td>0</td>\n",
       "      <td>13.093</td>\n",
       "      <td>drugC</td>\n",
       "    </tr>\n",
       "    <tr>\n",
       "      <th>2</th>\n",
       "      <td>47</td>\n",
       "      <td>1</td>\n",
       "      <td>1</td>\n",
       "      <td>0</td>\n",
       "      <td>10.114</td>\n",
       "      <td>drugC</td>\n",
       "    </tr>\n",
       "    <tr>\n",
       "      <th>3</th>\n",
       "      <td>28</td>\n",
       "      <td>0</td>\n",
       "      <td>2</td>\n",
       "      <td>0</td>\n",
       "      <td>7.798</td>\n",
       "      <td>drugX</td>\n",
       "    </tr>\n",
       "    <tr>\n",
       "      <th>4</th>\n",
       "      <td>61</td>\n",
       "      <td>0</td>\n",
       "      <td>1</td>\n",
       "      <td>0</td>\n",
       "      <td>18.043</td>\n",
       "      <td>drugY</td>\n",
       "    </tr>\n",
       "  </tbody>\n",
       "</table>\n",
       "</div>"
      ],
      "text/plain": [
       "   Age  Sex  BP  Cholesterol  Na_to_K   Drug\n",
       "0   23    0   0            0   25.355  drugY\n",
       "1   47    1   1            0   13.093  drugC\n",
       "2   47    1   1            0   10.114  drugC\n",
       "3   28    0   2            0    7.798  drugX\n",
       "4   61    0   1            0   18.043  drugY"
      ]
     },
     "execution_count": 10,
     "metadata": {},
     "output_type": "execute_result"
    }
   ],
   "source": [
    "# deep copy dataframe\n",
    "new_df = df.copy(deep=True)\n",
    "\n",
    "# label encoder object\n",
    "label = LabelEncoder()\n",
    "\n",
    "# encoding sex \n",
    "label_sex = label.fit(['M', 'F'])\n",
    "new_df['Sex'] = label_sex.transform(new_df['Sex'])\n",
    "\n",
    "# encoding blood pressure\n",
    "label_bp = label.fit(['LOW', 'NORMAL', 'HIGH'])\n",
    "new_df['BP'] = label.fit_transform(new_df['BP'])\n",
    "\n",
    "# encoding cholesterol\n",
    "label_chol = label.fit(['NORMAL', 'HIGH'])\n",
    "new_df['Cholesterol'] = label_chol.transform(new_df['Cholesterol'])\n",
    "\n",
    "new_df.head()"
   ]
  },
  {
   "cell_type": "markdown",
   "metadata": {},
   "source": [
    "# Exploratory Data Analysis"
   ]
  },
  {
   "cell_type": "markdown",
   "metadata": {},
   "source": [
    "### Sex and age"
   ]
  },
  {
   "cell_type": "code",
   "execution_count": 11,
   "metadata": {},
   "outputs": [
    {
     "data": {
      "image/png": "[encoded data removed]",
      "text/plain": [
       "<Figure size 576x360 with 1 Axes>"
      ]
     },
     "metadata": {
      "needs_background": "light"
     },
     "output_type": "display_data"
    },
    {
     "name": "stdout",
     "output_type": "stream",
     "text": [
      "Males account for:  52.0 % of the patients\n",
      "Females account for:  48.0 % of the patients\n",
      "The average age of patients:  44\n"
     ]
    }
   ],
   "source": [
    "# bar plot showing the total number of male and female patients\n",
    "ax1 = df['Sex'].value_counts().plot(kind='bar',\n",
    "                                figsize=(8, 5),\n",
    "                                title='Bar chart showing the total number of males and females',\n",
    "                                rot=0,\n",
    "                                fontsize=10)\n",
    "\n",
    "ax1.set_xlabel('Gender', labelpad=10, size=12)\n",
    "ax1.set_ylabel('Total count', labelpad=10, size=12)\n",
    "plt.show()\n",
    "\n",
    "# average age of data\n",
    "age = int(df['Age'].mean())\n",
    "\n",
    "# porportions of each gender in the dataset\n",
    "males, females = df['Sex'].value_counts(normalize=True) * 100\n",
    "\n",
    "print('Males account for: ' , males,'% of the patients')\n",
    "print('Females account for: ' , females , '% of the patients')\n",
    "print('The average age of patients: ', age)"
   ]
  },
  {
   "cell_type": "markdown",
   "metadata": {},
   "source": [
    "### Cholesterol "
   ]
  },
  {
   "cell_type": "code",
   "execution_count": 12,
   "metadata": {},
   "outputs": [
    {
     "data": {
      "image/png": "[encoded data removed]",
      "text/plain": [
       "<Figure size 576x360 with 1 Axes>"
      ]
     },
     "metadata": {
      "needs_background": "light"
     },
     "output_type": "display_data"
    }
   ],
   "source": [
    "# bar chart showing value counts of cholesterol\n",
    "ax1 = df['Cholesterol'].value_counts().plot(kind='bar',\n",
    "                                       figsize=(8,5),\n",
    "                                       fontsize=10,\n",
    "                                       rot=0)\n",
    "ax1.set_xlabel('Counts', fontsize=13, labelpad=10)\n",
    "ax1.set_ylabel('Cholesterol Levels', size=13, labelpad=10)\n",
    "ax1.set_title('Bar chart showing the amount of patients that had high or normal cholesterol levels', \n",
    "              pad=20, \n",
    "              size=13)\n",
    "plt.show()"
   ]
  },
  {
   "cell_type": "markdown",
   "metadata": {},
   "source": [
    "### Target Variable - Drug to be administered"
   ]
  },
  {
   "cell_type": "code",
   "execution_count": 24,
   "metadata": {},
   "outputs": [
    {
     "data": {
      "image/png": "[encoded data removed]",
      "text/plain": [
       "<Figure size 720x360 with 1 Axes>"
      ]
     },
     "metadata": {
      "needs_background": "light"
     },
     "output_type": "display_data"
    },
    {
     "name": "stdout",
     "output_type": "stream",
     "text": [
      "drugY    45.5\n",
      "drugX    27.0\n",
      "drugA    11.5\n",
      "drugC     8.0\n",
      "drugB     8.0\n",
      "Name: Drug, dtype: float64%\n"
     ]
    }
   ],
   "source": [
    "ax1 = new_df['Drug'].value_counts().sort_values().plot(kind='bar',\n",
    "                                                      fontsize=12,\n",
    "                                                      rot=0,\n",
    "                                                      figsize=(10,5))\n",
    "ax1.set_title('Bar plot showing the amount of drug types administered', size=13, pad=20)\n",
    "ax1.set_xlabel('Drug Types', size=13, labelpad=20)\n",
    "ax1.set_ylabel('Frequency', size=13, labelpad=20)\n",
    "plt.show()\n",
    "\n",
    "print('The proportion of drugs frequently administered to patients')\n",
    "print(str(new_df['Drug'].value_counts(normalize=True).sort_values(ascending=False) * 100))"
   ]
  },
  {
   "cell_type": "markdown",
   "metadata": {},
   "source": [
    "#### *DrugY seem to have been administered the most frequently, while 'drugC' and 'drugB' have been administered the least amount of times* "
   ]
  },
  {
   "cell_type": "markdown",
   "metadata": {},
   "source": [
    "# Building the Model"
   ]
  },
  {
   "cell_type": "code",
   "execution_count": 25,
   "metadata": {},
   "outputs": [],
   "source": [
    "# import necessary libraries\n",
    "from sklearn.model_selection import train_test_split\n",
    "from sklearn.tree import DecisionTreeClassifier\n",
    "# import evaluation metrics\n",
    "from sklearn.metrics import f1_score, precision_score, recall_score"
   ]
  },
  {
   "cell_type": "markdown",
   "metadata": {},
   "source": [
    "### Feature Selection"
   ]
  },
  {
   "cell_type": "code",
   "execution_count": 27,
   "metadata": {},
   "outputs": [
    {
     "name": "stdout",
     "output_type": "stream",
     "text": [
      "(200, 5)\n",
      "(200,)\n"
     ]
    }
   ],
   "source": [
    "# features/independent variables\n",
    "X = new_df.drop(columns=['Drug'])\n",
    "# target variable\n",
    "Y = new_df['Drug']\n",
    "\n",
    "print(X.shape)\n",
    "print(Y.shape)"
   ]
  },
  {
   "cell_type": "markdown",
   "metadata": {},
   "source": [
    "### Splitting data into test and training sets"
   ]
  },
  {
   "cell_type": "code",
   "execution_count": 163,
   "metadata": {},
   "outputs": [
    {
     "name": "stdout",
     "output_type": "stream",
     "text": [
      "(140, 5) (140,)\n",
      "(60, 5) (60,)\n"
     ]
    }
   ],
   "source": [
    "# using scikit-learns train_test_split function to split data\n",
    "x_train, x_test, y_train, y_test = train_test_split(X, Y, test_size=0.3, random_state=3)\n",
    "\n",
    "print(x_train.shape, y_train.shape)\n",
    "print(x_test.shape, y_test.shape)"
   ]
  },
  {
   "cell_type": "markdown",
   "metadata": {},
   "source": [
    "### Decision Tree Classifier"
   ]
  },
  {
   "cell_type": "code",
   "execution_count": 217,
   "metadata": {},
   "outputs": [
    {
     "data": {
      "text/html": [
       "<div>\n",
       "<style scoped>\n",
       "    .dataframe tbody tr th:only-of-type {\n",
       "        vertical-align: middle;\n",
       "    }\n",
       "\n",
       "    .dataframe tbody tr th {\n",
       "        vertical-align: top;\n",
       "    }\n",
       "\n",
       "    .dataframe thead th {\n",
       "        text-align: right;\n",
       "    }\n",
       "</style>\n",
       "<table border=\"1\" class=\"dataframe\">\n",
       "  <thead>\n",
       "    <tr style=\"text-align: right;\">\n",
       "      <th></th>\n",
       "      <th>True</th>\n",
       "      <th>Predicted</th>\n",
       "    </tr>\n",
       "  </thead>\n",
       "  <tbody>\n",
       "    <tr>\n",
       "      <th>0</th>\n",
       "      <td>drugY</td>\n",
       "      <td>drugY</td>\n",
       "    </tr>\n",
       "    <tr>\n",
       "      <th>1</th>\n",
       "      <td>drugX</td>\n",
       "      <td>drugX</td>\n",
       "    </tr>\n",
       "    <tr>\n",
       "      <th>2</th>\n",
       "      <td>drugX</td>\n",
       "      <td>drugX</td>\n",
       "    </tr>\n",
       "    <tr>\n",
       "      <th>3</th>\n",
       "      <td>drugX</td>\n",
       "      <td>drugX</td>\n",
       "    </tr>\n",
       "    <tr>\n",
       "      <th>4</th>\n",
       "      <td>drugX</td>\n",
       "      <td>drugX</td>\n",
       "    </tr>\n",
       "  </tbody>\n",
       "</table>\n",
       "</div>"
      ],
      "text/plain": [
       "    True Predicted\n",
       "0  drugY     drugY\n",
       "1  drugX     drugX\n",
       "2  drugX     drugX\n",
       "3  drugX     drugX\n",
       "4  drugX     drugX"
      ]
     },
     "execution_count": 217,
     "metadata": {},
     "output_type": "execute_result"
    }
   ],
   "source": [
    "# tree objected fitted training sets\n",
    "tree = DecisionTreeClassifier(criterion='entropy').fit(x_train, y_train)\n",
    "\n",
    "# estimations\n",
    "yhat = tree.predict(x_test)\n",
    "\n",
    "# dataframe to compare differences\n",
    "test_pred = pd.DataFrame({'True': y_test,\n",
    "                         'Predicted': yhat})\n",
    "\n",
    "test_pred.reset_index(drop=True).head()"
   ]
  },
  {
   "cell_type": "markdown",
   "metadata": {},
   "source": [
    "### Evaluation Metrics"
   ]
  },
  {
   "cell_type": "code",
   "execution_count": 220,
   "metadata": {},
   "outputs": [
    {
     "name": "stdout",
     "output_type": "stream",
     "text": [
      "Trainign accuracy: \t 1.0\n",
      "Testing accuracy:  \t 0.9833333333333333\n"
     ]
    }
   ],
   "source": [
    "# training set accuracy\n",
    "train_acc = tree.score(x_train, y_train)\n",
    "# test set accuracy\n",
    "test_acc = tree.score(x_test, y_test)\n",
    "\n",
    "print('Trainign accuracy: \\t', train_acc)\n",
    "print('Testing accuracy:  \\t', test_acc)"
   ]
  },
  {
   "cell_type": "markdown",
   "metadata": {},
   "source": [
    "### Results on initial model   "
   ]
  },
  {
   "cell_type": "markdown",
   "metadata": {},
   "source": [
    "* The model is completely overfitting the training data. The models complexity can be changed by finding the optimum paramters.* "
   ]
  },
  {
   "cell_type": "markdown",
   "metadata": {},
   "source": [
    "### Finding Optimum Parameters     "
   ]
  },
  {
   "cell_type": "code",
   "execution_count": 169,
   "metadata": {},
   "outputs": [
    {
     "name": "stdout",
     "output_type": "stream",
     "text": [
      "2 \tTest Score: 0.7\n",
      "\tTraining Score: 0.7285714285714285 \n",
      "\n",
      "3 \tTest Score: 0.8166666666666667\n",
      "\tTraining Score: 0.8428571428571429 \n",
      "\n",
      "4 \tTest Score: 0.9\n",
      "\tTraining Score: 0.9214285714285714 \n",
      "\n",
      "5 \tTest Score: 0.8166666666666667\n",
      "\tTraining Score: 0.9285714285714286 \n",
      "\n",
      "6 \tTest Score: 0.9833333333333333\n",
      "\tTraining Score: 1.0 \n",
      "\n",
      "7 \tTest Score: 0.9833333333333333\n",
      "\tTraining Score: 1.0 \n",
      "\n"
     ]
    }
   ],
   "source": [
    "### Finding the maximum number of leaf nodes that optimizes the testing score\n",
    "for i in [2,3,4,5,6,7]:\n",
    "    tree = DecisionTreeClassifier(criterion='entropy', max_leaf_nodes=i).fit(x_train, y_train)\n",
    "    yhat = tree.predict(x_test)\n",
    "    print(i, '\\tTest Score:', tree.score(x_test, y_test))\n",
    "    print('\\tTraining Score:', tree.score(x_train, y_train), '\\n')"
   ]
  },
  {
   "cell_type": "markdown",
   "metadata": {},
   "source": [
    "#### Results on leaf nodes:  \n",
    "\n",
    "Model is optimized and fits the data well when max_leaf_nodes=4.  \n",
    "Scores:  \n",
    "\n",
    "* Test Score: 0.9\n",
    "* Training Score: 0.9214 "
   ]
  },
  {
   "cell_type": "code",
   "execution_count": 221,
   "metadata": {},
   "outputs": [
    {
     "name": "stdout",
     "output_type": "stream",
     "text": [
      "2 \tTest Score: 0.8166666666666667\n",
      "\tTraining Score: 0.8428571428571429 \n",
      "\n",
      "3 \tTest Score: 0.8166666666666667\n",
      "\tTraining Score: 0.9285714285714286 \n",
      "\n",
      "4 \tTest Score: 0.9833333333333333\n",
      "\tTraining Score: 1.0 \n",
      "\n",
      "5 \tTest Score: 0.9833333333333333\n",
      "\tTraining Score: 1.0 \n",
      "\n"
     ]
    }
   ],
   "source": [
    "### Finding the max depth that optimizes the testing score\n",
    "for i in [2,3,4,5]:\n",
    "    tree = DecisionTreeClassifier(criterion='entropy', max_depth=i).fit(x_train, y_train)\n",
    "    yhat = tree.predict(x_test)\n",
    "    print(i, '\\tTest Score:', tree.score(x_test, y_test))\n",
    "    print('\\tTraining Score:', tree.score(x_train, y_train), '\\n')"
   ]
  },
  {
   "cell_type": "markdown",
   "metadata": {},
   "source": [
    "#### Results on leaf nodes:  \n",
    "\n",
    "The max_depth parameter seems too broad of a way to reduce the overfitting of the model. When max_depth is 4 or 5, the training accuracy is a perfect score of 1, while its test score is 0.98. The optimum paramter here would be when max_depth=2, since its test_score and training_score are similar. \n",
    "\n",
    "Scores:  \n",
    "\n",
    "* Test Score: 0.8166\n",
    "* Training Score: 0.8428"
   ]
  },
  {
   "cell_type": "markdown",
   "metadata": {},
   "source": [
    "### Building Final Model"
   ]
  },
  {
   "cell_type": "code",
   "execution_count": 223,
   "metadata": {},
   "outputs": [
    {
     "name": "stdout",
     "output_type": "stream",
     "text": [
      "Trainign accuracy: \t 0.9214285714285714\n",
      "Testing accuracy:  \t 0.9\n"
     ]
    }
   ],
   "source": [
    "# tree object \n",
    "tree = DecisionTreeClassifier(criterion='entropy', max_leaf_nodes=4).fit(x_train, y_train)\n",
    "# estimations\n",
    "yhat = tree.predict(x_test)\n",
    "\n",
    "# evaluations\n",
    "# training set accuracy\n",
    "train_acc = tree.score(x_train, y_train)\n",
    "# test set accuracy\n",
    "test_acc = tree.score(x_test, y_test)\n",
    "\n",
    "print('Trainign accuracy: \\t', train_acc)\n",
    "print('Testing accuracy:  \\t', test_acc)"
   ]
  },
  {
   "cell_type": "markdown",
   "metadata": {},
   "source": [
    "### Plotting Tree"
   ]
  },
  {
   "cell_type": "code",
   "execution_count": 200,
   "metadata": {},
   "outputs": [],
   "source": [
    "# importing necessary libraries\n",
    "from sklearn.externals.six import StringIO  \n",
    "from IPython.display import Image  \n",
    "from sklearn.tree import export_graphviz\n",
    "import pydotplus"
   ]
  },
  {
   "cell_type": "code",
   "execution_count": 211,
   "metadata": {},
   "outputs": [
    {
     "data": {
      "image/png": "[encoded data removed]",
      "text/plain": [
       "<IPython.core.display.Image object>"
      ]
     },
     "execution_count": 211,
     "metadata": {},
     "output_type": "execute_result"
    }
   ],
   "source": [
    "# dot data\n",
    "dot_data = StringIO()\n",
    "\n",
    "# features\n",
    "features = df.columns[:5]\n",
    "# target\n",
    "target = df['Drug'].unique().tolist()\n",
    "\n",
    "# using export_graphviz from scikit learns tree library\n",
    "export_graphviz(tree, out_file=dot_data,  \n",
    "                filled=True, rounded=True,\n",
    "                special_characters=True, \n",
    "                class_names=target,\n",
    "                feature_names=features)\n",
    "\n",
    "# creating graph\n",
    "graph = pydotplus.graph_from_dot_data(dot_data.getvalue())  \n",
    "#showing image\n",
    "Image(graph.create_png())"
   ]
  },
  {
   "cell_type": "markdown",
   "metadata": {},
   "source": [
    "### Conclusion on Models Performance  \n",
    "\n",
    "* The model performs optimally when the maximum number of leaf nodes is 4. The model has a test accuracy of 90% and a training accuracy of 92%. The model also statisfies all the inital requirements, however, a different classification algorithm can be used to optimize the model even further."
   ]
  },
  {
   "cell_type": "code",
   "execution_count": null,
   "metadata": {},
   "outputs": [],
   "source": []
  }
 ],
 "metadata": {
  "kernelspec": {
   "display_name": "Python 3",
   "language": "python",
   "name": "python3"
  },
  "language_info": {
   "codemirror_mode": {
    "name": "ipython",
    "version": 3
   },
   "file_extension": ".py",
   "mimetype": "text/x-python",
   "name": "python",
   "nbconvert_exporter": "python",
   "pygments_lexer": "ipython3",
   "version": "3.7.3"
  }
 },
 "nbformat": 4,
 "nbformat_minor": 2
}
