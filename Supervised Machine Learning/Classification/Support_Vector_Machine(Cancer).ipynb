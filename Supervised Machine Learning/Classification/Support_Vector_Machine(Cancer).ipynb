{
 "cells": [
  {
   "cell_type": "code",
   "execution_count": 1,
   "metadata": {},
   "outputs": [],
   "source": [
    "import pandas as pd\n",
    "import numpy as np\n",
    "import seaborn as sns\n",
    "import matplotlib.pyplot as plt\n",
    "\n",
    "sns.set_style('darkgrid')\n",
    "%matplotlib inline"
   ]
  },
  {
   "cell_type": "markdown",
   "metadata": {},
   "source": [
    "### About the dataset   \n",
    "\n",
    "The dataset extracted and is publicly available from the UCI Machine Learning Repository (Asuncion and Newman, 2007)[http://mlearn.ics.uci.edu/MLRepository.html], consists of several hundred human cell sample records, each of which contains the values of a set of cell characteristics. The fields in each record are:\n",
    "\n",
    "|Field name|Description|\n",
    "|--- |--- |\n",
    "|ID|Clump thickness|\n",
    "|Clump|Clump thickness|\n",
    "|UnifSize|Uniformity of cell size|\n",
    "|UnifShape|Uniformity of cell shape|\n",
    "|MargAdh|Marginal adhesion|\n",
    "|SingEpiSize|Single epithelial cell size|\n",
    "|BareNuc|Bare nuclei|\n",
    "|BlandChrom|Bland chromatin|\n",
    "|NormNucl|Normal nucleoli|\n",
    "|Mit|Mitoses|\n",
    "|Class|Benign or malignant|  \n",
    "\n",
    "*The Class field contains the diagnosis, as confirmed by separate medical procedures, as to whether the samples are benign (value = 2) or malignant (value = 4)*   \n",
    "\n",
    "\n",
    "**The objective is to build a machine learning algorithm (in this case a SVM) to accuratly predict wether a tumor is benign(2) or malignant(4). The aim of the model is to have a high recall rate (probabilty of detection)**"
   ]
  },
  {
   "cell_type": "code",
   "execution_count": 2,
   "metadata": {},
   "outputs": [
    {
     "data": {
      "text/html": [
       "<div>\n",
       "<style scoped>\n",
       "    .dataframe tbody tr th:only-of-type {\n",
       "        vertical-align: middle;\n",
       "    }\n",
       "\n",
       "    .dataframe tbody tr th {\n",
       "        vertical-align: top;\n",
       "    }\n",
       "\n",
       "    .dataframe thead th {\n",
       "        text-align: right;\n",
       "    }\n",
       "</style>\n",
       "<table border=\"1\" class=\"dataframe\">\n",
       "  <thead>\n",
       "    <tr style=\"text-align: right;\">\n",
       "      <th></th>\n",
       "      <th>ID</th>\n",
       "      <th>Clump</th>\n",
       "      <th>UnifSize</th>\n",
       "      <th>UnifShape</th>\n",
       "      <th>MargAdh</th>\n",
       "      <th>SingEpiSize</th>\n",
       "      <th>BareNuc</th>\n",
       "      <th>BlandChrom</th>\n",
       "      <th>NormNucl</th>\n",
       "      <th>Mit</th>\n",
       "      <th>Class</th>\n",
       "    </tr>\n",
       "  </thead>\n",
       "  <tbody>\n",
       "    <tr>\n",
       "      <th>0</th>\n",
       "      <td>1000025</td>\n",
       "      <td>5</td>\n",
       "      <td>1</td>\n",
       "      <td>1</td>\n",
       "      <td>1</td>\n",
       "      <td>2</td>\n",
       "      <td>1</td>\n",
       "      <td>3</td>\n",
       "      <td>1</td>\n",
       "      <td>1</td>\n",
       "      <td>2</td>\n",
       "    </tr>\n",
       "    <tr>\n",
       "      <th>1</th>\n",
       "      <td>1002945</td>\n",
       "      <td>5</td>\n",
       "      <td>4</td>\n",
       "      <td>4</td>\n",
       "      <td>5</td>\n",
       "      <td>7</td>\n",
       "      <td>10</td>\n",
       "      <td>3</td>\n",
       "      <td>2</td>\n",
       "      <td>1</td>\n",
       "      <td>2</td>\n",
       "    </tr>\n",
       "    <tr>\n",
       "      <th>2</th>\n",
       "      <td>1015425</td>\n",
       "      <td>3</td>\n",
       "      <td>1</td>\n",
       "      <td>1</td>\n",
       "      <td>1</td>\n",
       "      <td>2</td>\n",
       "      <td>2</td>\n",
       "      <td>3</td>\n",
       "      <td>1</td>\n",
       "      <td>1</td>\n",
       "      <td>2</td>\n",
       "    </tr>\n",
       "    <tr>\n",
       "      <th>3</th>\n",
       "      <td>1016277</td>\n",
       "      <td>6</td>\n",
       "      <td>8</td>\n",
       "      <td>8</td>\n",
       "      <td>1</td>\n",
       "      <td>3</td>\n",
       "      <td>4</td>\n",
       "      <td>3</td>\n",
       "      <td>7</td>\n",
       "      <td>1</td>\n",
       "      <td>2</td>\n",
       "    </tr>\n",
       "    <tr>\n",
       "      <th>4</th>\n",
       "      <td>1017023</td>\n",
       "      <td>4</td>\n",
       "      <td>1</td>\n",
       "      <td>1</td>\n",
       "      <td>3</td>\n",
       "      <td>2</td>\n",
       "      <td>1</td>\n",
       "      <td>3</td>\n",
       "      <td>1</td>\n",
       "      <td>1</td>\n",
       "      <td>2</td>\n",
       "    </tr>\n",
       "  </tbody>\n",
       "</table>\n",
       "</div>"
      ],
      "text/plain": [
       "        ID  Clump  UnifSize  UnifShape  MargAdh  SingEpiSize BareNuc  \\\n",
       "0  1000025      5         1          1        1            2       1   \n",
       "1  1002945      5         4          4        5            7      10   \n",
       "2  1015425      3         1          1        1            2       2   \n",
       "3  1016277      6         8          8        1            3       4   \n",
       "4  1017023      4         1          1        3            2       1   \n",
       "\n",
       "   BlandChrom  NormNucl  Mit  Class  \n",
       "0           3         1    1      2  \n",
       "1           3         2    1      2  \n",
       "2           3         1    1      2  \n",
       "3           3         7    1      2  \n",
       "4           3         1    1      2  "
      ]
     },
     "execution_count": 2,
     "metadata": {},
     "output_type": "execute_result"
    }
   ],
   "source": [
    "# csv url to be imported\n",
    "csv_url = 'https://s3-api.us-geo.objectstorage.softlayer.net/cf-courses-data/CognitiveClass/ML0101ENv3/labs/cell_samples.csv'\n",
    "\n",
    "# dataframe\n",
    "df = pd.read_csv(csv_url)\n",
    "df.head()"
   ]
  },
  {
   "cell_type": "markdown",
   "metadata": {},
   "source": [
    "## Ensure data is clean "
   ]
  },
  {
   "cell_type": "code",
   "execution_count": 3,
   "metadata": {},
   "outputs": [
    {
     "data": {
      "text/plain": [
       "2    458\n",
       "4    241\n",
       "Name: Class, dtype: int64"
      ]
     },
     "execution_count": 3,
     "metadata": {},
     "output_type": "execute_result"
    }
   ],
   "source": [
    "# counting occurences of the different tumour types\n",
    "df['Class'].value_counts()"
   ]
  },
  {
   "cell_type": "code",
   "execution_count": 4,
   "metadata": {},
   "outputs": [],
   "source": [
    "# converting tumor type values. Benign(2) changes to 0, Malignant(4) changes to 1\n",
    "df['Class'] = df['Class'].map({2: 0, 4: 1})"
   ]
  },
  {
   "cell_type": "code",
   "execution_count": 5,
   "metadata": {},
   "outputs": [
    {
     "data": {
      "text/plain": [
       "0    458\n",
       "1    241\n",
       "Name: Class, dtype: int64"
      ]
     },
     "execution_count": 5,
     "metadata": {},
     "output_type": "execute_result"
    }
   ],
   "source": [
    "df['Class'].value_counts()"
   ]
  },
  {
   "cell_type": "code",
   "execution_count": 6,
   "metadata": {},
   "outputs": [
    {
     "name": "stdout",
     "output_type": "stream",
     "text": [
      "<class 'pandas.core.frame.DataFrame'>\n",
      "RangeIndex: 699 entries, 0 to 698\n",
      "Data columns (total 11 columns):\n",
      "ID             699 non-null int64\n",
      "Clump          699 non-null int64\n",
      "UnifSize       699 non-null int64\n",
      "UnifShape      699 non-null int64\n",
      "MargAdh        699 non-null int64\n",
      "SingEpiSize    699 non-null int64\n",
      "BareNuc        699 non-null object\n",
      "BlandChrom     699 non-null int64\n",
      "NormNucl       699 non-null int64\n",
      "Mit            699 non-null int64\n",
      "Class          699 non-null int64\n",
      "dtypes: int64(10), object(1)\n",
      "memory usage: 60.1+ KB\n"
     ]
    }
   ],
   "source": [
    "df.info()"
   ]
  },
  {
   "cell_type": "code",
   "execution_count": 7,
   "metadata": {},
   "outputs": [
    {
     "data": {
      "text/plain": [
       "ID             0\n",
       "Clump          0\n",
       "UnifSize       0\n",
       "UnifShape      0\n",
       "MargAdh        0\n",
       "SingEpiSize    0\n",
       "BareNuc        0\n",
       "BlandChrom     0\n",
       "NormNucl       0\n",
       "Mit            0\n",
       "Class          0\n",
       "dtype: int64"
      ]
     },
     "execution_count": 7,
     "metadata": {},
     "output_type": "execute_result"
    }
   ],
   "source": [
    "# ensuring there are no missing values\n",
    "df.isnull().sum()"
   ]
  },
  {
   "cell_type": "code",
   "execution_count": 8,
   "metadata": {},
   "outputs": [
    {
     "data": {
      "text/plain": [
       "ID              int64\n",
       "Clump           int64\n",
       "UnifSize        int64\n",
       "UnifShape       int64\n",
       "MargAdh         int64\n",
       "SingEpiSize     int64\n",
       "BareNuc        object\n",
       "BlandChrom      int64\n",
       "NormNucl        int64\n",
       "Mit             int64\n",
       "Class           int64\n",
       "dtype: object"
      ]
     },
     "execution_count": 8,
     "metadata": {},
     "output_type": "execute_result"
    }
   ],
   "source": [
    "# data types of dataset\n",
    "df.dtypes"
   ]
  },
  {
   "cell_type": "code",
   "execution_count": 9,
   "metadata": {},
   "outputs": [
    {
     "data": {
      "text/plain": [
       "dtype('int64')"
      ]
     },
     "execution_count": 9,
     "metadata": {},
     "output_type": "execute_result"
    }
   ],
   "source": [
    "# 'BareNuc' should be converted to an int data type\n",
    "df = df[pd.to_numeric(df['BareNuc'], errors='coerce').notnull()]\n",
    "df['BareNuc'] = df['BareNuc'].astype('int')\n",
    "df['BareNuc'].dtypes"
   ]
  },
  {
   "cell_type": "markdown",
   "metadata": {},
   "source": [
    "## Analyse data"
   ]
  },
  {
   "cell_type": "code",
   "execution_count": 10,
   "metadata": {},
   "outputs": [
    {
     "data": {
      "image/png": "[encoded data removed]",
      "text/plain": [
       "<Figure size 720x360 with 1 Axes>"
      ]
     },
     "metadata": {
      "needs_background": "light"
     },
     "output_type": "display_data"
    },
    {
     "name": "stdout",
     "output_type": "stream",
     "text": [
      "0    65.01\n",
      "1    34.99\n",
      "Name: Class, dtype: float64\n"
     ]
    }
   ],
   "source": [
    "fig, ax1 = plt.subplots(figsize=(10,5))\n",
    "# plotting bar graph using pandas\n",
    "df['Class'].value_counts().plot(kind='bar',\n",
    "                               title='Total amount of benign(0) and malignant(1) tumors',\n",
    "                               fontsize=12);\n",
    "\n",
    "# labels on x axis\n",
    "plt.xlabel('Tumor Types', \n",
    "           fontsize=12, \n",
    "           labelpad=20)\n",
    "# labels on y axis\n",
    "plt.ylabel(\"Total Counts\", \n",
    "           fontsize=12, \n",
    "           labelpad=20)\n",
    "# changing values of xticks\n",
    "ax1.set_xticklabels(['Benign(0)', 'Malignant(1)'], \n",
    "                    rotation=0)\n",
    "plt.show()\n",
    "\n",
    "print(round(df['Class'].value_counts(normalize=True) * 100, 2))"
   ]
  },
  {
   "cell_type": "markdown",
   "metadata": {},
   "source": [
    "*From the bar plot aove we can see that malignant tumors have a high presence in the dataset at 34.99%* \n",
    "*This indicates that tumors tend to be cancerous around 35% of the time*"
   ]
  },
  {
   "cell_type": "code",
   "execution_count": 11,
   "metadata": {},
   "outputs": [
    {
     "data": {
      "image/png": "[encoded data removed]",
      "text/plain": [
       "<Figure size 720x360 with 1 Axes>"
      ]
     },
     "metadata": {
      "needs_background": "light"
     },
     "output_type": "display_data"
    }
   ],
   "source": [
    "# plotting malignant tumors with darkblue\n",
    "ax1 = df[df['Class'] == 1][0:50].plot(kind='scatter',\n",
    "                                      x='Clump',\n",
    "                                      y='UnifSize',\n",
    "                                      color='DarkBlue', \n",
    "                                      label='malignant',\n",
    "                                      figsize=(10,5),\n",
    "                                      fontsize=13);\n",
    "# plotting benign tumors with yellow\n",
    "df[df['Class'] == 0][0:50].plot(kind='scatter',\n",
    "                                x='Clump',\n",
    "                                y='UnifSize',\n",
    "                                color='Yellow', \n",
    "                                label='benign', \n",
    "                                ax=ax1);\n",
    "plt.title('Scatter plot showing malignant vs benign tumors', fontsize=15)\n",
    "plt.xlabel('Clump', fontsize=13)\n",
    "plt.ylabel('UnifSize', fontsize=13)\n",
    "plt.show()"
   ]
  },
  {
   "cell_type": "code",
   "execution_count": 12,
   "metadata": {},
   "outputs": [
    {
     "data": {
      "text/plain": [
       "ID            -0.084701\n",
       "Mit            0.423448\n",
       "SingEpiSize    0.690958\n",
       "MargAdh        0.706294\n",
       "Clump          0.714790\n",
       "NormNucl       0.718677\n",
       "BlandChrom     0.758228\n",
       "UnifSize       0.820801\n",
       "UnifShape      0.821891\n",
       "BareNuc        0.822696\n",
       "Class          1.000000\n",
       "Name: Class, dtype: float64"
      ]
     },
     "execution_count": 12,
     "metadata": {},
     "output_type": "execute_result"
    }
   ],
   "source": [
    "df.corr()['Class'].sort_values()"
   ]
  },
  {
   "cell_type": "code",
   "execution_count": 13,
   "metadata": {},
   "outputs": [
    {
     "data": {
      "image/png": "[encoded data removed]",
      "text/plain": [
       "<Figure size 1080x360 with 1 Axes>"
      ]
     },
     "metadata": {
      "needs_background": "light"
     },
     "output_type": "display_data"
    }
   ],
   "source": [
    "# distribution plots of a few of the features\n",
    "plt.figure(figsize=(15,5));\n",
    "ax1 = sns.distplot(df['UnifShape'], hist=False, label='Uniformity of cell shape');\n",
    "sns.distplot(df['MargAdh'], ax=ax1, hist=False, label='Marginal Adhesion')\n",
    "sns.distplot(df['BlandChrom'], ax=ax1, hist=False, label='Bland Chromatin')\n",
    "sns.distplot(df['BareNuc'], ax=ax1, hist=False, label='Bare nuclei')\n",
    "sns.distplot(df['NormNucl'], ax=ax1, hist=False, label='Normal nucleoli')\n",
    "plt.title('Distribution plot showing some features of the dataset')\n",
    "plt.xlabel(xlabel=None)\n",
    "plt.show()"
   ]
  },
  {
   "cell_type": "markdown",
   "metadata": {},
   "source": [
    "The features may benefit from normalization. For the SVM model it will improve results and accuracy of the model."
   ]
  },
  {
   "cell_type": "markdown",
   "metadata": {},
   "source": [
    "# Feature Selection and Building ML Model"
   ]
  },
  {
   "cell_type": "code",
   "execution_count": 14,
   "metadata": {},
   "outputs": [],
   "source": [
    "# x values / feature selection\n",
    "X = df[['Clump', 'UnifSize', 'UnifShape', 'MargAdh', 'SingEpiSize', 'BareNuc', 'BlandChrom', 'NormNucl', 'Mit']]\n",
    "# target variable\n",
    "y = df['Class']"
   ]
  },
  {
   "cell_type": "code",
   "execution_count": 15,
   "metadata": {},
   "outputs": [],
   "source": [
    "# importing necessary models to create ML model\n",
    "from sklearn.model_selection import train_test_split, GridSearchCV\n",
    "from sklearn.preprocessing import MinMaxScaler\n",
    "from sklearn.svm import SVC\n",
    "\n",
    "# importing evaluation metrics\n",
    "from sklearn.metrics import recall_score, roc_auc_score, classification_report, f1_score, confusion_matrix"
   ]
  },
  {
   "cell_type": "code",
   "execution_count": 16,
   "metadata": {},
   "outputs": [
    {
     "name": "stdout",
     "output_type": "stream",
     "text": [
      "(546, 9) (546,)\n",
      "(137, 9) (137,)\n"
     ]
    }
   ],
   "source": [
    "# splitting data into training and testing\n",
    "x_train, x_test, y_train, y_test = train_test_split(X, y, test_size=0.2, random_state=0)\n",
    "print(x_train.shape, y_train.shape)\n",
    "print(x_test.shape, y_test.shape)"
   ]
  },
  {
   "cell_type": "code",
   "execution_count": 17,
   "metadata": {},
   "outputs": [],
   "source": [
    "# for the best results using a SVM classifier, data should be normalized for best results\n",
    "# creating scale object \n",
    "scale = MinMaxScaler()\n",
    "# fit and transforms on training data\n",
    "x_train_scaled = scale.fit_transform(x_train)\n",
    "# transforming testing data\n",
    "x_test_scaled = scale.transform(x_test)"
   ]
  },
  {
   "cell_type": "code",
   "execution_count": 18,
   "metadata": {},
   "outputs": [
    {
     "name": "stdout",
     "output_type": "stream",
     "text": [
      "\n",
      "Kernel:  linear \n",
      "Accuracy:  95.6204 \n",
      "Roc Score:  95.7011 \n",
      "Recall Score:  96.0\n",
      "\n",
      "Kernel:  rbf \n",
      "Accuracy:  96.3504 \n",
      "Roc Score:  96.7011 \n",
      "Recall Score:  98.0\n",
      "\n",
      "Kernel:  poly \n",
      "Accuracy:  96.3504 \n",
      "Roc Score:  96.2759 \n",
      "Recall Score:  96.0\n",
      "\n",
      "Kernel:  sigmoid \n",
      "Accuracy:  72.2628 \n",
      "Roc Score:  68.3793 \n",
      "Recall Score:  54.0\n"
     ]
    }
   ],
   "source": [
    "# find the optimal kernel that maximizes the recall rate\n",
    "kernels = ['linear', 'rbf', 'poly', 'sigmoid']\n",
    "\n",
    "for k in kernels:\n",
    "    clf = SVC(kernel=k, gamma=1.0).fit(x_train_scaled, y_train)\n",
    "    yhat = clf.predict(x_test_scaled)\n",
    "    score = clf.score(x_test_scaled, y_test)\n",
    "    roc_score = roc_auc_score(y_test, yhat)\n",
    "    recall = recall_score(y_test, yhat)\n",
    "    print('\\nKernel: ', k,\n",
    "          '\\nAccuracy: ', round(score*100,4),\n",
    "         '\\nRoc Score: ', round(roc_score*100,4),\n",
    "         '\\nRecall Score: ', round(recall*100,4))"
   ]
  },
  {
   "cell_type": "markdown",
   "metadata": {},
   "source": [
    "### Since the model must optimize the probaility of detection, the radial basis function has the best scores for recall and area_under_curve (roc)."
   ]
  },
  {
   "cell_type": "code",
   "execution_count": 19,
   "metadata": {},
   "outputs": [
    {
     "name": "stdout",
     "output_type": "stream",
     "text": [
      "1 - Gamma:  0.01  C:  0.01\n",
      "2 - Gamma:  0.01  C:  0.1\n",
      "3 - Gamma:  0.01  C:  1\n",
      "4 - Gamma:  0.01  C:  5\n",
      "5 - Gamma:  0.1  C:  0.01\n",
      "6 - Gamma:  0.1  C:  0.1\n",
      "7 - Gamma:  0.1  C:  1\n",
      "8 - Gamma:  0.1  C:  5\n",
      "9 - Gamma:  1  C:  0.01\n",
      "10 - Gamma:  1  C:  0.1\n",
      "11 - Gamma:  1  C:  1\n",
      "12 - Gamma:  1  C:  5\n",
      "13 - Gamma:  5  C:  0.01\n",
      "14 - Gamma:  5  C:  0.1\n",
      "15 - Gamma:  5  C:  1\n",
      "16 - Gamma:  5  C:  5\n",
      "Recall Scores:\n",
      " [0.0, 0.2, 0.88, 0.9, 0.0, 0.9, 0.94, 0.96, 0.92, 0.98, 0.98, 0.98, 0.0, 1.0, 1.0, 1.0]\n",
      "ROC Scores:\n",
      " [0.5, 0.6, 0.9227586206896551, 0.9327586206896551, 0.5, 0.9327586206896551, 0.9527586206896552, 0.9570114942528736, 0.9370114942528736, 0.9670114942528737, 0.9670114942528737, 0.9727586206896552, 0.5, 0.9540229885057472, 0.9712643678160919, 0.9770114942528736]\n"
     ]
    }
   ],
   "source": [
    "# from the above, the radial basis function kernel performs best\n",
    "# now find optimal parameters\n",
    "roc_scores = []\n",
    "recall = []\n",
    "n=1\n",
    "for g in [0.01, 0.1, 1, 5]:\n",
    "    for cs in [0.01, 0.1, 1, 5]:\n",
    "        \n",
    "        clf = SVC(kernel='rbf', gamma=g, C=cs).fit(x_train_scaled, y_train)\n",
    "        yhat = clf.predict(x_test_scaled)\n",
    "        roc_scores.append(roc_auc_score(y_test, yhat))\n",
    "        recall.append(recall_score(y_test, yhat))\n",
    "        print(n, '- Gamma: ', g, \n",
    "             ' C: ', cs)\n",
    "        n+=1\n",
    "\n",
    "print('Recall Scores:\\n', recall)\n",
    "print('ROC Scores:\\n', roc_scores)"
   ]
  },
  {
   "cell_type": "code",
   "execution_count": 20,
   "metadata": {},
   "outputs": [
    {
     "name": "stdout",
     "output_type": "stream",
     "text": [
      "ROC Score Position:\n",
      " 16\n",
      "Recall Score Position:\n",
      " 14\n"
     ]
    }
   ],
   "source": [
    "# finding optimal gamma and c values\n",
    "print('ROC Score Position:\\n', np.array(roc_scores).argmax() + 1)\n",
    "print('Recall Score Position:\\n', np.array(recall).argmax()+1)"
   ]
  },
  {
   "cell_type": "markdown",
   "metadata": {},
   "source": [
    "**Since the recall rate has a perfect score of 1 at positions (14,15,16), and the ROC score is maximized at position 16, the optimum value for C is 5 while gamma=5.**"
   ]
  },
  {
   "cell_type": "markdown",
   "metadata": {},
   "source": [
    "## Building the final model  "
   ]
  },
  {
   "cell_type": "code",
   "execution_count": 21,
   "metadata": {},
   "outputs": [
    {
     "name": "stdout",
     "output_type": "stream",
     "text": [
      "              precision    recall  f1-score   support\n",
      "\n",
      "      Benign       1.00      0.95      0.98        87\n",
      "   Malignant       0.93      1.00      0.96        50\n",
      "\n",
      "    accuracy                           0.97       137\n",
      "   macro avg       0.96      0.98      0.97       137\n",
      "weighted avg       0.97      0.97      0.97       137\n",
      "\n",
      "F1 score of:  96.1538\n",
      "Models Accuracy:  97.0803\n",
      "Classification Error:  2.9197\n",
      "Recall Score:  100.0\n",
      "Roc Score:  98.0 4\n"
     ]
    },
    {
     "data": {
      "image/png": "[encoded data removed]",
      "text/plain": [
       "<Figure size 720x360 with 2 Axes>"
      ]
     },
     "metadata": {
      "needs_background": "light"
     },
     "output_type": "display_data"
    }
   ],
   "source": [
    "# best parameters that optimize the model are at gamma=5, C=5\n",
    "\n",
    "# Build model\n",
    "clf_final = SVC(kernel='rbf', gamma=5, C=5).fit(x_train_scaled, y_train)\n",
    "# predictions\n",
    "yhat = clf_final.predict(x_test_scaled)\n",
    "\n",
    "# score of final model\n",
    "acc_final = clf.score(x_test_scaled, y_test)\n",
    "# f1 score using weighted average\n",
    "f1_final = f1_score(y_test, yhat)\n",
    "# recall score\n",
    "recall_final = recall_score(y_test, yhat)\n",
    "# roc score\n",
    "roc_final = roc_auc_score(y_test, yhat)\n",
    "\n",
    "# classification report\n",
    "report_final = classification_report(y_test, yhat, target_names=['Benign', 'Malignant'])\n",
    "print(report_final)\n",
    "\n",
    "# confusion matrix of results\n",
    "matrix_final = confusion_matrix(y_test, yhat)\n",
    "\n",
    "# plotting heatmap using the matrix\n",
    "fig, ax1 = plt.subplots(figsize=(10,5))\n",
    "\n",
    "heat_df = sns.heatmap(pd.DataFrame(matrix_final), \n",
    "                      xticklabels=['Benign', 'Malignant'],\n",
    "                      annot=True, \n",
    "                      cmap=\"YlGnBu\", \n",
    "                      fmt='.2g',\n",
    "                      yticklabels=['Benign', 'Malignant'],\n",
    "                      annot_kws={\"size\":13},\n",
    "                      ax=ax1)\n",
    "# showing heatmap\n",
    "heat_df;\n",
    "plt.title('Heatmap of the confusion matrix', fontsize=13)\n",
    "ax1.tick_params(labelsize=15, pad=10)\n",
    "\n",
    "# printing the scores\n",
    "print('F1 score of: ', round(f1_final * 100, 4))\n",
    "print('Models Accuracy: ', round(acc_final * 100, 4))\n",
    "print('Classification Error: ', round((1-acc_final) * 100, 4))\n",
    "print('Recall Score: ', round(recall_final * 100))\n",
    "print('Roc Score: ', round(roc_final * 100), 4)"
   ]
  },
  {
   "cell_type": "markdown",
   "metadata": {},
   "source": [
    "## Conclusion and Findings   \n",
    "\n",
    "The model has a perfect recall rate of 100% mean that it has a high probability of detecting a cancerous tumor!  \n",
    "The model also has a high f1 score of 96.15% and a low classification error of only 2.91%. Overall the accuracy (97%) and recall scores of model shows that it has performed optimally.\n",
    "\n",
    "Using gridsearchCV may be used to find the optimal parameters more effeciently (shown below)."
   ]
  },
  {
   "cell_type": "markdown",
   "metadata": {},
   "source": [
    "### Using GridSearchCV to find optimum parameters"
   ]
  },
  {
   "cell_type": "code",
   "execution_count": 30,
   "metadata": {},
   "outputs": [
    {
     "name": "stdout",
     "output_type": "stream",
     "text": [
      "Best Parameters:  {'C': 1, 'gamma': 0.01}\n",
      "Best Score:  99.4943\n",
      "Recall Score of:  88.0\n"
     ]
    }
   ],
   "source": [
    "# parameters for gridsearch\n",
    "grid_params = {'gamma': [0.01, 0.1, 1, 5], \n",
    "              'C': [0.01, 0.1, 1, 5]}\n",
    "\n",
    "# svm model with radial basis kernel\n",
    "clf = SVC(kernel='rbf')\n",
    "\n",
    "# gridsearchcv object\n",
    "grid_clf = GridSearchCV(clf, param_grid=grid_params, cv=5, scoring='roc_auc')\n",
    "# fitting grid object\n",
    "grid_clf.fit(x_train_scaled, y_train)\n",
    "\n",
    "# best parameters found by GridSearchCV\n",
    "best_parameters = grid_clf.best_params_\n",
    "grids_score = grid_clf.score(x_test_scaled, y_test)\n",
    "\n",
    "print('Best Parameters: ', best_parameters)\n",
    "print('Best Score: ', round(grids_score * 100, 4))\n",
    "print('Recall Score of: ', round(recall_score(y_test, grid_clf.predict(x_test_scaled)) * 100))"
   ]
  },
  {
   "cell_type": "code",
   "execution_count": 31,
   "metadata": {},
   "outputs": [
    {
     "name": "stdout",
     "output_type": "stream",
     "text": [
      "              precision    recall  f1-score   support\n",
      "\n",
      "      Benign       0.93      0.97      0.95        87\n",
      "   Malignant       0.94      0.88      0.91        50\n",
      "\n",
      "    accuracy                           0.93       137\n",
      "   macro avg       0.93      0.92      0.93       137\n",
      "weighted avg       0.93      0.93      0.93       137\n",
      "\n",
      "F1 score of:  90.7216\n",
      "Models Accuracy:  93.4307\n",
      "Classification Error:  6.5693\n",
      "Recall score:  88.0\n",
      "Roc score:  92.2759\n"
     ]
    },
    {
     "data": {
      "image/png": "[encoded data removed]",
      "text/plain": [
       "<Figure size 720x360 with 2 Axes>"
      ]
     },
     "metadata": {
      "needs_background": "light"
     },
     "output_type": "display_data"
    }
   ],
   "source": [
    "# build final model using gamma=0.01 and C=1\n",
    "clf = SVC(kernel='rbf', gamma=0.01, C=1).fit(x_train_scaled, y_train)\n",
    "yhat = clf.predict(x_test_scaled)\n",
    "\n",
    "# accuracy\n",
    "acc_grid = clf.score(x_test_scaled, y_test)\n",
    "# f1 score\n",
    "f1_grid = f1_score(y_test, yhat)\n",
    "# recall score\n",
    "recall_grid = recall_score(y_test, yhat)\n",
    "# auc score \n",
    "roc_grid = roc_auc_score(y_test, yhat)\n",
    "\n",
    "# classification report\n",
    "report = classification_report(y_test, yhat, target_names=['Benign', 'Malignant'])\n",
    "print(report)\n",
    "\n",
    "# matrix of results\n",
    "matrix = confusion_matrix(y_test, yhat)\n",
    "\n",
    "# plotting heatmap using the matrix\n",
    "fig, ax1 = plt.subplots(figsize=(10,5))\n",
    "\n",
    "# creating heatmap\n",
    "heat_df = sns.heatmap(pd.DataFrame(matrix), \n",
    "                      xticklabels=['Benign', 'Malignant'],\n",
    "                      annot=True, \n",
    "                      cmap=\"YlGnBu\", \n",
    "                      fmt='.2g',\n",
    "                      annot_kws={'size': 13},\n",
    "                      yticklabels=['Benign', 'Malignant'],\n",
    "                      ax=ax1)\n",
    "# showing heatmap\n",
    "heat_df;\n",
    "plt.title('Heatmap of the confusion matrix', fontsize=13)\n",
    "ax1.tick_params(labelsize=15, pad=10)\n",
    "\n",
    "print('F1 score of: ', round(f1_grid * 100, 4))\n",
    "print('Models Accuracy: ', round(acc_grid * 100, 4))\n",
    "print('Classification Error: ', round((1-acc_grid) * 100, 4))\n",
    "print('Recall score: ', round(recall_grid * 100, 4))\n",
    "print('Roc score: ', round(roc_grid * 100, 4))"
   ]
  },
  {
   "cell_type": "markdown",
   "metadata": {},
   "source": [
    "### Conclusion on GridSearchCV  \n",
    "\n",
    "Using GridSearchCV actually did not perform as optimally as our intial model. The gridsearch optimal parameters returned a recall rate of 88% which is incredible poor considering how important it is to find a cancerous tumour. The classification error of 6.5% is also higher than our initial model."
   ]
  },
  {
   "cell_type": "code",
   "execution_count": 32,
   "metadata": {},
   "outputs": [
    {
     "name": "stdout",
     "output_type": "stream",
     "text": [
      "SVM  Model Recall Score:  100.0 %\n",
      "GridSearchCV Accuracy:  88.0 %\n",
      "\n",
      "SVM Model Roc Score:  97.7011\n",
      "GridSearchCV Roc Score:  92.2759\n",
      "\n",
      "SVM Model f1 score:  96.15 %\n",
      "GridSearchCV f1 score:  90.72 %\n",
      "\n",
      "SVM Model Classification Error:  2.92 %\n",
      "GridSearchCV Classification Error:  6.57 %\n"
     ]
    }
   ],
   "source": [
    "# Evaluation on gridseacrh vs manual searching\n",
    "print('SVM  Model Recall Score: ', round(recall_final * 100, 2), '%')\n",
    "print('GridSearchCV Accuracy: ', round(recall_grid * 100, 2), '%')\n",
    "print('\\nSVM Model Roc Score: ', round(roc_final * 100, 4))\n",
    "print('GridSearchCV Roc Score: ', round(roc_grid * 100, 4))\n",
    "print('\\nSVM Model f1 score: ', round(f1_final * 100, 2), '%')\n",
    "print('GridSearchCV f1 score: ', round(f1_grid * 100, 2), '%')\n",
    "print('\\nSVM Model Classification Error: ', round((1-acc_final) * 100, 2), '%')\n",
    "print('GridSearchCV Classification Error: ', round((1-acc_grid) * 100, 2), '%')"
   ]
  },
  {
   "cell_type": "markdown",
   "metadata": {},
   "source": [
    "# Final Conclusion on GridSearch and SVM   \n",
    "\n",
    "From the above analysis, the GridSearchCV underperformed. The initial SVM model had a higher recall rate of 100% as opposed to the gridsearch of 88%. The classification error with the initial model is lower than the gridearch, indicating that our model is more accurate in predicting the correct class. It also outperformed in terms of the f1 score.\n",
    "\n",
    "The optimum model found here is a Kernalized Support Vector Machine (SVM). The kernel used is a radial basis function kernel (rbf) with a gamma value of 5 and C value of 5."
   ]
  }
 ],
 "metadata": {
  "kernelspec": {
   "display_name": "Python 3",
   "language": "python",
   "name": "python3"
  },
  "language_info": {
   "codemirror_mode": {
    "name": "ipython",
    "version": 3
   },
   "file_extension": ".py",
   "mimetype": "text/x-python",
   "name": "python",
   "nbconvert_exporter": "python",
   "pygments_lexer": "ipython3",
   "version": "3.7.3"
  }
 },
 "nbformat": 4,
 "nbformat_minor": 2
}
