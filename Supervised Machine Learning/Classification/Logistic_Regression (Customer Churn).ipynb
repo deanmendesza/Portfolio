{
 "cells": [
  {
   "cell_type": "code",
   "execution_count": 1,
   "metadata": {},
   "outputs": [],
   "source": [
    "import pandas as pd\n",
    "import numpy as np\n",
    "import seaborn as sns\n",
    "import matplotlib.pyplot as plt\n",
    "\n",
    "sns.set_style('darkgrid')\n",
    "%matplotlib inline"
   ]
  },
  {
   "cell_type": "markdown",
   "metadata": {},
   "source": [
    "<h2 id=\"about_dataset\">About the dataset</h2>\n",
    "We will use a telecommunications dataset for predicting customer churn. This is a historical customer dataset where each row represents one customer. The data is relatively easy to understand, and you may uncover insights you can use immediately. Typically it is less expensive to keep customers than acquire new ones, so the focus of this analysis is to predict the customers who will stay with the company. \n",
    "\n",
    "\n",
    "This data set provides information to help you predict what behavior will help you to retain customers. You can analyze all relevant customer data and develop focused customer retention programs.\n",
    "\n",
    "\n",
    "\n",
    "The dataset includes information about:\n",
    "\n",
    "- Customers who left within the last month – the column is called Churn\n",
    "- Services that each customer has signed up for – phone, multiple lines, internet, online security, online backup, device protection, tech support, and streaming TV and movies\n",
    "- Customer account information – how long they had been a customer, contract, payment method, paperless billing, monthly charges, and total charges\n",
    "- Demographic info about customers – gender, age range, and if they have partners and dependents\n",
    "\n",
    "\n",
    "**Customer churn values: 0 = stayed with company, 1 = left the company**   \n",
    "   \n",
    "   \n",
    "   \n",
    "\n",
    "### The goal is to use Logistic Regression Model that can accurately predict if a customer will leave with the company. The aim is to optimize the recall and roc-auc-scores."
   ]
  },
  {
   "cell_type": "code",
   "execution_count": 2,
   "metadata": {},
   "outputs": [
    {
     "data": {
      "text/html": [
       "<div>\n",
       "<style scoped>\n",
       "    .dataframe tbody tr th:only-of-type {\n",
       "        vertical-align: middle;\n",
       "    }\n",
       "\n",
       "    .dataframe tbody tr th {\n",
       "        vertical-align: top;\n",
       "    }\n",
       "\n",
       "    .dataframe thead th {\n",
       "        text-align: right;\n",
       "    }\n",
       "</style>\n",
       "<table border=\"1\" class=\"dataframe\">\n",
       "  <thead>\n",
       "    <tr style=\"text-align: right;\">\n",
       "      <th></th>\n",
       "      <th>tenure</th>\n",
       "      <th>age</th>\n",
       "      <th>address</th>\n",
       "      <th>income</th>\n",
       "      <th>ed</th>\n",
       "      <th>employ</th>\n",
       "      <th>equip</th>\n",
       "      <th>callcard</th>\n",
       "      <th>wireless</th>\n",
       "      <th>longmon</th>\n",
       "      <th>...</th>\n",
       "      <th>pager</th>\n",
       "      <th>internet</th>\n",
       "      <th>callwait</th>\n",
       "      <th>confer</th>\n",
       "      <th>ebill</th>\n",
       "      <th>loglong</th>\n",
       "      <th>logtoll</th>\n",
       "      <th>lninc</th>\n",
       "      <th>custcat</th>\n",
       "      <th>churn</th>\n",
       "    </tr>\n",
       "  </thead>\n",
       "  <tbody>\n",
       "    <tr>\n",
       "      <th>0</th>\n",
       "      <td>11.0</td>\n",
       "      <td>33.0</td>\n",
       "      <td>7.0</td>\n",
       "      <td>136.0</td>\n",
       "      <td>5.0</td>\n",
       "      <td>5.0</td>\n",
       "      <td>0.0</td>\n",
       "      <td>1.0</td>\n",
       "      <td>1.0</td>\n",
       "      <td>4.40</td>\n",
       "      <td>...</td>\n",
       "      <td>1.0</td>\n",
       "      <td>0.0</td>\n",
       "      <td>1.0</td>\n",
       "      <td>1.0</td>\n",
       "      <td>0.0</td>\n",
       "      <td>1.482</td>\n",
       "      <td>3.033</td>\n",
       "      <td>4.913</td>\n",
       "      <td>4.0</td>\n",
       "      <td>1.0</td>\n",
       "    </tr>\n",
       "    <tr>\n",
       "      <th>1</th>\n",
       "      <td>33.0</td>\n",
       "      <td>33.0</td>\n",
       "      <td>12.0</td>\n",
       "      <td>33.0</td>\n",
       "      <td>2.0</td>\n",
       "      <td>0.0</td>\n",
       "      <td>0.0</td>\n",
       "      <td>0.0</td>\n",
       "      <td>0.0</td>\n",
       "      <td>9.45</td>\n",
       "      <td>...</td>\n",
       "      <td>0.0</td>\n",
       "      <td>0.0</td>\n",
       "      <td>0.0</td>\n",
       "      <td>0.0</td>\n",
       "      <td>0.0</td>\n",
       "      <td>2.246</td>\n",
       "      <td>3.240</td>\n",
       "      <td>3.497</td>\n",
       "      <td>1.0</td>\n",
       "      <td>1.0</td>\n",
       "    </tr>\n",
       "    <tr>\n",
       "      <th>2</th>\n",
       "      <td>23.0</td>\n",
       "      <td>30.0</td>\n",
       "      <td>9.0</td>\n",
       "      <td>30.0</td>\n",
       "      <td>1.0</td>\n",
       "      <td>2.0</td>\n",
       "      <td>0.0</td>\n",
       "      <td>0.0</td>\n",
       "      <td>0.0</td>\n",
       "      <td>6.30</td>\n",
       "      <td>...</td>\n",
       "      <td>0.0</td>\n",
       "      <td>0.0</td>\n",
       "      <td>0.0</td>\n",
       "      <td>1.0</td>\n",
       "      <td>0.0</td>\n",
       "      <td>1.841</td>\n",
       "      <td>3.240</td>\n",
       "      <td>3.401</td>\n",
       "      <td>3.0</td>\n",
       "      <td>0.0</td>\n",
       "    </tr>\n",
       "    <tr>\n",
       "      <th>3</th>\n",
       "      <td>38.0</td>\n",
       "      <td>35.0</td>\n",
       "      <td>5.0</td>\n",
       "      <td>76.0</td>\n",
       "      <td>2.0</td>\n",
       "      <td>10.0</td>\n",
       "      <td>1.0</td>\n",
       "      <td>1.0</td>\n",
       "      <td>1.0</td>\n",
       "      <td>6.05</td>\n",
       "      <td>...</td>\n",
       "      <td>1.0</td>\n",
       "      <td>1.0</td>\n",
       "      <td>1.0</td>\n",
       "      <td>1.0</td>\n",
       "      <td>1.0</td>\n",
       "      <td>1.800</td>\n",
       "      <td>3.807</td>\n",
       "      <td>4.331</td>\n",
       "      <td>4.0</td>\n",
       "      <td>0.0</td>\n",
       "    </tr>\n",
       "    <tr>\n",
       "      <th>4</th>\n",
       "      <td>7.0</td>\n",
       "      <td>35.0</td>\n",
       "      <td>14.0</td>\n",
       "      <td>80.0</td>\n",
       "      <td>2.0</td>\n",
       "      <td>15.0</td>\n",
       "      <td>0.0</td>\n",
       "      <td>1.0</td>\n",
       "      <td>0.0</td>\n",
       "      <td>7.10</td>\n",
       "      <td>...</td>\n",
       "      <td>0.0</td>\n",
       "      <td>0.0</td>\n",
       "      <td>1.0</td>\n",
       "      <td>1.0</td>\n",
       "      <td>0.0</td>\n",
       "      <td>1.960</td>\n",
       "      <td>3.091</td>\n",
       "      <td>4.382</td>\n",
       "      <td>3.0</td>\n",
       "      <td>0.0</td>\n",
       "    </tr>\n",
       "  </tbody>\n",
       "</table>\n",
       "<p>5 rows × 28 columns</p>\n",
       "</div>"
      ],
      "text/plain": [
       "   tenure   age  address  income   ed  employ  equip  callcard  wireless  \\\n",
       "0    11.0  33.0      7.0   136.0  5.0     5.0    0.0       1.0       1.0   \n",
       "1    33.0  33.0     12.0    33.0  2.0     0.0    0.0       0.0       0.0   \n",
       "2    23.0  30.0      9.0    30.0  1.0     2.0    0.0       0.0       0.0   \n",
       "3    38.0  35.0      5.0    76.0  2.0    10.0    1.0       1.0       1.0   \n",
       "4     7.0  35.0     14.0    80.0  2.0    15.0    0.0       1.0       0.0   \n",
       "\n",
       "   longmon  ...  pager  internet  callwait  confer  ebill  loglong  logtoll  \\\n",
       "0     4.40  ...    1.0       0.0       1.0     1.0    0.0    1.482    3.033   \n",
       "1     9.45  ...    0.0       0.0       0.0     0.0    0.0    2.246    3.240   \n",
       "2     6.30  ...    0.0       0.0       0.0     1.0    0.0    1.841    3.240   \n",
       "3     6.05  ...    1.0       1.0       1.0     1.0    1.0    1.800    3.807   \n",
       "4     7.10  ...    0.0       0.0       1.0     1.0    0.0    1.960    3.091   \n",
       "\n",
       "   lninc  custcat  churn  \n",
       "0  4.913      4.0    1.0  \n",
       "1  3.497      1.0    1.0  \n",
       "2  3.401      3.0    0.0  \n",
       "3  4.331      4.0    0.0  \n",
       "4  4.382      3.0    0.0  \n",
       "\n",
       "[5 rows x 28 columns]"
      ]
     },
     "execution_count": 2,
     "metadata": {},
     "output_type": "execute_result"
    }
   ],
   "source": [
    "# csv url\n",
    "csv_url = 'https://s3-api.us-geo.objectstorage.softlayer.net/cf-courses-data/CognitiveClass/ML0101ENv3/labs/ChurnData.csv'\n",
    "\n",
    "# reading in the csv url using pandas\n",
    "data = pd.read_csv(csv_url)\n",
    "data.head()"
   ]
  },
  {
   "cell_type": "markdown",
   "metadata": {},
   "source": [
    "## Data Cleaning and intial analysis"
   ]
  },
  {
   "cell_type": "code",
   "execution_count": 3,
   "metadata": {},
   "outputs": [
    {
     "name": "stdout",
     "output_type": "stream",
     "text": [
      "<class 'pandas.core.frame.DataFrame'>\n",
      "RangeIndex: 200 entries, 0 to 199\n",
      "Data columns (total 28 columns):\n",
      "tenure      200 non-null float64\n",
      "age         200 non-null float64\n",
      "address     200 non-null float64\n",
      "income      200 non-null float64\n",
      "ed          200 non-null float64\n",
      "employ      200 non-null float64\n",
      "equip       200 non-null float64\n",
      "callcard    200 non-null float64\n",
      "wireless    200 non-null float64\n",
      "longmon     200 non-null float64\n",
      "tollmon     200 non-null float64\n",
      "equipmon    200 non-null float64\n",
      "cardmon     200 non-null float64\n",
      "wiremon     200 non-null float64\n",
      "longten     200 non-null float64\n",
      "tollten     200 non-null float64\n",
      "cardten     200 non-null float64\n",
      "voice       200 non-null float64\n",
      "pager       200 non-null float64\n",
      "internet    200 non-null float64\n",
      "callwait    200 non-null float64\n",
      "confer      200 non-null float64\n",
      "ebill       200 non-null float64\n",
      "loglong     200 non-null float64\n",
      "logtoll     200 non-null float64\n",
      "lninc       200 non-null float64\n",
      "custcat     200 non-null float64\n",
      "churn       200 non-null float64\n",
      "dtypes: float64(28)\n",
      "memory usage: 43.8 KB\n"
     ]
    }
   ],
   "source": [
    "data.info()"
   ]
  },
  {
   "cell_type": "code",
   "execution_count": 4,
   "metadata": {},
   "outputs": [
    {
     "data": {
      "text/plain": [
       "(200, 28)"
      ]
     },
     "execution_count": 4,
     "metadata": {},
     "output_type": "execute_result"
    }
   ],
   "source": [
    "# shape of the dataset\n",
    "data.shape"
   ]
  },
  {
   "cell_type": "code",
   "execution_count": 5,
   "metadata": {},
   "outputs": [
    {
     "data": {
      "text/plain": [
       "tenure      0\n",
       "age         0\n",
       "address     0\n",
       "income      0\n",
       "ed          0\n",
       "employ      0\n",
       "equip       0\n",
       "callcard    0\n",
       "wireless    0\n",
       "longmon     0\n",
       "tollmon     0\n",
       "equipmon    0\n",
       "cardmon     0\n",
       "wiremon     0\n",
       "longten     0\n",
       "tollten     0\n",
       "cardten     0\n",
       "voice       0\n",
       "pager       0\n",
       "internet    0\n",
       "callwait    0\n",
       "confer      0\n",
       "ebill       0\n",
       "loglong     0\n",
       "logtoll     0\n",
       "lninc       0\n",
       "custcat     0\n",
       "churn       0\n",
       "dtype: int64"
      ]
     },
     "execution_count": 5,
     "metadata": {},
     "output_type": "execute_result"
    }
   ],
   "source": [
    "# ensuring no missing values exists\n",
    "data.isnull().sum()"
   ]
  },
  {
   "cell_type": "code",
   "execution_count": 6,
   "metadata": {},
   "outputs": [
    {
     "data": {
      "text/plain": [
       "tenure      float64\n",
       "age         float64\n",
       "address     float64\n",
       "income      float64\n",
       "ed          float64\n",
       "employ      float64\n",
       "equip       float64\n",
       "callcard    float64\n",
       "wireless    float64\n",
       "longmon     float64\n",
       "tollmon     float64\n",
       "equipmon    float64\n",
       "cardmon     float64\n",
       "wiremon     float64\n",
       "longten     float64\n",
       "tollten     float64\n",
       "cardten     float64\n",
       "voice       float64\n",
       "pager       float64\n",
       "internet    float64\n",
       "callwait    float64\n",
       "confer      float64\n",
       "ebill       float64\n",
       "loglong     float64\n",
       "logtoll     float64\n",
       "lninc       float64\n",
       "custcat     float64\n",
       "churn       float64\n",
       "dtype: object"
      ]
     },
     "execution_count": 6,
     "metadata": {},
     "output_type": "execute_result"
    }
   ],
   "source": [
    "# data types\n",
    "data.dtypes"
   ]
  },
  {
   "cell_type": "code",
   "execution_count": 7,
   "metadata": {},
   "outputs": [],
   "source": [
    "# the target variable 'churn' must be converted to an integer data type\n",
    "data['churn'] = data['churn'].astype('int')"
   ]
  },
  {
   "cell_type": "markdown",
   "metadata": {},
   "source": [
    "# Exploratory Data Analysis"
   ]
  },
  {
   "cell_type": "code",
   "execution_count": 8,
   "metadata": {},
   "outputs": [
    {
     "data": {
      "image/png": "[encoded data removed]",
      "text/plain": [
       "<Figure size 720x360 with 1 Axes>"
      ]
     },
     "metadata": {
      "needs_background": "light"
     },
     "output_type": "display_data"
    },
    {
     "name": "stdout",
     "output_type": "stream",
     "text": [
      "0    71.0\n",
      "1    29.0\n",
      "Name: churn, dtype: float64\n"
     ]
    }
   ],
   "source": [
    "# showing target variable\n",
    "fig, ax1 = plt.subplots(figsize=(10,5))\n",
    "data['churn'].value_counts().plot(kind='bar',\n",
    "                               title='Bar graph showing total counts of customer churn',\n",
    "                               fontsize=12);\n",
    "\n",
    "# labels on x axis\n",
    "plt.xlabel('Customer Churning', \n",
    "           fontsize=12, \n",
    "           labelpad=20)\n",
    "# labels on y axis\n",
    "plt.ylabel(\"Total Counts\", \n",
    "           fontsize=12, \n",
    "           labelpad=20)\n",
    "# changing values of xticks\n",
    "ax1.set_xticklabels(['Customer stayed', 'Customer left'], \n",
    "                    rotation=0)\n",
    "plt.show()\n",
    "print(data['churn'].value_counts(normalize=True) * 100)"
   ]
  },
  {
   "cell_type": "markdown",
   "metadata": {},
   "source": [
    "**By the bar chart above, customers are 29% likely to leave the company**"
   ]
  },
  {
   "cell_type": "markdown",
   "metadata": {},
   "source": [
    "### Scatterplot to show customer churn based on age and income"
   ]
  },
  {
   "cell_type": "code",
   "execution_count": 9,
   "metadata": {},
   "outputs": [
    {
     "data": {
      "image/png": "[encoded data removed]",
      "text/plain": [
       "<Figure size 720x360 with 1 Axes>"
      ]
     },
     "metadata": {
      "needs_background": "light"
     },
     "output_type": "display_data"
    }
   ],
   "source": [
    "# plotting customers that stayed with the company in darkblue\n",
    "ax1 = data[data['churn'] == 0][0:50].plot(kind='scatter',\n",
    "                                      x='age',\n",
    "                                      y='income',\n",
    "                                      color='DarkBlue', \n",
    "                                      label='Stayed',\n",
    "                                      figsize=(10,5),\n",
    "                                      fontsize=13);\n",
    "# plotting customers that left the company with yellow\n",
    "data[data['churn'] == 1][0:50].plot(kind='scatter',\n",
    "                                x='age',\n",
    "                                y='income',\n",
    "                                color='Yellow', \n",
    "                                label='Left', \n",
    "                                ax=ax1);\n",
    "plt.title('Scatter plot showing customer churn using age and income', fontsize=15)\n",
    "plt.xlabel('Age', fontsize=13)\n",
    "plt.ylabel('Income', fontsize=13)\n",
    "plt.show()"
   ]
  },
  {
   "cell_type": "code",
   "execution_count": 10,
   "metadata": {},
   "outputs": [
    {
     "data": {
      "image/png": "[encoded data removed]",
      "text/plain": [
       "<Figure size 1080x360 with 1 Axes>"
      ]
     },
     "metadata": {
      "needs_background": "light"
     },
     "output_type": "display_data"
    }
   ],
   "source": [
    "# distribution plots of a few of the features\n",
    "plt.figure(figsize=(15,5));\n",
    "ax1 = sns.distplot(data['tenure'], hist=False, label='Tenure');\n",
    "sns.distplot(data['age'], ax=ax1, hist=False, label='Age')\n",
    "sns.distplot(data['employ'], ax=ax1, hist=False, label='Employ')\n",
    "plt.title('Distribution plot showing some features of the dataset')\n",
    "plt.xlabel('Features')\n",
    "plt.show()"
   ]
  },
  {
   "cell_type": "markdown",
   "metadata": {},
   "source": [
    "### Data needs to be normalized when splitting dataset for the best results"
   ]
  },
  {
   "cell_type": "code",
   "execution_count": 11,
   "metadata": {},
   "outputs": [
    {
     "data": {
      "text/plain": [
       "tenure     -0.376860\n",
       "employ     -0.337969\n",
       "loglong    -0.336869\n",
       "callcard   -0.311451\n",
       "longten    -0.294906\n",
       "longmon    -0.292026\n",
       "age        -0.287697\n",
       "address    -0.260659\n",
       "cardten    -0.228634\n",
       "cardmon    -0.177163\n",
       "lninc      -0.117459\n",
       "income     -0.090790\n",
       "confer     -0.081361\n",
       "logtoll    -0.070156\n",
       "tollten    -0.059482\n",
       "callwait   -0.052885\n",
       "tollmon     0.014356\n",
       "custcat     0.014839\n",
       "pager       0.124623\n",
       "voice       0.142315\n",
       "wireless    0.174356\n",
       "wiremon     0.177483\n",
       "ed          0.216112\n",
       "internet    0.254838\n",
       "ebill       0.254838\n",
       "equipmon    0.255348\n",
       "equip       0.275284\n",
       "churn       1.000000\n",
       "Name: churn, dtype: float64"
      ]
     },
     "execution_count": 11,
     "metadata": {},
     "output_type": "execute_result"
    }
   ],
   "source": [
    "# show the correlation between features and target variable\n",
    "data.corr()['churn'].sort_values()"
   ]
  },
  {
   "cell_type": "markdown",
   "metadata": {},
   "source": [
    "## Feature Selection"
   ]
  },
  {
   "cell_type": "code",
   "execution_count": 12,
   "metadata": {},
   "outputs": [
    {
     "data": {
      "text/html": [
       "<div>\n",
       "<style scoped>\n",
       "    .dataframe tbody tr th:only-of-type {\n",
       "        vertical-align: middle;\n",
       "    }\n",
       "\n",
       "    .dataframe tbody tr th {\n",
       "        vertical-align: top;\n",
       "    }\n",
       "\n",
       "    .dataframe thead th {\n",
       "        text-align: right;\n",
       "    }\n",
       "</style>\n",
       "<table border=\"1\" class=\"dataframe\">\n",
       "  <thead>\n",
       "    <tr style=\"text-align: right;\">\n",
       "      <th></th>\n",
       "      <th>tenure</th>\n",
       "      <th>employ</th>\n",
       "      <th>loglong</th>\n",
       "      <th>callcard</th>\n",
       "      <th>longten</th>\n",
       "      <th>age</th>\n",
       "      <th>address</th>\n",
       "      <th>cardten</th>\n",
       "      <th>ed</th>\n",
       "      <th>internet</th>\n",
       "      <th>wireless</th>\n",
       "      <th>ebill</th>\n",
       "      <th>equipmon</th>\n",
       "      <th>equip</th>\n",
       "      <th>churn</th>\n",
       "    </tr>\n",
       "  </thead>\n",
       "  <tbody>\n",
       "    <tr>\n",
       "      <th>0</th>\n",
       "      <td>11.0</td>\n",
       "      <td>5.0</td>\n",
       "      <td>1.482</td>\n",
       "      <td>1.0</td>\n",
       "      <td>42.00</td>\n",
       "      <td>33.0</td>\n",
       "      <td>7.0</td>\n",
       "      <td>125.0</td>\n",
       "      <td>5.0</td>\n",
       "      <td>0.0</td>\n",
       "      <td>1.0</td>\n",
       "      <td>0.0</td>\n",
       "      <td>0.0</td>\n",
       "      <td>0.0</td>\n",
       "      <td>1</td>\n",
       "    </tr>\n",
       "    <tr>\n",
       "      <th>1</th>\n",
       "      <td>33.0</td>\n",
       "      <td>0.0</td>\n",
       "      <td>2.246</td>\n",
       "      <td>0.0</td>\n",
       "      <td>288.80</td>\n",
       "      <td>33.0</td>\n",
       "      <td>12.0</td>\n",
       "      <td>0.0</td>\n",
       "      <td>2.0</td>\n",
       "      <td>0.0</td>\n",
       "      <td>0.0</td>\n",
       "      <td>0.0</td>\n",
       "      <td>0.0</td>\n",
       "      <td>0.0</td>\n",
       "      <td>1</td>\n",
       "    </tr>\n",
       "    <tr>\n",
       "      <th>2</th>\n",
       "      <td>23.0</td>\n",
       "      <td>2.0</td>\n",
       "      <td>1.841</td>\n",
       "      <td>0.0</td>\n",
       "      <td>157.05</td>\n",
       "      <td>30.0</td>\n",
       "      <td>9.0</td>\n",
       "      <td>0.0</td>\n",
       "      <td>1.0</td>\n",
       "      <td>0.0</td>\n",
       "      <td>0.0</td>\n",
       "      <td>0.0</td>\n",
       "      <td>0.0</td>\n",
       "      <td>0.0</td>\n",
       "      <td>0</td>\n",
       "    </tr>\n",
       "    <tr>\n",
       "      <th>3</th>\n",
       "      <td>38.0</td>\n",
       "      <td>10.0</td>\n",
       "      <td>1.800</td>\n",
       "      <td>1.0</td>\n",
       "      <td>239.55</td>\n",
       "      <td>35.0</td>\n",
       "      <td>5.0</td>\n",
       "      <td>880.0</td>\n",
       "      <td>2.0</td>\n",
       "      <td>1.0</td>\n",
       "      <td>1.0</td>\n",
       "      <td>1.0</td>\n",
       "      <td>50.1</td>\n",
       "      <td>1.0</td>\n",
       "      <td>0</td>\n",
       "    </tr>\n",
       "    <tr>\n",
       "      <th>4</th>\n",
       "      <td>7.0</td>\n",
       "      <td>15.0</td>\n",
       "      <td>1.960</td>\n",
       "      <td>1.0</td>\n",
       "      <td>47.45</td>\n",
       "      <td>35.0</td>\n",
       "      <td>14.0</td>\n",
       "      <td>145.0</td>\n",
       "      <td>2.0</td>\n",
       "      <td>0.0</td>\n",
       "      <td>0.0</td>\n",
       "      <td>0.0</td>\n",
       "      <td>0.0</td>\n",
       "      <td>0.0</td>\n",
       "      <td>0</td>\n",
       "    </tr>\n",
       "  </tbody>\n",
       "</table>\n",
       "</div>"
      ],
      "text/plain": [
       "   tenure  employ  loglong  callcard  longten   age  address  cardten   ed  \\\n",
       "0    11.0     5.0    1.482       1.0    42.00  33.0      7.0    125.0  5.0   \n",
       "1    33.0     0.0    2.246       0.0   288.80  33.0     12.0      0.0  2.0   \n",
       "2    23.0     2.0    1.841       0.0   157.05  30.0      9.0      0.0  1.0   \n",
       "3    38.0    10.0    1.800       1.0   239.55  35.0      5.0    880.0  2.0   \n",
       "4     7.0    15.0    1.960       1.0    47.45  35.0     14.0    145.0  2.0   \n",
       "\n",
       "   internet  wireless  ebill  equipmon  equip  churn  \n",
       "0       0.0       1.0    0.0       0.0    0.0      1  \n",
       "1       0.0       0.0    0.0       0.0    0.0      1  \n",
       "2       0.0       0.0    0.0       0.0    0.0      0  \n",
       "3       1.0       1.0    1.0      50.1    1.0      0  \n",
       "4       0.0       0.0    0.0       0.0    0.0      0  "
      ]
     },
     "execution_count": 12,
     "metadata": {},
     "output_type": "execute_result"
    }
   ],
   "source": [
    "# creating new dataframe considing of features and target variable\n",
    "df = data[['tenure', 'employ', 'loglong', 'callcard', 'longten', 'age', \n",
    "         'address', 'cardten', 'ed', 'internet', 'wireless',\n",
    "         'ebill', 'equipmon', 'equip', 'churn']]\n",
    "df.head()"
   ]
  },
  {
   "cell_type": "code",
   "execution_count": 13,
   "metadata": {},
   "outputs": [
    {
     "data": {
      "text/plain": [
       "(200, 15)"
      ]
     },
     "execution_count": 13,
     "metadata": {},
     "output_type": "execute_result"
    }
   ],
   "source": [
    "# new shape of dataset\n",
    "df.shape"
   ]
  },
  {
   "cell_type": "code",
   "execution_count": 14,
   "metadata": {},
   "outputs": [
    {
     "name": "stdout",
     "output_type": "stream",
     "text": [
      "(200, 14) (200,)\n"
     ]
    }
   ],
   "source": [
    "# features\n",
    "X = df.drop(columns=['churn'])\n",
    "# target\n",
    "Y = df['churn'].values\n",
    "\n",
    "print(X.shape, Y.shape)"
   ]
  },
  {
   "cell_type": "markdown",
   "metadata": {},
   "source": [
    "# Building Logistic Regression Model"
   ]
  },
  {
   "cell_type": "code",
   "execution_count": 15,
   "metadata": {},
   "outputs": [],
   "source": [
    "# import necessary libraries\n",
    "from sklearn.preprocessing import MinMaxScaler\n",
    "from sklearn.model_selection import train_test_split\n",
    "from sklearn.linear_model import LogisticRegression \n",
    "\n",
    "# importing necessary libraries for metrics\n",
    "from sklearn.metrics import roc_auc_score, classification_report, confusion_matrix, recall_score, precision_score, roc_curve"
   ]
  },
  {
   "cell_type": "markdown",
   "metadata": {},
   "source": [
    "### Splitting data into training and testing sets"
   ]
  },
  {
   "cell_type": "code",
   "execution_count": 16,
   "metadata": {},
   "outputs": [
    {
     "name": "stdout",
     "output_type": "stream",
     "text": [
      "(160, 14) (160,)\n",
      "(40, 14) (40,)\n"
     ]
    }
   ],
   "source": [
    "# splitting data into training and testing set\n",
    "x_train, x_test, y_train, y_test = train_test_split(X, Y, test_size=0.2, random_state=0)\n",
    "\n",
    "print(x_train.shape, y_train.shape)\n",
    "print(x_test.shape, y_test.shape)"
   ]
  },
  {
   "cell_type": "markdown",
   "metadata": {},
   "source": [
    "### Normalizing data (using MinMaxScaler) for best results"
   ]
  },
  {
   "cell_type": "code",
   "execution_count": 17,
   "metadata": {},
   "outputs": [],
   "source": [
    "# for the best results using a SVM classifier, data should be normalized for best results\n",
    "# creating scale object \n",
    "scale = MinMaxScaler()\n",
    "# fit and transforms on training data\n",
    "x_train_scaled = scale.fit_transform(x_train)\n",
    "# transforming testing data\n",
    "x_test_scaled = scale.transform(x_test)"
   ]
  },
  {
   "cell_type": "markdown",
   "metadata": {},
   "source": [
    "### Finding optimum parameters for the model"
   ]
  },
  {
   "cell_type": "code",
   "execution_count": 18,
   "metadata": {},
   "outputs": [
    {
     "name": "stdout",
     "output_type": "stream",
     "text": [
      "0 - Solver:  newton-cg  C:  0.01\n",
      "1 - Solver:  newton-cg  C:  0.1\n",
      "2 - Solver:  newton-cg  C:  1\n",
      "3 - Solver:  newton-cg  C:  5\n",
      "4 - Solver:  newton-cg  C:  10\n",
      "5 - Solver:  newton-cg  C:  20\n",
      "6 - Solver:  lbfgs  C:  0.01\n",
      "7 - Solver:  lbfgs  C:  0.1\n",
      "8 - Solver:  lbfgs  C:  1\n",
      "9 - Solver:  lbfgs  C:  5\n",
      "10 - Solver:  lbfgs  C:  10\n",
      "11 - Solver:  lbfgs  C:  20\n",
      "12 - Solver:  liblinear  C:  0.01\n",
      "13 - Solver:  liblinear  C:  0.1\n",
      "14 - Solver:  liblinear  C:  1\n",
      "15 - Solver:  liblinear  C:  5\n",
      "16 - Solver:  liblinear  C:  10\n",
      "17 - Solver:  liblinear  C:  20\n",
      "18 - Solver:  sag  C:  0.01\n",
      "19 - Solver:  sag  C:  0.1\n",
      "20 - Solver:  sag  C:  1\n",
      "21 - Solver:  sag  C:  5\n",
      "22 - Solver:  sag  C:  10\n",
      "23 - Solver:  sag  C:  20\n",
      "24 - Solver:  saga  C:  0.01\n",
      "25 - Solver:  saga  C:  0.1\n",
      "26 - Solver:  saga  C:  1\n",
      "27 - Solver:  saga  C:  5\n",
      "28 - Solver:  saga  C:  10\n",
      "29 - Solver:  saga  C:  20\n"
     ]
    }
   ],
   "source": [
    "# solvers\n",
    "solvers = ['newton-cg', 'lbfgs', 'liblinear', 'sag', 'saga']\n",
    "# C values\n",
    "c_values = [0.01, 0.1, 1, 5, 10, 20]\n",
    "\n",
    "# accuracy scores\n",
    "acc = np.zeros(len(solvers)*len(c_values) +1)\n",
    "# precision scores\n",
    "rec = np.zeros(len(solvers)*len(c_values) +1)\n",
    "# roc scores\n",
    "roc = np.zeros(len(solvers)*len(c_values) +1)\n",
    "\n",
    "#initializing n variable\n",
    "n = 0\n",
    "\n",
    "for s in solvers:\n",
    "    \n",
    "    for c in c_values:\n",
    "        \n",
    "        # logistic regression object \n",
    "        logreg = LogisticRegression(solver=s, C=c, max_iter=1000)\n",
    "        # fitting logreg object with training set\n",
    "        logreg.fit(x_train_scaled, y_train)\n",
    "        # predictions\n",
    "        yhat = logreg.predict(x_test_scaled)\n",
    "        \n",
    "        # metrics\n",
    "        acc[n] = logreg.score(x_test_scaled, y_test)\n",
    "        rec[n] = recall_score(y_test, yhat)\n",
    "        roc[n] = roc_auc_score(y_test, yhat)\n",
    "        \n",
    "        print(n, '- Solver: ', s, \n",
    "             ' C: ', c)\n",
    "        n+=1"
   ]
  },
  {
   "cell_type": "code",
   "execution_count": 19,
   "metadata": {},
   "outputs": [
    {
     "name": "stdout",
     "output_type": "stream",
     "text": [
      "Accuracy:  0\n",
      "\n",
      "Recall Score:  3\n",
      "\n",
      "ROC Score:  4\n"
     ]
    }
   ],
   "source": [
    "# finding positions of the parameter using accuracy, recall, and roc-score \n",
    "print('Accuracy: ', acc.argmax())\n",
    "print('\\nRecall Score: ', rec.argmax())\n",
    "print('\\nROC Score: ', roc.argmax())"
   ]
  },
  {
   "cell_type": "markdown",
   "metadata": {},
   "source": [
    "#### The best parameters are either at position 0 ('newton-cg', 0.01) or at position 3 ('newton-cg', 5), or at position 4 ('newton-cg', 10).  \n",
    "\n",
    "Evaluate further to find optimum parameter"
   ]
  },
  {
   "cell_type": "code",
   "execution_count": 20,
   "metadata": {},
   "outputs": [
    {
     "name": "stdout",
     "output_type": "stream",
     "text": [
      "Accuracy:  [0.775 0.775 0.725 0.75  0.775 0.75  0.775]\n",
      "\n",
      "Recall score:  [0.         0.22222222 0.33333333 0.55555556 0.55555556 0.55555556\n",
      " 0.        ]\n",
      "\n",
      "ROC Score:  [0.5        0.57885305 0.58602151 0.68100358 0.69713262 0.68100358\n",
      " 0.5       ]\n"
     ]
    }
   ],
   "source": [
    "print('Accuracy: ', acc[:7])\n",
    "print('\\nRecall score: ', rec[:7])\n",
    "print('\\nROC Score: ', roc[:7])"
   ]
  },
  {
   "cell_type": "markdown",
   "metadata": {},
   "source": [
    "#### Evaluation on parameters     \n",
    "\n",
    "**At position 0:**  \n",
    "* Accuracy: 77.5%  \n",
    "* Recall-score: 0%  \n",
    "* ROC-score: 50%\n",
    "\n",
    "**At position 3:**  \n",
    "* Accuracy: 75%  \n",
    "* Recall-score: 55.55%\n",
    "* ROC-score: 68.1% \n",
    "\n",
    "**At position 4:**  \n",
    "* Accuracy: 77.5%  \n",
    "* Recall-score: 55.5%\n",
    "* ROC-score: 69.71%  \n",
    "\n",
    " \n",
    "  \n",
    "  \n",
    "#### Conclusion  \n",
    "\n",
    "At position 4, roc, recall and accuracy scores are maximized. However, these numbers indicate that there must be better feature selection or a different ML algortihm must be used\n",
    "\n",
    "Optimal Parameters: Solver='newton-cg', C=10"
   ]
  },
  {
   "cell_type": "markdown",
   "metadata": {},
   "source": [
    "### Building Final Logistic Regression Model"
   ]
  },
  {
   "cell_type": "code",
   "execution_count": 21,
   "metadata": {},
   "outputs": [],
   "source": [
    "# logistic regression object\n",
    "logreg = LogisticRegression(solver='newton-cg', C=10, max_iter=10000)\n",
    "# fitting model\n",
    "logreg.fit(x_train_scaled, y_train)\n",
    "# prediction\n",
    "yhat = logreg.predict(x_test_scaled)\n",
    "# probability\n",
    "yhat_proba = logreg.predict_proba(x_test_scaled)[:,1]"
   ]
  },
  {
   "cell_type": "markdown",
   "metadata": {},
   "source": [
    "### Model Evaluation"
   ]
  },
  {
   "cell_type": "code",
   "execution_count": 22,
   "metadata": {},
   "outputs": [
    {
     "name": "stdout",
     "output_type": "stream",
     "text": [
      "              precision    recall  f1-score   support\n",
      "\n",
      "      Stayed       0.87      0.84      0.85        31\n",
      "        Left       0.50      0.56      0.53         9\n",
      "\n",
      "    accuracy                           0.78        40\n",
      "   macro avg       0.68      0.70      0.69        40\n",
      "weighted avg       0.78      0.78      0.78        40\n",
      "\n",
      "AxesSubplot(0.125,0.125;0.62x0.755)\n",
      "Accuracy:  77.5 %\n",
      "Recall:  55.5556 %\n",
      "ROC score:  69.7133 %\n"
     ]
    },
    {
     "data": {
      "image/png": "[encoded data removed]",
      "text/plain": [
       "<Figure size 648x360 with 2 Axes>"
      ]
     },
     "metadata": {
      "needs_background": "light"
     },
     "output_type": "display_data"
    }
   ],
   "source": [
    "# classification report\n",
    "report = classification_report(y_test, yhat, target_names=['Stayed', 'Left'])\n",
    "print(report)\n",
    "\n",
    "# confusion matrix\n",
    "matrix = confusion_matrix(y_test, yhat)\n",
    "# heatmap for matrix\n",
    "plt.figure(figsize=(9,5));\n",
    "hmap = sns.heatmap(pd.DataFrame(matrix), \n",
    "                   annot=True, \n",
    "                   fmt='.2g',\n",
    "                   xticklabels=['Stay', 'Left'],\n",
    "                   cmap='YlGnBu',\n",
    "                   yticklabels=['Stay', 'Left']);\n",
    "\n",
    "print(hmap)\n",
    "\n",
    "# metric evaluation\n",
    "# accuracy\n",
    "acc_final = round(logreg.score(x_test_scaled, y_test) * 100, 4)\n",
    "# recall \n",
    "recall_final = round(recall_score(y_test, yhat) * 100, 4)\n",
    "# roc score\n",
    "roc_final = round(roc_auc_score(y_test, yhat) * 100, 4)\n",
    "\n",
    "print('Accuracy: ', acc_final, '%')\n",
    "print('Recall: ', recall_final, '%')\n",
    "print('ROC score: ', roc_final, '%')"
   ]
  },
  {
   "cell_type": "code",
   "execution_count": 23,
   "metadata": {},
   "outputs": [
    {
     "data": {
      "image/png": "[encoded data removed]",
      "text/plain": [
       "<Figure size 864x432 with 1 Axes>"
      ]
     },
     "metadata": {
      "needs_background": "light"
     },
     "output_type": "display_data"
    }
   ],
   "source": [
    "# showing roc_auc_curve\n",
    "fpr, tpr, thresholds = roc_curve(y_test, yhat_proba)\n",
    "\n",
    "# plotting roc_auc_curve\n",
    "fig, ax1 = plt.subplots(figsize=(12,6));\n",
    "plt.plot([0,1],[0,1],'--')\n",
    "plt.plot(fpr, tpr)\n",
    "# labels on x axis\n",
    "plt.xlabel('False Positive Rate', \n",
    "           fontsize=12, \n",
    "           labelpad=20)\n",
    "# labels on y axis\n",
    "plt.ylabel(\"True Positive Rate\", \n",
    "           fontsize=12, \n",
    "           labelpad=20)\n",
    "plt.title('ROC curve with LogisticRegression(Solver:newton , C:10)')\n",
    "plt.show()"
   ]
  },
  {
   "cell_type": "markdown",
   "metadata": {},
   "source": [
    "### Using GridSearch to find optimum parameters"
   ]
  },
  {
   "cell_type": "code",
   "execution_count": 24,
   "metadata": {},
   "outputs": [],
   "source": [
    "from sklearn.model_selection import GridSearchCV\n",
    "log = LogisticRegression(max_iter=10000)\n",
    "\n",
    "parameters = {'solver': ['newton-cg', 'lbfgs', 'liblinear', 'sag', 'saga'],\n",
    "             'C': [0.01, 0.1, 0.5, 1, 5, 10, 20]}\n",
    "\n",
    "grid = GridSearchCV(log, \n",
    "                    param_grid=parameters, \n",
    "                    scoring='recall', \n",
    "                    cv=5, \n",
    "                    iid=False)\n",
    "# fitting grid\n",
    "grid.fit(x_train_scaled, y_train)\n",
    "# predictions\n",
    "yhat_grid = grid.predict(x_test_scaled)"
   ]
  },
  {
   "cell_type": "code",
   "execution_count": 25,
   "metadata": {},
   "outputs": [
    {
     "name": "stdout",
     "output_type": "stream",
     "text": [
      "{'C': 5, 'solver': 'newton-cg'}\n"
     ]
    }
   ],
   "source": [
    "print(grid.best_params_)"
   ]
  },
  {
   "cell_type": "code",
   "execution_count": 26,
   "metadata": {},
   "outputs": [
    {
     "name": "stdout",
     "output_type": "stream",
     "text": [
      "Accuracy:  55.5556 %\n",
      "Recall:  55.5556 %\n",
      "ROC score:  68.1004 %\n"
     ]
    }
   ],
   "source": [
    "grid_score = round(grid.score(x_test_scaled, y_test) * 100, 4)\n",
    "grid_recall = round(recall_score(y_test, yhat_grid) * 100, 4)\n",
    "grid_roc = round(roc_auc_score(y_test, yhat_grid) * 100, 4)\n",
    "\n",
    "print('Accuracy: ', grid_score, '%')\n",
    "print('Recall: ', grid_recall, '%')\n",
    "print('ROC score: ', grid_roc, '%')"
   ]
  },
  {
   "cell_type": "markdown",
   "metadata": {},
   "source": [
    "### Final Evaluation on GridSearch and inital LogisticRegression   \n",
    "\n",
    "**GridSearch Metrics:**   \n",
    "\n",
    "* Accuracy:  55.5556 %\n",
    "* Recall:  55.5556 %\n",
    "* ROC score:  68.1004 %   \n",
    "\n",
    "**LogisticRegression Metrics:**   \n",
    "\n",
    "* Accuracy:  77.5 %\n",
    "* Recall:  55.5556 %\n",
    "* ROC score:  69.7133 %   \n",
    "\n",
    "\n",
    "### Conclusion   \n",
    "\n",
    "Our model achieved a higher accuracy and ROC score than the GridSearchCV method. Both models found an equal recall rate of 55.5556%.   \n",
    "\n",
    "By using GridSearch, it found the optimal parameters as: Solver='newton-cg', and C=5.  \n",
    "The inital method in finding parameters found: Solver='newtown-cg', and C=10.  \n",
    "\n",
    "Ultimately, the goal is to find the customers that are leaving the company. Thus a higher recall rate must be achived than what the models found. Thus, a different ML algorithm should be used to get better results.  \n"
   ]
  },
  {
   "cell_type": "code",
   "execution_count": null,
   "metadata": {},
   "outputs": [],
   "source": []
  }
 ],
 "metadata": {
  "kernelspec": {
   "display_name": "Python 3",
   "language": "python",
   "name": "python3"
  },
  "language_info": {
   "codemirror_mode": {
    "name": "ipython",
    "version": 3
   },
   "file_extension": ".py",
   "mimetype": "text/x-python",
   "name": "python",
   "nbconvert_exporter": "python",
   "pygments_lexer": "ipython3",
   "version": "3.7.3"
  }
 },
 "nbformat": 4,
 "nbformat_minor": 2
}
