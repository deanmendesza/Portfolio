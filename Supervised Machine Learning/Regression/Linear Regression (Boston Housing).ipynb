{
 "cells": [
  {
   "cell_type": "code",
   "execution_count": 1,
   "metadata": {},
   "outputs": [],
   "source": [
    "import pandas as pd\n",
    "import numpy as np\n",
    "import seaborn as sns\n",
    "import matplotlib.pyplot as plt\n",
    "\n",
    "# importing boston housing prices from sklearns library\n",
    "from sklearn.datasets import load_boston\n",
    "\n",
    "# setting style for visualizations\n",
    "sns.set_style('darkgrid')\n",
    "%matplotlib inline"
   ]
  },
  {
   "cell_type": "markdown",
   "metadata": {},
   "source": [
    "# Loading Boston Housing Data from Sklearn"
   ]
  },
  {
   "cell_type": "code",
   "execution_count": 2,
   "metadata": {},
   "outputs": [
    {
     "name": "stdout",
     "output_type": "stream",
     "text": [
      ".. _boston_dataset:\n",
      "\n",
      "Boston house prices dataset\n",
      "---------------------------\n",
      "\n",
      "**Data Set Characteristics:**  \n",
      "\n",
      "    :Number of Instances: 506 \n",
      "\n",
      "    :Number of Attributes: 13 numeric/categorical predictive. Median Value (attribute 14) is usually the target.\n",
      "\n",
      "    :Attribute Information (in order):\n",
      "        - CRIM     per capita crime rate by town\n",
      "        - ZN       proportion of residential land zoned for lots over 25,000 sq.ft.\n",
      "        - INDUS    proportion of non-retail business acres per town\n",
      "        - CHAS     Charles River dummy variable (= 1 if tract bounds river; 0 otherwise)\n",
      "        - NOX      nitric oxides concentration (parts per 10 million)\n",
      "        - RM       average number of rooms per dwelling\n",
      "        - AGE      proportion of owner-occupied units built prior to 1940\n",
      "        - DIS      weighted distances to five Boston employment centres\n",
      "        - RAD      index of accessibility to radial highways\n",
      "        - TAX      full-value property-tax rate per $10,000\n",
      "        - PTRATIO  pupil-teacher ratio by town\n",
      "        - B        1000(Bk - 0.63)^2 where Bk is the proportion of blacks by town\n",
      "        - LSTAT    % lower status of the population\n",
      "        - MEDV     Median value of owner-occupied homes in $1000's\n",
      "\n",
      "    :Missing Attribute Values: None\n",
      "\n",
      "    :Creator: Harrison, D. and Rubinfeld, D.L.\n",
      "\n",
      "This is a copy of UCI ML housing dataset.\n",
      "https://archive.ics.uci.edu/ml/machine-learning-databases/housing/\n",
      "\n",
      "\n",
      "This dataset was taken from the StatLib library which is maintained at Carnegie Mellon University.\n",
      "\n",
      "The Boston house-price data of Harrison, D. and Rubinfeld, D.L. 'Hedonic\n",
      "prices and the demand for clean air', J. Environ. Economics & Management,\n",
      "vol.5, 81-102, 1978.   Used in Belsley, Kuh & Welsch, 'Regression diagnostics\n",
      "...', Wiley, 1980.   N.B. Various transformations are used in the table on\n",
      "pages 244-261 of the latter.\n",
      "\n",
      "The Boston house-price data has been used in many machine learning papers that address regression\n",
      "problems.   \n",
      "     \n",
      ".. topic:: References\n",
      "\n",
      "   - Belsley, Kuh & Welsch, 'Regression diagnostics: Identifying Influential Data and Sources of Collinearity', Wiley, 1980. 244-261.\n",
      "   - Quinlan,R. (1993). Combining Instance-Based and Model-Based Learning. In Proceedings on the Tenth International Conference of Machine Learning, 236-243, University of Massachusetts, Amherst. Morgan Kaufmann.\n",
      "\n"
     ]
    }
   ],
   "source": [
    "# loading dataset into boston variable\n",
    "boston = load_boston()\n",
    "# brief infomation about the boston dataset\n",
    "print(boston.DESCR)"
   ]
  },
  {
   "cell_type": "markdown",
   "metadata": {},
   "source": [
    "### *The goal is to produce a Linear Regression model that can accurately predict the price (continious variable) of a house in Boston based on multiple features. The model should have a high r2-score, low mean-squared-error, low mean-absolute-error and  it must be robust to outliears (low median-absolute-error).*"
   ]
  },
  {
   "cell_type": "markdown",
   "metadata": {},
   "source": [
    "# Data Preprocessing "
   ]
  },
  {
   "cell_type": "code",
   "execution_count": 3,
   "metadata": {},
   "outputs": [
    {
     "name": "stdout",
     "output_type": "stream",
     "text": [
      "dict_keys(['data', 'target', 'feature_names', 'DESCR', 'filename'])\n"
     ]
    }
   ],
   "source": [
    "# keys used to access certain aspects of dataset\n",
    "print(boston.keys())"
   ]
  },
  {
   "cell_type": "code",
   "execution_count": 4,
   "metadata": {},
   "outputs": [
    {
     "name": "stdout",
     "output_type": "stream",
     "text": [
      "(506, 13)\n",
      "(506,)\n"
     ]
    }
   ],
   "source": [
    "# extracing feature and target variables from boston\n",
    "data = boston.data\n",
    "target = boston.target\n",
    "\n",
    "print(data.shape)\n",
    "print(target.shape)"
   ]
  },
  {
   "cell_type": "code",
   "execution_count": 5,
   "metadata": {},
   "outputs": [
    {
     "name": "stdout",
     "output_type": "stream",
     "text": [
      "['CRIM' 'ZN' 'INDUS' 'CHAS' 'NOX' 'RM' 'AGE' 'DIS' 'RAD' 'TAX' 'PTRATIO'\n",
      " 'B' 'LSTAT']\n"
     ]
    }
   ],
   "source": [
    "# column names\n",
    "feature_names = boston.feature_names\n",
    "print(feature_names)"
   ]
  },
  {
   "cell_type": "code",
   "execution_count": 6,
   "metadata": {},
   "outputs": [
    {
     "data": {
      "text/html": [
       "<div>\n",
       "<style scoped>\n",
       "    .dataframe tbody tr th:only-of-type {\n",
       "        vertical-align: middle;\n",
       "    }\n",
       "\n",
       "    .dataframe tbody tr th {\n",
       "        vertical-align: top;\n",
       "    }\n",
       "\n",
       "    .dataframe thead th {\n",
       "        text-align: right;\n",
       "    }\n",
       "</style>\n",
       "<table border=\"1\" class=\"dataframe\">\n",
       "  <thead>\n",
       "    <tr style=\"text-align: right;\">\n",
       "      <th></th>\n",
       "      <th>CRIM</th>\n",
       "      <th>ZN</th>\n",
       "      <th>INDUS</th>\n",
       "      <th>CHAS</th>\n",
       "      <th>NOX</th>\n",
       "      <th>RM</th>\n",
       "      <th>AGE</th>\n",
       "      <th>DIS</th>\n",
       "      <th>RAD</th>\n",
       "      <th>TAX</th>\n",
       "      <th>PTRATIO</th>\n",
       "      <th>B</th>\n",
       "      <th>LSTAT</th>\n",
       "    </tr>\n",
       "  </thead>\n",
       "  <tbody>\n",
       "    <tr>\n",
       "      <th>0</th>\n",
       "      <td>0.00632</td>\n",
       "      <td>18.0</td>\n",
       "      <td>2.31</td>\n",
       "      <td>0.0</td>\n",
       "      <td>0.538</td>\n",
       "      <td>6.575</td>\n",
       "      <td>65.2</td>\n",
       "      <td>4.0900</td>\n",
       "      <td>1.0</td>\n",
       "      <td>296.0</td>\n",
       "      <td>15.3</td>\n",
       "      <td>396.90</td>\n",
       "      <td>4.98</td>\n",
       "    </tr>\n",
       "    <tr>\n",
       "      <th>1</th>\n",
       "      <td>0.02731</td>\n",
       "      <td>0.0</td>\n",
       "      <td>7.07</td>\n",
       "      <td>0.0</td>\n",
       "      <td>0.469</td>\n",
       "      <td>6.421</td>\n",
       "      <td>78.9</td>\n",
       "      <td>4.9671</td>\n",
       "      <td>2.0</td>\n",
       "      <td>242.0</td>\n",
       "      <td>17.8</td>\n",
       "      <td>396.90</td>\n",
       "      <td>9.14</td>\n",
       "    </tr>\n",
       "    <tr>\n",
       "      <th>2</th>\n",
       "      <td>0.02729</td>\n",
       "      <td>0.0</td>\n",
       "      <td>7.07</td>\n",
       "      <td>0.0</td>\n",
       "      <td>0.469</td>\n",
       "      <td>7.185</td>\n",
       "      <td>61.1</td>\n",
       "      <td>4.9671</td>\n",
       "      <td>2.0</td>\n",
       "      <td>242.0</td>\n",
       "      <td>17.8</td>\n",
       "      <td>392.83</td>\n",
       "      <td>4.03</td>\n",
       "    </tr>\n",
       "    <tr>\n",
       "      <th>3</th>\n",
       "      <td>0.03237</td>\n",
       "      <td>0.0</td>\n",
       "      <td>2.18</td>\n",
       "      <td>0.0</td>\n",
       "      <td>0.458</td>\n",
       "      <td>6.998</td>\n",
       "      <td>45.8</td>\n",
       "      <td>6.0622</td>\n",
       "      <td>3.0</td>\n",
       "      <td>222.0</td>\n",
       "      <td>18.7</td>\n",
       "      <td>394.63</td>\n",
       "      <td>2.94</td>\n",
       "    </tr>\n",
       "    <tr>\n",
       "      <th>4</th>\n",
       "      <td>0.06905</td>\n",
       "      <td>0.0</td>\n",
       "      <td>2.18</td>\n",
       "      <td>0.0</td>\n",
       "      <td>0.458</td>\n",
       "      <td>7.147</td>\n",
       "      <td>54.2</td>\n",
       "      <td>6.0622</td>\n",
       "      <td>3.0</td>\n",
       "      <td>222.0</td>\n",
       "      <td>18.7</td>\n",
       "      <td>396.90</td>\n",
       "      <td>5.33</td>\n",
       "    </tr>\n",
       "  </tbody>\n",
       "</table>\n",
       "</div>"
      ],
      "text/plain": [
       "      CRIM    ZN  INDUS  CHAS    NOX     RM   AGE     DIS  RAD    TAX  \\\n",
       "0  0.00632  18.0   2.31   0.0  0.538  6.575  65.2  4.0900  1.0  296.0   \n",
       "1  0.02731   0.0   7.07   0.0  0.469  6.421  78.9  4.9671  2.0  242.0   \n",
       "2  0.02729   0.0   7.07   0.0  0.469  7.185  61.1  4.9671  2.0  242.0   \n",
       "3  0.03237   0.0   2.18   0.0  0.458  6.998  45.8  6.0622  3.0  222.0   \n",
       "4  0.06905   0.0   2.18   0.0  0.458  7.147  54.2  6.0622  3.0  222.0   \n",
       "\n",
       "   PTRATIO       B  LSTAT  \n",
       "0     15.3  396.90   4.98  \n",
       "1     17.8  396.90   9.14  \n",
       "2     17.8  392.83   4.03  \n",
       "3     18.7  394.63   2.94  \n",
       "4     18.7  396.90   5.33  "
      ]
     },
     "execution_count": 6,
     "metadata": {},
     "output_type": "execute_result"
    }
   ],
   "source": [
    "# creating dataframe of dataset\n",
    "df = pd.DataFrame(data, columns=feature_names)\n",
    "df.head()"
   ]
  },
  {
   "cell_type": "code",
   "execution_count": 7,
   "metadata": {},
   "outputs": [
    {
     "data": {
      "text/html": [
       "<div>\n",
       "<style scoped>\n",
       "    .dataframe tbody tr th:only-of-type {\n",
       "        vertical-align: middle;\n",
       "    }\n",
       "\n",
       "    .dataframe tbody tr th {\n",
       "        vertical-align: top;\n",
       "    }\n",
       "\n",
       "    .dataframe thead th {\n",
       "        text-align: right;\n",
       "    }\n",
       "</style>\n",
       "<table border=\"1\" class=\"dataframe\">\n",
       "  <thead>\n",
       "    <tr style=\"text-align: right;\">\n",
       "      <th></th>\n",
       "      <th>CRIM</th>\n",
       "      <th>ZN</th>\n",
       "      <th>INDUS</th>\n",
       "      <th>CHAS</th>\n",
       "      <th>NOX</th>\n",
       "      <th>RM</th>\n",
       "      <th>AGE</th>\n",
       "      <th>DIS</th>\n",
       "      <th>RAD</th>\n",
       "      <th>TAX</th>\n",
       "      <th>PTRATIO</th>\n",
       "      <th>B</th>\n",
       "      <th>LSTAT</th>\n",
       "      <th>PRICE</th>\n",
       "    </tr>\n",
       "  </thead>\n",
       "  <tbody>\n",
       "    <tr>\n",
       "      <th>0</th>\n",
       "      <td>0.00632</td>\n",
       "      <td>18.0</td>\n",
       "      <td>2.31</td>\n",
       "      <td>0.0</td>\n",
       "      <td>0.538</td>\n",
       "      <td>6.575</td>\n",
       "      <td>65.2</td>\n",
       "      <td>4.0900</td>\n",
       "      <td>1.0</td>\n",
       "      <td>296.0</td>\n",
       "      <td>15.3</td>\n",
       "      <td>396.90</td>\n",
       "      <td>4.98</td>\n",
       "      <td>24.0</td>\n",
       "    </tr>\n",
       "    <tr>\n",
       "      <th>1</th>\n",
       "      <td>0.02731</td>\n",
       "      <td>0.0</td>\n",
       "      <td>7.07</td>\n",
       "      <td>0.0</td>\n",
       "      <td>0.469</td>\n",
       "      <td>6.421</td>\n",
       "      <td>78.9</td>\n",
       "      <td>4.9671</td>\n",
       "      <td>2.0</td>\n",
       "      <td>242.0</td>\n",
       "      <td>17.8</td>\n",
       "      <td>396.90</td>\n",
       "      <td>9.14</td>\n",
       "      <td>21.6</td>\n",
       "    </tr>\n",
       "    <tr>\n",
       "      <th>2</th>\n",
       "      <td>0.02729</td>\n",
       "      <td>0.0</td>\n",
       "      <td>7.07</td>\n",
       "      <td>0.0</td>\n",
       "      <td>0.469</td>\n",
       "      <td>7.185</td>\n",
       "      <td>61.1</td>\n",
       "      <td>4.9671</td>\n",
       "      <td>2.0</td>\n",
       "      <td>242.0</td>\n",
       "      <td>17.8</td>\n",
       "      <td>392.83</td>\n",
       "      <td>4.03</td>\n",
       "      <td>34.7</td>\n",
       "    </tr>\n",
       "    <tr>\n",
       "      <th>3</th>\n",
       "      <td>0.03237</td>\n",
       "      <td>0.0</td>\n",
       "      <td>2.18</td>\n",
       "      <td>0.0</td>\n",
       "      <td>0.458</td>\n",
       "      <td>6.998</td>\n",
       "      <td>45.8</td>\n",
       "      <td>6.0622</td>\n",
       "      <td>3.0</td>\n",
       "      <td>222.0</td>\n",
       "      <td>18.7</td>\n",
       "      <td>394.63</td>\n",
       "      <td>2.94</td>\n",
       "      <td>33.4</td>\n",
       "    </tr>\n",
       "    <tr>\n",
       "      <th>4</th>\n",
       "      <td>0.06905</td>\n",
       "      <td>0.0</td>\n",
       "      <td>2.18</td>\n",
       "      <td>0.0</td>\n",
       "      <td>0.458</td>\n",
       "      <td>7.147</td>\n",
       "      <td>54.2</td>\n",
       "      <td>6.0622</td>\n",
       "      <td>3.0</td>\n",
       "      <td>222.0</td>\n",
       "      <td>18.7</td>\n",
       "      <td>396.90</td>\n",
       "      <td>5.33</td>\n",
       "      <td>36.2</td>\n",
       "    </tr>\n",
       "  </tbody>\n",
       "</table>\n",
       "</div>"
      ],
      "text/plain": [
       "      CRIM    ZN  INDUS  CHAS    NOX     RM   AGE     DIS  RAD    TAX  \\\n",
       "0  0.00632  18.0   2.31   0.0  0.538  6.575  65.2  4.0900  1.0  296.0   \n",
       "1  0.02731   0.0   7.07   0.0  0.469  6.421  78.9  4.9671  2.0  242.0   \n",
       "2  0.02729   0.0   7.07   0.0  0.469  7.185  61.1  4.9671  2.0  242.0   \n",
       "3  0.03237   0.0   2.18   0.0  0.458  6.998  45.8  6.0622  3.0  222.0   \n",
       "4  0.06905   0.0   2.18   0.0  0.458  7.147  54.2  6.0622  3.0  222.0   \n",
       "\n",
       "   PTRATIO       B  LSTAT  PRICE  \n",
       "0     15.3  396.90   4.98   24.0  \n",
       "1     17.8  396.90   9.14   21.6  \n",
       "2     17.8  392.83   4.03   34.7  \n",
       "3     18.7  394.63   2.94   33.4  \n",
       "4     18.7  396.90   5.33   36.2  "
      ]
     },
     "execution_count": 7,
     "metadata": {},
     "output_type": "execute_result"
    }
   ],
   "source": [
    "# adding target variable to the dataframe\n",
    "df['PRICE'] = target\n",
    "df.head()"
   ]
  },
  {
   "cell_type": "code",
   "execution_count": 8,
   "metadata": {},
   "outputs": [
    {
     "name": "stdout",
     "output_type": "stream",
     "text": [
      "<class 'pandas.core.frame.DataFrame'>\n",
      "RangeIndex: 506 entries, 0 to 505\n",
      "Data columns (total 14 columns):\n",
      "CRIM       506 non-null float64\n",
      "ZN         506 non-null float64\n",
      "INDUS      506 non-null float64\n",
      "CHAS       506 non-null float64\n",
      "NOX        506 non-null float64\n",
      "RM         506 non-null float64\n",
      "AGE        506 non-null float64\n",
      "DIS        506 non-null float64\n",
      "RAD        506 non-null float64\n",
      "TAX        506 non-null float64\n",
      "PTRATIO    506 non-null float64\n",
      "B          506 non-null float64\n",
      "LSTAT      506 non-null float64\n",
      "PRICE      506 non-null float64\n",
      "dtypes: float64(14)\n",
      "memory usage: 55.4 KB\n"
     ]
    }
   ],
   "source": [
    "df.info()"
   ]
  },
  {
   "cell_type": "code",
   "execution_count": 9,
   "metadata": {},
   "outputs": [
    {
     "data": {
      "text/plain": [
       "CRIM       0\n",
       "ZN         0\n",
       "INDUS      0\n",
       "CHAS       0\n",
       "NOX        0\n",
       "RM         0\n",
       "AGE        0\n",
       "DIS        0\n",
       "RAD        0\n",
       "TAX        0\n",
       "PTRATIO    0\n",
       "B          0\n",
       "LSTAT      0\n",
       "PRICE      0\n",
       "dtype: int64"
      ]
     },
     "execution_count": 9,
     "metadata": {},
     "output_type": "execute_result"
    }
   ],
   "source": [
    "# identifying missing values\n",
    "df.isnull().sum()"
   ]
  },
  {
   "cell_type": "markdown",
   "metadata": {},
   "source": [
    "# Exploratory Data Analysis"
   ]
  },
  {
   "cell_type": "code",
   "execution_count": 10,
   "metadata": {},
   "outputs": [
    {
     "data": {
      "text/plain": [
       "LSTAT     -0.737663\n",
       "PTRATIO   -0.507787\n",
       "INDUS     -0.483725\n",
       "TAX       -0.468536\n",
       "NOX       -0.427321\n",
       "CRIM      -0.388305\n",
       "RAD       -0.381626\n",
       "AGE       -0.376955\n",
       "CHAS       0.175260\n",
       "DIS        0.249929\n",
       "B          0.333461\n",
       "ZN         0.360445\n",
       "RM         0.695360\n",
       "PRICE      1.000000\n",
       "Name: PRICE, dtype: float64"
      ]
     },
     "execution_count": 10,
     "metadata": {},
     "output_type": "execute_result"
    }
   ],
   "source": [
    "# identify the correlation that features have with price\n",
    "df.corr()['PRICE'].sort_values()"
   ]
  },
  {
   "cell_type": "markdown",
   "metadata": {},
   "source": [
    "**Notes on correlation:**   \n",
    "\n",
    "* 'LSTAT', the higher the proportion lower class areas, the lower the price will be. (Strong Negative Correlation)  \n",
    "* 'PTRATIO', areas that contain more students than teacher have a negative correlation with house prices  \n",
    "* 'INDUS', higher areas of non-retail business acres have a negative correlation with price   \n",
    "* 'RM', the price of house has a strong positive correlation with the number of rooms in a house "
   ]
  },
  {
   "cell_type": "markdown",
   "metadata": {},
   "source": [
    "#### Lower Class Area analysis with House Price"
   ]
  },
  {
   "cell_type": "code",
   "execution_count": 32,
   "metadata": {},
   "outputs": [
    {
     "data": {
      "image/png": "[encoded data removed]",
      "text/plain": [
       "<Figure size 1080x360 with 2 Axes>"
      ]
     },
     "metadata": {
      "needs_background": "light"
     },
     "output_type": "display_data"
    }
   ],
   "source": [
    "# scatter plot of lower class areas with pricing\n",
    "plt.figure(figsize=(15,5))\n",
    "plt.subplot(1, 2, 1)\n",
    "sns.scatterplot(df['LSTAT'], df['PRICE'])\n",
    "plt.title('Scatterplot showing the relationship between lower class areas and price', \n",
    "          pad=12,\n",
    "          size=13)\n",
    "plt.xlabel('Lower Class Score', labelpad=13, size=12)\n",
    "plt.ylabel('Price', labelpad=13, size=12)\n",
    "\n",
    "# residual plot showing linearity\n",
    "plt.subplot(1, 2, 2)\n",
    "sns.residplot(df['LSTAT'], df['PRICE'])\n",
    "plt.title('Residual plot showing the linearity of lower class areas and price', \n",
    "          pad=12,\n",
    "          size=13)\n",
    "plt.xlabel('Lower Class Score', labelpad=13, size=12)\n",
    "plt.ylabel('Residual, Price', labelpad=10, size=12)\n",
    "\n",
    "plt.tight_layout(w_pad=4)\n",
    "plt.show()"
   ]
  },
  {
   "cell_type": "markdown",
   "metadata": {},
   "source": [
    "### *'LSTAT' seems to have a non-linear relationship with price since datapoints are scatter unevenly around the x axis where resdiuals = 0. This is indicating to more of a polynomial regression model. The Polynomial Regression should be used with Ridge or Lasso regression (regularization penalty) for the best results.*"
   ]
  },
  {
   "cell_type": "markdown",
   "metadata": {},
   "source": [
    "#### Number of Rooms analysis "
   ]
  },
  {
   "cell_type": "code",
   "execution_count": 40,
   "metadata": {},
   "outputs": [
    {
     "data": {
      "image/png": "[encoded data removed]",
      "text/plain": [
       "<Figure size 1080x432 with 2 Axes>"
      ]
     },
     "metadata": {
      "needs_background": "light"
     },
     "output_type": "display_data"
    }
   ],
   "source": [
    "# scatter plot showing relationship between the number room areas and house price\n",
    "plt.figure(figsize=(15,6))\n",
    "plt.subplot(1, 2, 1)\n",
    "sns.scatterplot(df['RM'], df['PRICE'])\n",
    "plt.title('Scatterplot showing the relationship between the number of rooms and price', \n",
    "          pad=12,\n",
    "          size=13)\n",
    "plt.xlabel('Number of Rooms', labelpad=13, size=12)\n",
    "plt.ylabel('Price', labelpad=13, size=12)\n",
    "\n",
    "# residual plot of rooms and price\n",
    "plt.subplot(1, 2, 2)\n",
    "sns.residplot(df['RM'], df['PRICE'])\n",
    "plt.title('Residual plot showing the linearity of the number of rooms and price', \n",
    "          pad=12,\n",
    "          size=13)\n",
    "plt.xlabel('Number of Rooms', labelpad=13, size=12)\n",
    "plt.ylabel('Residual, Price', labelpad=13, size=12)\n",
    "plt.tight_layout(pad=2.5)\n",
    "plt.show()"
   ]
  },
  {
   "cell_type": "markdown",
   "metadata": {},
   "source": [
    "### *'RM' seems to be positively correlated with house price. By analyzing the residual plot, it is evident that a linear relationship exist, however, there are multiple outliers.  Thus, the median-absolute-error will be imperative for evaluation.*"
   ]
  },
  {
   "cell_type": "markdown",
   "metadata": {},
   "source": [
    "####  Charles River Analysis "
   ]
  },
  {
   "cell_type": "code",
   "execution_count": 49,
   "metadata": {},
   "outputs": [
    {
     "data": {
      "image/png": "[encoded data removed]",
      "text/plain": [
       "<Figure size 432x360 with 1 Axes>"
      ]
     },
     "metadata": {
      "needs_background": "light"
     },
     "output_type": "display_data"
    },
    {
     "name": "stdout",
     "output_type": "stream",
     "text": [
      "On the Charles River:  28.44\n",
      "Off the Charles River:  22.0938\n",
      "Difference:  6.3462\n"
     ]
    }
   ],
   "source": [
    "# bar plot showing the amount of houses on and off the Charles River\n",
    "fig, ax1 = plt.subplots(figsize=(6,5))\n",
    "df['CHAS'].value_counts().plot(kind='bar',\n",
    "                              rot=0, \n",
    "                              ax=ax1)\n",
    "ax1.set_xticklabels(['Not On River', 'On River'])\n",
    "ax1.set_xlabel('Riversides', labelpad=10, size=11)\n",
    "ax1.set_ylabel('Value Counts', labelpad=10, size=11)\n",
    "ax1.set_title('Bar graph showing the number of houses on and off the Charles River', pad=10)\n",
    "plt.show()\n",
    "\n",
    "# average prices of house on and off the river\n",
    "\n",
    "# on river dataframe\n",
    "on_river = df[df['CHAS']==1.0]\n",
    "# on river average prices\n",
    "on_river_average = on_river['PRICE'].mean()\n",
    "\n",
    "# off river dataframe\n",
    "off_river = df[df['CHAS']==0.0]\n",
    "# off river prices\n",
    "off_river_average = off_river['PRICE'].mean()\n",
    "\n",
    "# difference between on ands off river housing prices\n",
    "diff = on_river_average - off_river_average\n",
    "\n",
    "print('On the Charles River: ', round(on_river_average,4))\n",
    "print('Off the Charles River: ', round(off_river_average, 4))\n",
    "print('Difference: ', round(diff,4))"
   ]
  },
  {
   "cell_type": "markdown",
   "metadata": {},
   "source": [
    "# Building the linear regression model"
   ]
  },
  {
   "cell_type": "code",
   "execution_count": 50,
   "metadata": {},
   "outputs": [],
   "source": [
    "# importing necessary libraries\n",
    "from sklearn.model_selection import train_test_split\n",
    "from sklearn.linear_model import LinearRegression\n",
    "from sklearn.metrics import r2_score, mean_squared_error, mean_absolute_error, median_absolute_error"
   ]
  },
  {
   "cell_type": "markdown",
   "metadata": {},
   "source": [
    "### Feature Selection"
   ]
  },
  {
   "cell_type": "code",
   "execution_count": 51,
   "metadata": {},
   "outputs": [
    {
     "name": "stdout",
     "output_type": "stream",
     "text": [
      "(506, 13)\n",
      "(506,)\n"
     ]
    }
   ],
   "source": [
    "# features \n",
    "X = df.drop(columns=['PRICE'])\n",
    "# target\n",
    "Y = df['PRICE']\n",
    "\n",
    "print(X.shape)\n",
    "print(Y.shape)"
   ]
  },
  {
   "cell_type": "markdown",
   "metadata": {},
   "source": [
    "### Splitting data for training and testing sets"
   ]
  },
  {
   "cell_type": "code",
   "execution_count": 52,
   "metadata": {},
   "outputs": [
    {
     "name": "stdout",
     "output_type": "stream",
     "text": [
      "(379, 13) (379,)\n",
      "(127, 13) (127,)\n"
     ]
    }
   ],
   "source": [
    "# splitting data\n",
    "x_train, x_test, y_train, y_test = train_test_split(X, Y, test_size=0.25, random_state=0)\n",
    "\n",
    "# showing shape of training and testing data\n",
    "print(x_train.shape, y_train.shape)\n",
    "print(x_test.shape, y_test.shape)"
   ]
  },
  {
   "cell_type": "markdown",
   "metadata": {},
   "source": [
    "## Linear Regression Model"
   ]
  },
  {
   "cell_type": "code",
   "execution_count": 54,
   "metadata": {},
   "outputs": [
    {
     "data": {
      "text/html": [
       "<div>\n",
       "<style scoped>\n",
       "    .dataframe tbody tr th:only-of-type {\n",
       "        vertical-align: middle;\n",
       "    }\n",
       "\n",
       "    .dataframe tbody tr th {\n",
       "        vertical-align: top;\n",
       "    }\n",
       "\n",
       "    .dataframe thead th {\n",
       "        text-align: right;\n",
       "    }\n",
       "</style>\n",
       "<table border=\"1\" class=\"dataframe\">\n",
       "  <thead>\n",
       "    <tr style=\"text-align: right;\">\n",
       "      <th></th>\n",
       "      <th>Test Set</th>\n",
       "      <th>Predictions</th>\n",
       "    </tr>\n",
       "  </thead>\n",
       "  <tbody>\n",
       "    <tr>\n",
       "      <th>0</th>\n",
       "      <td>22.6</td>\n",
       "      <td>24.952333</td>\n",
       "    </tr>\n",
       "    <tr>\n",
       "      <th>1</th>\n",
       "      <td>50.0</td>\n",
       "      <td>23.616997</td>\n",
       "    </tr>\n",
       "    <tr>\n",
       "      <th>2</th>\n",
       "      <td>23.0</td>\n",
       "      <td>29.205886</td>\n",
       "    </tr>\n",
       "    <tr>\n",
       "      <th>3</th>\n",
       "      <td>8.3</td>\n",
       "      <td>11.960705</td>\n",
       "    </tr>\n",
       "    <tr>\n",
       "      <th>4</th>\n",
       "      <td>21.2</td>\n",
       "      <td>21.333620</td>\n",
       "    </tr>\n",
       "  </tbody>\n",
       "</table>\n",
       "</div>"
      ],
      "text/plain": [
       "   Test Set  Predictions\n",
       "0      22.6    24.952333\n",
       "1      50.0    23.616997\n",
       "2      23.0    29.205886\n",
       "3       8.3    11.960705\n",
       "4      21.2    21.333620"
      ]
     },
     "execution_count": 54,
     "metadata": {},
     "output_type": "execute_result"
    }
   ],
   "source": [
    "# linear regression object fitted with training data\n",
    "linreg = LinearRegression().fit(x_train, y_train)\n",
    "# prediction\n",
    "yhat = linreg.predict(x_test)\n",
    "\n",
    "# storing results in dataframe\n",
    "results = pd.DataFrame({'Test Set':y_test, \n",
    "                        'Predictions': yhat})\n",
    "results.reset_index(drop=True, inplace=True)\n",
    "results.head(5)"
   ]
  },
  {
   "cell_type": "markdown",
   "metadata": {},
   "source": [
    "#### Linear Model Evaluation"
   ]
  },
  {
   "cell_type": "code",
   "execution_count": 56,
   "metadata": {},
   "outputs": [
    {
     "name": "stdout",
     "output_type": "stream",
     "text": [
      "R2 score:  63.5464\n",
      "Mean squared error:  29.7822\n",
      "Mean absolute error:  3.6683\n",
      "Median absolute error:  2.6206\n"
     ]
    }
   ],
   "source": [
    "# r2 score (test accuracy)\n",
    "r2 = round(r2_score(y_test, yhat) * 100, 4)\n",
    "\n",
    "# mean-square-error\n",
    "mse = round(mean_squared_error(y_test, yhat), 4)\n",
    "\n",
    "# mean-absolute error\n",
    "mae = round(mean_absolute_error(y_test, yhat), 4)\n",
    "\n",
    "# median absolute error\n",
    "med_abs_error = round(median_absolute_error(y_test, yhat), 4)\n",
    "\n",
    "print('R2 score: ', r2)\n",
    "print('Mean squared error: ', mse)\n",
    "print('Mean absolute error: ', mae)\n",
    "print('Median absolute error: ', med_abs_error)"
   ]
  },
  {
   "cell_type": "markdown",
   "metadata": {},
   "source": [
    "## Note on Linear Model  \n",
    "\n",
    "The Model has not performed optimally since the r2 score (test accuracy) is at a relatively average score. The mean squared error is also slightly higher than what can be achieved, thus indicating that either a polynomial regression or better feature selection will be needed. "
   ]
  },
  {
   "cell_type": "markdown",
   "metadata": {},
   "source": [
    "# Polynomial Regression"
   ]
  },
  {
   "cell_type": "code",
   "execution_count": 57,
   "metadata": {},
   "outputs": [],
   "source": [
    "# importing necessary library\n",
    "from sklearn.preprocessing import PolynomialFeatures, MinMaxScaler\n",
    "# ridge and lasso regressions\n",
    "from sklearn.linear_model import Lasso, Ridge"
   ]
  },
  {
   "cell_type": "markdown",
   "metadata": {},
   "source": [
    "#### Transform features"
   ]
  },
  {
   "cell_type": "code",
   "execution_count": 58,
   "metadata": {},
   "outputs": [],
   "source": [
    "# polynomial object \n",
    "poly = PolynomialFeatures(degree=2)\n",
    "# fitting and transforming features\n",
    "x_poly = poly.fit_transform(X)"
   ]
  },
  {
   "cell_type": "markdown",
   "metadata": {},
   "source": [
    "#### Splitting transformed features"
   ]
  },
  {
   "cell_type": "code",
   "execution_count": 60,
   "metadata": {},
   "outputs": [
    {
     "name": "stdout",
     "output_type": "stream",
     "text": [
      "(379, 105) (379,)\n",
      "(127, 105) (127,)\n"
     ]
    }
   ],
   "source": [
    "# splitting data set\n",
    "x_train, x_test, y_train, y_test = train_test_split(x_poly, Y, test_size=0.25, random_state=0)\n",
    "# showing shape of training and testing data\n",
    "print(x_train.shape, y_train.shape)\n",
    "print(x_test.shape, y_test.shape)"
   ]
  },
  {
   "cell_type": "markdown",
   "metadata": {},
   "source": [
    "### Using polynomial features with Ridge and Lasso Regression for best accuracy    \n",
    "\n",
    "  \n",
    "  \n",
    "1) Scale features using MinMaxScaler  \n",
    "2) Find best alhpa and compare scores"
   ]
  },
  {
   "cell_type": "markdown",
   "metadata": {},
   "source": [
    "#### Scaling using MinMaxScaler"
   ]
  },
  {
   "cell_type": "code",
   "execution_count": 62,
   "metadata": {},
   "outputs": [],
   "source": [
    "# scale object\n",
    "scale = MinMaxScaler()\n",
    "# fit and transform training features\n",
    "x_train_scaled = scale.fit_transform(x_train)\n",
    "# transforming testing features\n",
    "x_test_scaled = scale.transform(x_test)"
   ]
  },
  {
   "cell_type": "markdown",
   "metadata": {},
   "source": [
    "### Ridge Regression on Polynomial Features"
   ]
  },
  {
   "cell_type": "code",
   "execution_count": 63,
   "metadata": {},
   "outputs": [
    {
     "name": "stdout",
     "output_type": "stream",
     "text": [
      "\n",
      "\n",
      "Alpha:  0.005\n",
      "\n",
      "R2 score:  66.2993\n",
      "Mean squared error:  27.5332\n",
      "Mean absolute error:  2.9811\n",
      "Median absolute error:  1.8399\n",
      "\n",
      "\n",
      "Alpha:  0.01\n",
      "\n",
      "R2 score:  69.5003\n",
      "Mean squared error:  24.9179\n",
      "Mean absolute error:  2.9499\n",
      "Median absolute error:  1.8638\n",
      "\n",
      "\n",
      "Alpha:  0.5\n",
      "\n",
      "R2 score:  75.1451\n",
      "Mean squared error:  20.3062\n",
      "Mean absolute error:  3.0542\n",
      "Median absolute error:  2.09\n",
      "\n",
      "\n",
      "Alpha:  1\n",
      "\n",
      "R2 score:  72.9165\n",
      "Mean squared error:  22.127\n",
      "Mean absolute error:  3.2139\n",
      "Median absolute error:  2.3638\n",
      "\n",
      "\n",
      "Alpha:  5\n",
      "\n",
      "R2 score:  67.057\n",
      "Mean squared error:  26.9141\n",
      "Mean absolute error:  3.5522\n",
      "Median absolute error:  2.4646\n"
     ]
    }
   ],
   "source": [
    "# ridge regression, finding best alpha\n",
    "for a in [0.005, 0.01, 0.5, 1, 5]:\n",
    "    \n",
    "    # ridge object fitted with the scaled training data\n",
    "    ridge = Ridge(alpha=a, max_iter=10000).fit(x_train_scaled, y_train)\n",
    "    # predictions\n",
    "    yhat = ridge.predict(x_test_scaled)\n",
    "    # metrics for evaluation\n",
    "    print('\\n\\nAlpha: ', a)\n",
    "    print('\\nR2 score: ', round(r2_score(y_test, yhat) * 100, 4))\n",
    "    print('Mean squared error: ', round(mean_squared_error(y_test, yhat), 4))\n",
    "    print('Mean absolute error: ', round(mean_absolute_error(y_test, yhat), 4))\n",
    "    print('Median absolute error: ', round(median_absolute_error(y_test, yhat), 4))"
   ]
  },
  {
   "cell_type": "markdown",
   "metadata": {},
   "source": [
    "### The ridge regression model performs optimally when alpha = 0.5.   \n",
    "\n",
    "Metrics are:  \n",
    "\n",
    "* R2 score:  75.1451  \n",
    "* Mean squared error:  20.3062  \n",
    "* Mean absolute error:  3.0542  \n",
    "* Median absolute error:  2.09  "
   ]
  },
  {
   "cell_type": "markdown",
   "metadata": {},
   "source": [
    "#### Final Ridge Model"
   ]
  },
  {
   "cell_type": "code",
   "execution_count": 64,
   "metadata": {},
   "outputs": [],
   "source": [
    "# build final ridge \n",
    "ridge = Ridge(alpha=0.5, max_iter=10000).fit(x_train_scaled, y_train)\n",
    "# predictions\n",
    "yhat_ridge = ridge.predict(x_test_scaled)\n",
    "# metrics\n",
    "r2_ridge = round(r2_score(y_test, yhat_ridge) * 100, 4)\n",
    "mse_ridge = round(mean_squared_error(y_test, yhat_ridge), 4)\n",
    "mae_ridge = round(mean_absolute_error(y_test, yhat_ridge), 4)\n",
    "med_abs_err_ridge = round(median_absolute_error(y_test, yhat_ridge), 4)"
   ]
  },
  {
   "cell_type": "markdown",
   "metadata": {},
   "source": [
    "### Lasso Regression on Polynomial Features"
   ]
  },
  {
   "cell_type": "code",
   "execution_count": 65,
   "metadata": {},
   "outputs": [
    {
     "name": "stdout",
     "output_type": "stream",
     "text": [
      "\n",
      "\n",
      "Alpha:  0.005\n",
      "\n",
      "R2 score:  77.441\n",
      "Mean squared error:  18.4305\n",
      "Mean absolute error:  2.8722\n",
      "Median absolute error:  2.0163\n",
      "\n",
      "\n",
      "Alpha:  0.01\n",
      "\n",
      "R2 score:  76.7388\n",
      "Mean squared error:  19.0042\n",
      "Mean absolute error:  2.9354\n",
      "Median absolute error:  2.2067\n",
      "\n",
      "\n",
      "Alpha:  0.5\n",
      "\n",
      "R2 score:  46.9329\n",
      "Mean squared error:  43.3553\n",
      "Mean absolute error:  4.4388\n",
      "Median absolute error:  2.9442\n",
      "\n",
      "\n",
      "Alpha:  1\n",
      "\n",
      "R2 score:  26.3211\n",
      "Mean squared error:  60.1949\n",
      "Mean absolute error:  5.2909\n",
      "Median absolute error:  3.7518\n",
      "\n",
      "\n",
      "Alpha:  5\n",
      "\n",
      "R2 score:  -0.1119\n",
      "Mean squared error:  81.7905\n",
      "Mean absolute error:  6.2628\n",
      "Median absolute error:  4.0087\n"
     ]
    }
   ],
   "source": [
    "# lasso regression, finding best alpha\n",
    "for a in [0.005 ,0.01, 0.5, 1, 5]:\n",
    "    \n",
    "    # lasso object fitted with scaled training data\n",
    "    lasso = Lasso(alpha=a, max_iter=10000).fit(x_train_scaled, y_train)\n",
    "    # preditions\n",
    "    yhat = lasso.predict(x_test_scaled)\n",
    "    # metrics for evaluation\n",
    "    print('\\n\\nAlpha: ', a)\n",
    "    print('\\nR2 score: ', round(r2_score(y_test, yhat) * 100, 4))\n",
    "    print('Mean squared error: ', round(mean_squared_error(y_test, yhat), 4))\n",
    "    print('Mean absolute error: ', round(mean_absolute_error(y_test, yhat), 4))\n",
    "    print('Median absolute error: ', round(median_absolute_error(y_test, yhat), 4))"
   ]
  },
  {
   "cell_type": "markdown",
   "metadata": {},
   "source": [
    "### The lasso regression model performs optimally when alhpa = 0.005.  \n",
    " \n",
    "Metrics are:  \n",
    "\n",
    "* R2 score:  77.441  \n",
    "* Mean squared error:  18.4305  \n",
    "* Mean absolute error:  2.8722  \n",
    "* Median absolute error:  2.0163  "
   ]
  },
  {
   "cell_type": "markdown",
   "metadata": {},
   "source": [
    "#### Final Lasso Model"
   ]
  },
  {
   "cell_type": "code",
   "execution_count": 66,
   "metadata": {},
   "outputs": [],
   "source": [
    "# build final ridge \n",
    "lasso = Lasso(alpha=0.005, max_iter=10000).fit(x_train_scaled, y_train)\n",
    "# predictions\n",
    "yhat_lasso = lasso.predict(x_test_scaled)\n",
    "# metrics\n",
    "r2_lasso = round(r2_score(y_test, yhat_lasso) * 100, 4)\n",
    "mse_lasso = round(mean_squared_error(y_test, yhat_lasso), 4)\n",
    "mae_lasso = round(mean_absolute_error(y_test, yhat_lasso), 4)\n",
    "med_abs_err_lasso = round(median_absolute_error(y_test, yhat_lasso), 4)"
   ]
  },
  {
   "cell_type": "markdown",
   "metadata": {},
   "source": [
    "## Comparing Ridge vs Lasso"
   ]
  },
  {
   "cell_type": "code",
   "execution_count": 73,
   "metadata": {},
   "outputs": [
    {
     "data": {
      "text/html": [
       "<div>\n",
       "<style scoped>\n",
       "    .dataframe tbody tr th:only-of-type {\n",
       "        vertical-align: middle;\n",
       "    }\n",
       "\n",
       "    .dataframe tbody tr th {\n",
       "        vertical-align: top;\n",
       "    }\n",
       "\n",
       "    .dataframe thead th {\n",
       "        text-align: right;\n",
       "    }\n",
       "</style>\n",
       "<table border=\"1\" class=\"dataframe\">\n",
       "  <thead>\n",
       "    <tr style=\"text-align: right;\">\n",
       "      <th></th>\n",
       "      <th>Ridge</th>\n",
       "      <th>Lasso</th>\n",
       "    </tr>\n",
       "  </thead>\n",
       "  <tbody>\n",
       "    <tr>\n",
       "      <th>R2</th>\n",
       "      <td>75.1451</td>\n",
       "      <td>77.4410</td>\n",
       "    </tr>\n",
       "    <tr>\n",
       "      <th>MSE</th>\n",
       "      <td>20.3062</td>\n",
       "      <td>18.4305</td>\n",
       "    </tr>\n",
       "    <tr>\n",
       "      <th>MAE</th>\n",
       "      <td>3.0542</td>\n",
       "      <td>2.8722</td>\n",
       "    </tr>\n",
       "    <tr>\n",
       "      <th>Median AE</th>\n",
       "      <td>2.0900</td>\n",
       "      <td>2.0163</td>\n",
       "    </tr>\n",
       "  </tbody>\n",
       "</table>\n",
       "</div>"
      ],
      "text/plain": [
       "             Ridge    Lasso\n",
       "R2         75.1451  77.4410\n",
       "MSE        20.3062  18.4305\n",
       "MAE         3.0542   2.8722\n",
       "Median AE   2.0900   2.0163"
      ]
     },
     "execution_count": 73,
     "metadata": {},
     "output_type": "execute_result"
    }
   ],
   "source": [
    "# creating dataframe for easy comparisons\n",
    "new_df = pd.DataFrame({'Ridge': [r2_ridge, mse_ridge, mae_ridge, med_abs_err_ridge],\n",
    "                      'Lasso': [r2_lasso, mse_lasso, mae_lasso, med_abs_err_lasso]}, \n",
    "                     index=['R2', 'MSE', 'MAE', 'Median AE'])\n",
    "new_df"
   ]
  },
  {
   "cell_type": "markdown",
   "metadata": {},
   "source": [
    "# Conclusion  \n",
    "\n",
    "Following the requirements, the model that had to be created would have a high accuracy, low median absolute error, as well as low mean squared and mean absolute errors. This is achieved by fitting the data with Polynomial Features and then applying a Lasso Regression Model to the data.  \n",
    "\n",
    "Metrics on Final Lasso Regression Model:  \n",
    "\n",
    "* R2 score: 77.441\n",
    "* Mean squared error: 18.4305\n",
    "* Mean absolute error: 2.8722\n",
    "* Median absolute error: 2.0163  "
   ]
  }
 ],
 "metadata": {
  "kernelspec": {
   "display_name": "Python 3",
   "language": "python",
   "name": "python3"
  },
  "language_info": {
   "codemirror_mode": {
    "name": "ipython",
    "version": 3
   },
   "file_extension": ".py",
   "mimetype": "text/x-python",
   "name": "python",
   "nbconvert_exporter": "python",
   "pygments_lexer": "ipython3",
   "version": "3.7.3"
  }
 },
 "nbformat": 4,
 "nbformat_minor": 2
}
